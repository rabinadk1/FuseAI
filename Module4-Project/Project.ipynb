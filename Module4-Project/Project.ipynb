{
 "cells": [
  {
   "cell_type": "markdown",
   "metadata": {
    "deletable": false,
    "editable": false,
    "nbgrader": {
     "checksum": "0c0a260a35e8ae46c5f8875a7aa00a46",
     "grade": false,
     "grade_id": "cell-5e24bba42aa91787",
     "locked": true,
     "schema_version": 1,
     "solution": false
    }
   },
   "source": [
    "## Nepali Character Recognition\n",
    "***<div style=\"text-align: right\">[TOTAL SCORE: 20]</div>***\n",
    "\n",
    "For this project, we are going to implement Nepali Character Recognition. The dataset is provided in the path: ./consonants. The final model needs to recognize the 36 consonants of the nepali alphabets (क,ख,ग....ज्ञ). We have taken the dataset from [here](https://www.kaggle.com/ashokpant/devanagari-character-dataset). You can explore more with the data, however, for this assignment you need to classify only the 36 characters."
   ]
  },
  {
   "cell_type": "markdown",
   "metadata": {
    "deletable": false,
    "editable": false,
    "nbgrader": {
     "checksum": "1aafb94dd8d1c30557472534e8190d79",
     "grade": false,
     "grade_id": "cell-33d2de317307e48e",
     "locked": true,
     "schema_version": 1,
     "solution": false
    }
   },
   "source": [
    "Let us first import the packages."
   ]
  },
  {
   "cell_type": "code",
   "execution_count": 1,
   "metadata": {
    "deletable": false,
    "nbgrader": {
     "checksum": "54f89f218ec6d18df9f06761af3b7c62",
     "grade": false,
     "grade_id": "cell-b0131c3f108e558c",
     "locked": false,
     "schema_version": 1,
     "solution": true
    }
   },
   "outputs": [
    {
     "name": "stderr",
     "output_type": "stream",
     "text": [
      "Using TensorFlow backend.\n"
     ]
    }
   ],
   "source": [
    "import numpy as np\n",
    "import matplotlib.pyplot as plt\n",
    "import os\n",
    "# import cv2\n",
    "%matplotlib inline\n",
    "\n",
    "### Import any other libraries as required\n",
    "# YOUR CODE HERE\n",
    "import pandas as pd\n",
    "from sklearn.preprocessing import LabelEncoder, OneHotEncoder\n",
    "from keras.models import Sequential\n",
    "from keras.layers import Conv2D, MaxPooling2D, BatchNormalization, Flatten, Dense, Dropout\n",
    "from keras.callbacks import ModelCheckpoint, EarlyStopping\n",
    "# raise NotImplementedError()"
   ]
  },
  {
   "cell_type": "markdown",
   "metadata": {
    "deletable": false,
    "editable": false,
    "nbgrader": {
     "checksum": "0a359d1f1df0fbd3f5179530cadf106b",
     "grade": false,
     "grade_id": "cell-0dba8129776bfed3",
     "locked": true,
     "schema_version": 1,
     "solution": false
    }
   },
   "source": [
    "We need to classify 36 characters."
   ]
  },
  {
   "cell_type": "code",
   "execution_count": 2,
   "metadata": {},
   "outputs": [],
   "source": [
    "CATEGORIES = [\"क\",\"ख\",\"ग\",\"घ\",\"ङ\",\"च\",\"छ\",\"ज\",\"झ\",\"ञ\",\"ट\",\"ठ\",\"ड\",\"ढ\",\"ण\",\"त\",\"थ\",\"द\",\"ध\",\"न\",\"प\",\"फ\",\"ब\",\"भ\",\"म\",\"य\",\"र\",\"ल\",\"व\",\"श\",\"ष\",\"स\",\"ह\",\"क्ष\",\"त्र\",\"ज्ञ\"]"
   ]
  },
  {
   "cell_type": "markdown",
   "metadata": {
    "deletable": false,
    "editable": false,
    "nbgrader": {
     "checksum": "6d1755d68748cdd5604fa47004e04b54",
     "grade": false,
     "grade_id": "cell-357c7ad3cb141487",
     "locked": true,
     "schema_version": 1,
     "solution": false
    }
   },
   "source": [
    "### Exercise 1:  Loading, Resizing and Viewing Images\n",
    "***<div style=\"text-align: right\">[SCORE: 1]</div>***\n",
    "\n",
    "1. Read the dataset.pickle to data\n",
    "2. Explore the dataset\n",
    "\n",
    "The data consist of 30 X 30 Resized images"
   ]
  },
  {
   "cell_type": "code",
   "execution_count": 3,
   "metadata": {
    "deletable": false,
    "nbgrader": {
     "checksum": "ce05ca5d6b047c56aa8553d30b32f1ae",
     "grade": false,
     "grade_id": "cell-5a4a1ee20e2e6915",
     "locked": false,
     "schema_version": 1,
     "solution": true
    }
   },
   "outputs": [
    {
     "data": {
      "text/html": [
       "<div>\n",
       "<style scoped>\n",
       "    .dataframe tbody tr th:only-of-type {\n",
       "        vertical-align: middle;\n",
       "    }\n",
       "\n",
       "    .dataframe tbody tr th {\n",
       "        vertical-align: top;\n",
       "    }\n",
       "\n",
       "    .dataframe thead th {\n",
       "        text-align: right;\n",
       "    }\n",
       "</style>\n",
       "<table border=\"1\" class=\"dataframe\">\n",
       "  <thead>\n",
       "    <tr style=\"text-align: right;\">\n",
       "      <th></th>\n",
       "      <th>image</th>\n",
       "      <th>label</th>\n",
       "    </tr>\n",
       "  </thead>\n",
       "  <tbody>\n",
       "    <tr>\n",
       "      <th>0</th>\n",
       "      <td>[[255, 248, 253, 255, 251, 253, 254, 236, 220,...</td>\n",
       "      <td>क</td>\n",
       "    </tr>\n",
       "    <tr>\n",
       "      <th>1</th>\n",
       "      <td>[[253, 253, 254, 240, 249, 250, 246, 250, 255,...</td>\n",
       "      <td>क</td>\n",
       "    </tr>\n",
       "    <tr>\n",
       "      <th>2</th>\n",
       "      <td>[[212, 202, 157, 120, 104, 53, 21, 91, 183, 20...</td>\n",
       "      <td>क</td>\n",
       "    </tr>\n",
       "    <tr>\n",
       "      <th>3</th>\n",
       "      <td>[[255, 251, 247, 246, 249, 253, 255, 255, 255,...</td>\n",
       "      <td>क</td>\n",
       "    </tr>\n",
       "    <tr>\n",
       "      <th>4</th>\n",
       "      <td>[[247, 254, 243, 243, 241, 232, 213, 216, 235,...</td>\n",
       "      <td>क</td>\n",
       "    </tr>\n",
       "  </tbody>\n",
       "</table>\n",
       "</div>"
      ],
      "text/plain": [
       "                                               image label\n",
       "0  [[255, 248, 253, 255, 251, 253, 254, 236, 220,...     क\n",
       "1  [[253, 253, 254, 240, 249, 250, 246, 250, 255,...     क\n",
       "2  [[212, 202, 157, 120, 104, 53, 21, 91, 183, 20...     क\n",
       "3  [[255, 251, 247, 246, 249, 253, 255, 255, 255,...     क\n",
       "4  [[247, 254, 243, 243, 241, 232, 213, 216, 235,...     क"
      ]
     },
     "execution_count": 3,
     "metadata": {},
     "output_type": "execute_result"
    }
   ],
   "source": [
    "filepath = 'dataset.pickle'\n",
    "data = None\n",
    "# YOUR CODE HERE\n",
    "data = pd.read_pickle(filepath)\n",
    "data = pd.DataFrame(data)\n",
    "data.columns = [\"image\", \"label\"]\n",
    "# print(data[\"label\"].unique())\n",
    "data.head()\n",
    "# raise NotImplementedError()"
   ]
  },
  {
   "cell_type": "code",
   "execution_count": 4,
   "metadata": {
    "deletable": false,
    "editable": false,
    "nbgrader": {
     "checksum": "f81d231592f231d88a299a793a3f20b5",
     "grade": true,
     "grade_id": "cell-ac300cd0e55cb9f9",
     "locked": true,
     "points": 1,
     "schema_version": 1,
     "solution": false
    }
   },
   "outputs": [],
   "source": [
    "#### INTENTIONALLY LEFT BLANK####"
   ]
  },
  {
   "cell_type": "markdown",
   "metadata": {
    "deletable": false,
    "editable": false,
    "nbgrader": {
     "checksum": "c3ac465eb7d698555a8ef7c4a1978b97",
     "grade": false,
     "grade_id": "cell-1f9344480a261a5b",
     "locked": true,
     "schema_version": 1,
     "solution": false
    }
   },
   "source": [
    "### Exercise 2: Normalise the Data\n",
    "***<div style=\"text-align: right\">[SCORE: 2]</div>***\n",
    "\n",
    "- Normalise the Image Pixels\n",
    "- Load all the features(30X30 images) to X and all the targets to y"
   ]
  },
  {
   "cell_type": "code",
   "execution_count": 5,
   "metadata": {},
   "outputs": [],
   "source": [
    "data[\"image\"] = data[\"image\"].apply(lambda X:X.reshape(900))\n",
    "X = data[\"image\"].values\n",
    "empty_x = np.empty(shape = (X.shape[0],30,30))\n",
    "for i in range(0,X.shape[0]):\n",
    "    empty_x[i,:,:] = X[i].reshape((30,30))"
   ]
  },
  {
   "cell_type": "code",
   "execution_count": 6,
   "metadata": {
    "deletable": false,
    "nbgrader": {
     "checksum": "f048894899418d395d85c226921fe007",
     "grade": false,
     "grade_id": "cell-bd8bb474294ae8d8",
     "locked": false,
     "schema_version": 1,
     "solution": true
    }
   },
   "outputs": [],
   "source": [
    "X = None\n",
    "y = None\n",
    "\n",
    "y = data[\"label\"]\n",
    "X = empty_x/255.0;\n",
    "X = X.reshape(*X.shape, 1)\n",
    "# YOUR CODE HERE\n",
    "# raise NotImplementedError()"
   ]
  },
  {
   "cell_type": "code",
   "execution_count": 7,
   "metadata": {
    "deletable": false,
    "editable": false,
    "nbgrader": {
     "checksum": "6781b76c07001d686fcf9088785dedc1",
     "grade": true,
     "grade_id": "cell-ebc3bab84a3075fb",
     "locked": true,
     "points": 2,
     "schema_version": 1,
     "solution": false
    }
   },
   "outputs": [],
   "source": [
    "#### INTENTIONALLY LEFT BLANK####"
   ]
  },
  {
   "cell_type": "markdown",
   "metadata": {
    "deletable": false,
    "editable": false,
    "nbgrader": {
     "checksum": "6a1f59cbbdf02a49fe15a13a2c63028a",
     "grade": false,
     "grade_id": "cell-68e10e18a5cd5bda",
     "locked": true,
     "schema_version": 1,
     "solution": false
    }
   },
   "source": [
    "### Exercise 3: Convert target to one hot encoded variable\n",
    "***<div style=\"text-align: right\">[SCORE: 1]</div>***\n",
    "Convert target to one hot encoded variable"
   ]
  },
  {
   "cell_type": "code",
   "execution_count": 8,
   "metadata": {
    "deletable": false,
    "nbgrader": {
     "checksum": "c0cda2cffaff21bf5fbc0300874cf2b9",
     "grade": false,
     "grade_id": "cell-0e037b6e2da0b5a2",
     "locked": false,
     "schema_version": 1,
     "solution": true
    }
   },
   "outputs": [],
   "source": [
    "Y = None  # encoded Variable\n",
    "# YOUR CODE HERE\n",
    "label_y = LabelEncoder().fit_transform(y)\n",
    "Y = OneHotEncoder(sparse=False).fit_transform(label_y.reshape(-1,1))\n",
    "# raise NotImplementedError()"
   ]
  },
  {
   "cell_type": "code",
   "execution_count": 9,
   "metadata": {
    "deletable": false,
    "editable": false,
    "nbgrader": {
     "checksum": "dc86f24d57112b85a3a8f546a4573e3c",
     "grade": true,
     "grade_id": "cell-fdea512a227c5498",
     "locked": true,
     "points": 1,
     "schema_version": 1,
     "solution": false
    }
   },
   "outputs": [],
   "source": [
    "#### INTENTIONALLY LEFT BLANK####"
   ]
  },
  {
   "cell_type": "markdown",
   "metadata": {
    "deletable": false,
    "editable": false,
    "nbgrader": {
     "checksum": "a5cb2d749752173dcb41ea61e92e52e1",
     "grade": false,
     "grade_id": "cell-11be4484e1a1381a",
     "locked": true,
     "schema_version": 1,
     "solution": false
    }
   },
   "source": [
    "### Exercise 4: Train-Test Split\n",
    "***<div style=\"text-align: right\">[SCORE: 2]</div>***\n",
    "Split the Data into Train and Test, don't forget to shuffle the data as well as stratify while splitting.\n",
    "<br>Use the given random_state and test_size"
   ]
  },
  {
   "cell_type": "code",
   "execution_count": 10,
   "metadata": {
    "deletable": false,
    "nbgrader": {
     "checksum": "f608c903ea6ff7ef6184e10525ee2c87",
     "grade": false,
     "grade_id": "cell-d833f99fb9109702",
     "locked": false,
     "schema_version": 1,
     "solution": true
    }
   },
   "outputs": [],
   "source": [
    "from sklearn.model_selection import train_test_split\n",
    "X_train, X_test, y_train, y_test = None, None,None,None\n",
    "random_state = 2019\n",
    "test_size = 0.33\n",
    "# YOUR CODE HERE\n",
    "IMG_ROWS = IMG_COLS = 30\n",
    "NUM_CLASSES = 36\n",
    "X_train, X_test, y_train, y_test = train_test_split(X, Y, test_size=test_size, random_state=random_state, stratify=y)\n",
    "# raise NotImplementedError()"
   ]
  },
  {
   "cell_type": "code",
   "execution_count": 11,
   "metadata": {
    "deletable": false,
    "editable": false,
    "nbgrader": {
     "checksum": "ec6b4782496d80249b351f7fd0e7476f",
     "grade": true,
     "grade_id": "cell-a586a05953014e30",
     "locked": true,
     "points": 2,
     "schema_version": 1,
     "solution": false
    }
   },
   "outputs": [],
   "source": [
    "#### INTENTIONALLY LEFT BLANK####"
   ]
  },
  {
   "cell_type": "markdown",
   "metadata": {
    "deletable": false,
    "editable": false,
    "nbgrader": {
     "checksum": "7b363eef8093f407791892406bca8d2a",
     "grade": false,
     "grade_id": "cell-e00e73ec083041bb",
     "locked": true,
     "schema_version": 1,
     "solution": false
    }
   },
   "source": [
    "### Exercise 5: Create and Compile your Model\n",
    "***<div style=\"text-align: right\">[SCORE: 4]</div>***\n",
    "Create your network architecture using Keras below and compile it.\n",
    "<br>Don't forget to include Conv2D and MaxPooling\n",
    "<br>Use categorical crossentropy\n"
   ]
  },
  {
   "cell_type": "code",
   "execution_count": 12,
   "metadata": {
    "deletable": false,
    "nbgrader": {
     "checksum": "747cebd54ac2f65cb158aff1940d5937",
     "grade": false,
     "grade_id": "cell-c87086c851c46036",
     "locked": false,
     "schema_version": 1,
     "solution": true
    }
   },
   "outputs": [
    {
     "name": "stdout",
     "output_type": "stream",
     "text": [
      "_________________________________________________________________\n",
      "Layer (type)                 Output Shape              Param #   \n",
      "=================================================================\n",
      "conv2d_1 (Conv2D)            (None, 30, 30, 32)        320       \n",
      "_________________________________________________________________\n",
      "batch_normalization_1 (Batch (None, 30, 30, 32)        128       \n",
      "_________________________________________________________________\n",
      "max_pooling2d_1 (MaxPooling2 (None, 15, 15, 32)        0         \n",
      "_________________________________________________________________\n",
      "dropout_1 (Dropout)          (None, 15, 15, 32)        0         \n",
      "_________________________________________________________________\n",
      "conv2d_2 (Conv2D)            (None, 15, 15, 64)        18496     \n",
      "_________________________________________________________________\n",
      "batch_normalization_2 (Batch (None, 15, 15, 64)        256       \n",
      "_________________________________________________________________\n",
      "conv2d_3 (Conv2D)            (None, 15, 15, 64)        36928     \n",
      "_________________________________________________________________\n",
      "batch_normalization_3 (Batch (None, 15, 15, 64)        256       \n",
      "_________________________________________________________________\n",
      "max_pooling2d_2 (MaxPooling2 (None, 7, 7, 64)          0         \n",
      "_________________________________________________________________\n",
      "dropout_2 (Dropout)          (None, 7, 7, 64)          0         \n",
      "_________________________________________________________________\n",
      "flatten_1 (Flatten)          (None, 3136)              0         \n",
      "_________________________________________________________________\n",
      "dense_1 (Dense)              (None, 512)               1606144   \n",
      "_________________________________________________________________\n",
      "batch_normalization_4 (Batch (None, 512)               2048      \n",
      "_________________________________________________________________\n",
      "dropout_3 (Dropout)          (None, 512)               0         \n",
      "_________________________________________________________________\n",
      "dense_2 (Dense)              (None, 36)                18468     \n",
      "=================================================================\n",
      "Total params: 1,683,044\n",
      "Trainable params: 1,681,700\n",
      "Non-trainable params: 1,344\n",
      "_________________________________________________________________\n"
     ]
    }
   ],
   "source": [
    "model = None\n",
    "\n",
    "# YOUR CODE HERE\n",
    "model = Sequential()\n",
    "model.add(Conv2D(32, (3,3), padding=\"same\", activation=\"relu\", input_shape=(IMG_ROWS, IMG_COLS, 1)))\n",
    "model.add(BatchNormalization()) \n",
    "model.add(MaxPooling2D())\n",
    "model.add(Dropout(0.25))\n",
    "\n",
    "model.add(Conv2D(64, (3, 3), padding=\"same\", activation=\"relu\"))\n",
    "model.add(BatchNormalization())\n",
    "model.add(Conv2D(64, (3, 3), padding=\"same\", activation=\"relu\"))\n",
    "model.add(BatchNormalization())\n",
    "model.add(MaxPooling2D())\n",
    "model.add(Dropout(0.25))\n",
    "\n",
    "model.add(Flatten())\n",
    "model.add(Dense(512, activation=\"relu\"))\n",
    "model.add(BatchNormalization())\n",
    "model.add(Dropout(0.5))\n",
    "\n",
    "model.add(Dense(NUM_CLASSES, activation=\"softmax\"))\n",
    "model.compile(loss=\"categorical_crossentropy\", metrics=[\"accuracy\"], optimizer='adam')\n",
    "model.summary()"
   ]
  },
  {
   "cell_type": "code",
   "execution_count": 13,
   "metadata": {
    "deletable": false,
    "editable": false,
    "nbgrader": {
     "checksum": "6009ecbfd29508fc9829ae08e0606301",
     "grade": true,
     "grade_id": "cell-11a033655ec374a8",
     "locked": true,
     "points": 4,
     "schema_version": 1,
     "solution": false
    }
   },
   "outputs": [],
   "source": [
    "#### INTENTIONALLY LEFT BLANK####"
   ]
  },
  {
   "cell_type": "markdown",
   "metadata": {
    "deletable": false,
    "editable": false,
    "nbgrader": {
     "checksum": "8fcda362fbe9ba653917254bc35e08cd",
     "grade": false,
     "grade_id": "cell-1be09a81ea516f7d",
     "locked": true,
     "schema_version": 1,
     "solution": false
    }
   },
   "source": [
    "### Exercise 5: Setup Callback Functions\n",
    "***<div style=\"text-align: right\">[SCORE: 1]</div>***\n",
    "Save your best model Checkpoint into checkpoint_path\n",
    "<br> You can use other callback functions for early stopping"
   ]
  },
  {
   "cell_type": "code",
   "execution_count": 14,
   "metadata": {
    "deletable": false,
    "nbgrader": {
     "checksum": "a840decc65ea93c4080b81122a094fa6",
     "grade": false,
     "grade_id": "cell-65076e303f5d52b8",
     "locked": false,
     "schema_version": 1,
     "solution": true
    }
   },
   "outputs": [],
   "source": [
    "checkpoint_path = 'best_model.h5'\n",
    "# YOUR CODE HERE\n",
    "callbacks = [EarlyStopping(monitor = 'val_loss', patience = 3),\n",
    "            ModelCheckpoint(checkpoint_path, save_best_only = True, verbose = 1, monitor=\"val_acc\")]"
   ]
  },
  {
   "cell_type": "code",
   "execution_count": 15,
   "metadata": {
    "deletable": false,
    "editable": false,
    "nbgrader": {
     "checksum": "f026e8433c22f78ec0d0a5b1ba8d8d32",
     "grade": true,
     "grade_id": "cell-93c3b74d42fcfe4a",
     "locked": true,
     "points": 1,
     "schema_version": 1,
     "solution": false
    }
   },
   "outputs": [],
   "source": [
    "#### INTENTIONALLY LEFT BLANK####"
   ]
  },
  {
   "cell_type": "markdown",
   "metadata": {
    "deletable": false,
    "editable": false,
    "nbgrader": {
     "checksum": "ae0a498be42f17beb9dfc241a6bbb573",
     "grade": false,
     "grade_id": "cell-9d57a78616414641",
     "locked": true,
     "schema_version": 1,
     "solution": false
    }
   },
   "source": [
    "### Exercise 6: Train your model\n",
    "***<div style=\"text-align: right\">[SCORE: 9]</div>***\n",
    "- Fit your Model saving the best model\n",
    "- Comment out your training section and load your model\n",
    "- Plot the History\n",
    "- Evaluate with the test set created previously\n",
    "<br> Your SCORE depends on your model accuracy"
   ]
  },
  {
   "cell_type": "code",
   "execution_count": 16,
   "metadata": {
    "deletable": false,
    "nbgrader": {
     "checksum": "db02a06ff5f81306c5601fda96f64efc",
     "grade": false,
     "grade_id": "cell-a81e1f36c8f8faad",
     "locked": false,
     "schema_version": 1,
     "solution": true
    }
   },
   "outputs": [
    {
     "name": "stdout",
     "output_type": "stream",
     "text": [
      "Train on 4944 samples, validate on 2436 samples\n",
      "Epoch 1/25\n",
      "4944/4944 [==============================] - 71s 14ms/step - loss: 2.1551 - acc: 0.4221 - val_loss: 0.8879 - val_acc: 0.7410\n",
      "\n",
      "Epoch 00001: val_acc improved from -inf to 0.74097, saving model to best_model.h5\n",
      "Epoch 2/25\n",
      "4944/4944 [==============================] - 70s 14ms/step - loss: 0.9506 - acc: 0.7118 - val_loss: 0.6165 - val_acc: 0.8144\n",
      "\n",
      "Epoch 00002: val_acc improved from 0.74097 to 0.81445, saving model to best_model.h5\n",
      "Epoch 3/25\n",
      "4944/4944 [==============================] - 69s 14ms/step - loss: 0.6615 - acc: 0.7959 - val_loss: 0.6468 - val_acc: 0.8017\n",
      "\n",
      "Epoch 00003: val_acc did not improve from 0.81445\n",
      "Epoch 4/25\n",
      "4944/4944 [==============================] - 68s 14ms/step - loss: 0.5067 - acc: 0.8434 - val_loss: 0.4726 - val_acc: 0.8518\n",
      "\n",
      "Epoch 00004: val_acc improved from 0.81445 to 0.85181, saving model to best_model.h5\n",
      "Epoch 5/25\n",
      "4944/4944 [==============================] - 67s 14ms/step - loss: 0.4109 - acc: 0.8693 - val_loss: 0.6517 - val_acc: 0.7796\n",
      "\n",
      "Epoch 00005: val_acc did not improve from 0.85181\n",
      "Epoch 6/25\n",
      "4944/4944 [==============================] - 68s 14ms/step - loss: 0.3411 - acc: 0.8910 - val_loss: 0.8188 - val_acc: 0.7401\n",
      "\n",
      "Epoch 00006: val_acc did not improve from 0.85181\n",
      "Epoch 7/25\n",
      "4944/4944 [==============================] - 71s 14ms/step - loss: 0.2715 - acc: 0.9110 - val_loss: 0.4001 - val_acc: 0.8838\n",
      "\n",
      "Epoch 00007: val_acc improved from 0.85181 to 0.88383, saving model to best_model.h5\n",
      "Epoch 8/25\n",
      "4944/4944 [==============================] - 70s 14ms/step - loss: 0.2394 - acc: 0.9266 - val_loss: 0.3534 - val_acc: 0.8937\n",
      "\n",
      "Epoch 00008: val_acc improved from 0.88383 to 0.89368, saving model to best_model.h5\n",
      "Epoch 9/25\n",
      "4944/4944 [==============================] - 72s 14ms/step - loss: 0.1960 - acc: 0.9401 - val_loss: 0.4650 - val_acc: 0.8534\n",
      "\n",
      "Epoch 00009: val_acc did not improve from 0.89368\n",
      "Epoch 10/25\n",
      "4944/4944 [==============================] - 71s 14ms/step - loss: 0.1735 - acc: 0.9438 - val_loss: 0.4031 - val_acc: 0.8752\n",
      "\n",
      "Epoch 00010: val_acc did not improve from 0.89368\n",
      "Epoch 11/25\n",
      "4944/4944 [==============================] - 72s 15ms/step - loss: 0.1726 - acc: 0.9432 - val_loss: 0.3543 - val_acc: 0.9015\n",
      "\n",
      "Epoch 00011: val_acc improved from 0.89368 to 0.90148, saving model to best_model.h5\n"
     ]
    }
   ],
   "source": [
    "# Train your model\n",
    "\n",
    "# YOUR CODE HERE\n",
    "NO_EPOCHS = 25\n",
    "BATCH_SIZE = 32\n",
    "# History = model.fit(X_train, y_train, validation_data=(X_test, y_test), batch_size=BATCH_SIZE, epochs=NO_EPOCHS, callbacks=callbacks)"
   ]
  },
  {
   "cell_type": "code",
   "execution_count": 19,
   "metadata": {
    "deletable": false,
    "nbgrader": {
     "checksum": "8bfb51a200219b89bf3a79ab5d739199",
     "grade": false,
     "grade_id": "cell-687c6295a6c069d6",
     "locked": false,
     "schema_version": 1,
     "solution": true
    }
   },
   "outputs": [
    {
     "name": "stdout",
     "output_type": "stream",
     "text": [
      "2436/2436 [==============================] - 9s 4ms/step\n",
      "Test score: 0.3543261014741703\n",
      "Test accuracy: 0.9014778325123153\n"
     ]
    }
   ],
   "source": [
    "# Load your model and evaluate in your test set\n",
    "score = None\n",
    "# YOUR CODE HERE\n",
    "train_model = model.load_weights(checkpoint_path)\n",
    "score = model.evaluate(X_test,y_test)\n",
    "print('Test score:', score[0])\n",
    "print('Test accuracy:', score[1])"
   ]
  },
  {
   "cell_type": "code",
   "execution_count": null,
   "metadata": {
    "deletable": false,
    "editable": false,
    "nbgrader": {
     "checksum": "13054e8a3d5a869a1509c75b0886c4ad",
     "grade": true,
     "grade_id": "cell-ab13ab7667af9c65",
     "locked": true,
     "points": 2,
     "schema_version": 1,
     "solution": false
    }
   },
   "outputs": [],
   "source": [
    "#### INTENTIONALLY LEFT BLANK####"
   ]
  },
  {
   "cell_type": "code",
   "execution_count": null,
   "metadata": {
    "deletable": false,
    "editable": false,
    "nbgrader": {
     "checksum": "f13becbf973caff47d1ec94c653232c6",
     "grade": true,
     "grade_id": "cell-6650f22b29e54902",
     "locked": true,
     "points": 2,
     "schema_version": 1,
     "solution": false
    }
   },
   "outputs": [],
   "source": [
    "#### INTENTIONALLY LEFT BLANK####"
   ]
  },
  {
   "cell_type": "code",
   "execution_count": null,
   "metadata": {
    "deletable": false,
    "editable": false,
    "nbgrader": {
     "checksum": "6c86762c112c3a6a9cf3b2f7cfa9fd8c",
     "grade": true,
     "grade_id": "cell-b7ce6b1c77181e04",
     "locked": true,
     "points": 2,
     "schema_version": 1,
     "solution": false
    }
   },
   "outputs": [],
   "source": [
    "#### INTENTIONALLY LEFT BLANK####"
   ]
  },
  {
   "cell_type": "code",
   "execution_count": null,
   "metadata": {
    "deletable": false,
    "editable": false,
    "nbgrader": {
     "checksum": "376a0b8bc518fd0cc7bde520de7e01b0",
     "grade": true,
     "grade_id": "cell-8ac335e85753db15",
     "locked": true,
     "points": 2,
     "schema_version": 1,
     "solution": false
    }
   },
   "outputs": [],
   "source": [
    "#### INTENTIONALLY LEFT BLANK####"
   ]
  },
  {
   "cell_type": "code",
   "execution_count": null,
   "metadata": {
    "deletable": false,
    "editable": false,
    "nbgrader": {
     "checksum": "465deab9dc02dcea20f78906686bd0d3",
     "grade": true,
     "grade_id": "cell-5f0ded1f09a61db3",
     "locked": true,
     "points": 1,
     "schema_version": 1,
     "solution": false
    }
   },
   "outputs": [],
   "source": [
    "#### INTENTIONALLY LEFT BLANK####\n",
    "### Congratulations ! You have Completed the Project "
   ]
  }
 ],
 "metadata": {
  "kernelspec": {
   "display_name": "Python 3",
   "language": "python",
   "name": "python3"
  },
  "language_info": {
   "codemirror_mode": {
    "name": "ipython",
    "version": 3
   },
   "file_extension": ".py",
   "mimetype": "text/x-python",
   "name": "python",
   "nbconvert_exporter": "python",
   "pygments_lexer": "ipython3",
   "version": "3.6.8"
  }
 },
 "nbformat": 4,
 "nbformat_minor": 2
}
