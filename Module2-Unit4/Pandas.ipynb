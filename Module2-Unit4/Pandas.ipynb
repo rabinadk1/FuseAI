{
 "cells": [
  {
   "cell_type": "markdown",
   "metadata": {
    "deletable": false,
    "editable": false,
    "nbgrader": {
     "checksum": "d41d429eba967151d9b20e3dad8759b6",
     "grade": false,
     "grade_id": "cell-a33610baaa7c4cbc",
     "locked": true,
     "schema_version": 1,
     "solution": false
    }
   },
   "source": [
    "# Assignment 1.4 Pandas\n",
    "Pandas is an open source Python package providing fast, flexible, and expressive data structures and data manipulation designed to make working with “relational” or “labeled” data both easy and intuitive. It is the fundamental high-level building block for doing practical, real world data analysis in Python.\n",
    "https://pandas.pydata.org/"
   ]
  },
  {
   "cell_type": "code",
   "execution_count": 1,
   "metadata": {
    "deletable": false,
    "nbgrader": {
     "checksum": "08e3bff5719c6dc91af56012678c8c42",
     "grade": false,
     "grade_id": "cell-462d89bbf25b800a",
     "locked": false,
     "schema_version": 1,
     "solution": true
    }
   },
   "outputs": [],
   "source": [
    "## Import numpy and pandas\n",
    "\n",
    "# YOUR CODE HERE\n",
    "import pandas as pd\n",
    "import numpy as np"
   ]
  },
  {
   "cell_type": "code",
   "execution_count": null,
   "metadata": {
    "deletable": false,
    "editable": false,
    "nbgrader": {
     "checksum": "d019a010a1a6f19518337ca6db803efd",
     "grade": true,
     "grade_id": "cell-ab515cd97836235b",
     "locked": true,
     "points": 1,
     "schema_version": 1,
     "solution": false
    }
   },
   "outputs": [],
   "source": []
  },
  {
   "cell_type": "markdown",
   "metadata": {
    "deletable": false,
    "editable": false,
    "nbgrader": {
     "checksum": "642ca09f8e06e32e4d1f46be4c93d87c",
     "grade": false,
     "grade_id": "cell-5cd560c864a29fd2",
     "locked": true,
     "schema_version": 1,
     "solution": false
    }
   },
   "source": [
    "The two primary data structures of pandas are \n",
    "- Series (1-dimensional) and \n",
    "- DataFrame (2-dimensional)\n",
    "\n",
    "Read this [10 min intro to get started](https://pandas.pydata.org/pandas-docs/stable/10min.html)"
   ]
  },
  {
   "cell_type": "markdown",
   "metadata": {
    "deletable": false,
    "editable": false,
    "nbgrader": {
     "checksum": "bc7d6318e88dbd94007577bde17b1c47",
     "grade": false,
     "grade_id": "cell-bff719dccb9a2b9e",
     "locked": true,
     "schema_version": 1,
     "solution": false
    }
   },
   "source": [
    "### Data Loading\n",
    "\n",
    "You are given two csv files.  \n",
    "- 'sales1.csv'\n",
    "- 'sales2.csv'\n",
    "\n",
    "Load both CSV as dataframes and Investigate the data and its types"
   ]
  },
  {
   "cell_type": "code",
   "execution_count": 4,
   "metadata": {
    "deletable": false,
    "nbgrader": {
     "checksum": "979a6da10f76deb58c10fdec0f5c4b03",
     "grade": false,
     "grade_id": "cell-15bfe6e4718647be",
     "locked": false,
     "schema_version": 1,
     "solution": true
    }
   },
   "outputs": [
    {
     "data": {
      "text/html": [
       "<div>\n",
       "<style scoped>\n",
       "    .dataframe tbody tr th:only-of-type {\n",
       "        vertical-align: middle;\n",
       "    }\n",
       "\n",
       "    .dataframe tbody tr th {\n",
       "        vertical-align: top;\n",
       "    }\n",
       "\n",
       "    .dataframe thead th {\n",
       "        text-align: right;\n",
       "    }\n",
       "</style>\n",
       "<table border=\"1\" class=\"dataframe\">\n",
       "  <thead>\n",
       "    <tr style=\"text-align: right;\">\n",
       "      <th></th>\n",
       "      <th>Item Type</th>\n",
       "      <th>Order Date</th>\n",
       "      <th>Order ID</th>\n",
       "      <th>Ship Date</th>\n",
       "      <th>Units Sold</th>\n",
       "      <th>Unit Price</th>\n",
       "      <th>Unit Cost</th>\n",
       "    </tr>\n",
       "  </thead>\n",
       "  <tbody>\n",
       "    <tr>\n",
       "      <th>0</th>\n",
       "      <td>Cosmetics</td>\n",
       "      <td>10/18/2014</td>\n",
       "      <td>686800706</td>\n",
       "      <td>10/31/2014</td>\n",
       "      <td>8446.0</td>\n",
       "      <td>437.20</td>\n",
       "      <td>263.33</td>\n",
       "    </tr>\n",
       "    <tr>\n",
       "      <th>1</th>\n",
       "      <td>Vegetables</td>\n",
       "      <td>11/7/2011</td>\n",
       "      <td>185941302</td>\n",
       "      <td>12/8/2011</td>\n",
       "      <td>NaN</td>\n",
       "      <td>NaN</td>\n",
       "      <td>NaN</td>\n",
       "    </tr>\n",
       "    <tr>\n",
       "      <th>2</th>\n",
       "      <td>Baby Food</td>\n",
       "      <td>10/31/2016</td>\n",
       "      <td>246222341</td>\n",
       "      <td>12/9/2016</td>\n",
       "      <td>1517.0</td>\n",
       "      <td>255.28</td>\n",
       "      <td>159.42</td>\n",
       "    </tr>\n",
       "    <tr>\n",
       "      <th>3</th>\n",
       "      <td>*Cereal</td>\n",
       "      <td>4/10/2010</td>\n",
       "      <td>161442649</td>\n",
       "      <td>5/12/2010</td>\n",
       "      <td>3322.0</td>\n",
       "      <td>205.70</td>\n",
       "      <td>117.11</td>\n",
       "    </tr>\n",
       "    <tr>\n",
       "      <th>4</th>\n",
       "      <td>Fruits</td>\n",
       "      <td>8/16/2011</td>\n",
       "      <td>645713555</td>\n",
       "      <td>8/31/2011</td>\n",
       "      <td>9845.0</td>\n",
       "      <td>9.33</td>\n",
       "      <td>6.92</td>\n",
       "    </tr>\n",
       "  </tbody>\n",
       "</table>\n",
       "</div>"
      ],
      "text/plain": [
       "    Item Type  Order Date   Order ID   Ship Date  Units Sold  Unit Price  \\\n",
       "0   Cosmetics  10/18/2014  686800706  10/31/2014      8446.0      437.20   \n",
       "1  Vegetables   11/7/2011  185941302   12/8/2011         NaN         NaN   \n",
       "2   Baby Food  10/31/2016  246222341   12/9/2016      1517.0      255.28   \n",
       "3     *Cereal   4/10/2010  161442649   5/12/2010      3322.0      205.70   \n",
       "4      Fruits   8/16/2011  645713555   8/31/2011      9845.0        9.33   \n",
       "\n",
       "   Unit Cost  \n",
       "0     263.33  \n",
       "1        NaN  \n",
       "2     159.42  \n",
       "3     117.11  \n",
       "4       6.92  "
      ]
     },
     "execution_count": 4,
     "metadata": {},
     "output_type": "execute_result"
    }
   ],
   "source": [
    "# YOUR CODE HERE\n",
    "sales1 = pd.read_csv(\"sales1.csv\")\n",
    "sales2 = pd.read_csv(\"sales2.csv\")"
   ]
  },
  {
   "cell_type": "code",
   "execution_count": 3,
   "metadata": {
    "deletable": false,
    "nbgrader": {
     "checksum": "f798019d1360ef07cee51c450ffbe983",
     "grade": false,
     "grade_id": "cell-3c85ac1eab5f8b19",
     "locked": false,
     "schema_version": 1,
     "solution": true
    }
   },
   "outputs": [
    {
     "name": "stdout",
     "output_type": "stream",
     "text": [
      "           Item Type  Order Date   Order ID   Ship Date  Units Sold  \\\n",
      "0          Cosmetics  10/18/2014  686800706  10/31/2014      8446.0   \n",
      "1         Vegetables   11/7/2011  185941302   12/8/2011         NaN   \n",
      "2          Baby Food  10/31/2016  246222341   12/9/2016      1517.0   \n",
      "3            *Cereal   4/10/2010  161442649   5/12/2010      3322.0   \n",
      "4             Fruits   8/16/2011  645713555   8/31/2011      9845.0   \n",
      "5            *Cereal  11/24/2014  683458888  12/28/2014      9528.0   \n",
      "6            *Cereal    3/4/2015  679414975   4/17/2015      2844.0   \n",
      "7            Clothes   5/17/2012  208630645   6/28/2012      7299.0   \n",
      "8         Vegetables   1/29/2015  266467225    3/7/2015      2428.0   \n",
      "9         Vegetables  12/24/2013  118598544   1/19/2014      4800.0   \n",
      "10           Clothes  12/29/2015  451010930   1/19/2016      3012.0   \n",
      "11            Snacks   2/27/2010  220003211   3/18/2010      2694.0   \n",
      "12         Household  11/17/2016  702186715  12/22/2016      1508.0   \n",
      "13         Cosmetics  12/20/2015  544485270    1/5/2016      4146.0   \n",
      "14            Fruits    1/8/2011  714135205    2/6/2011      7332.0   \n",
      "15           Clothes   6/28/2010  448685348   7/22/2010      4820.0   \n",
      "16   Office Supplies   4/25/2016  405997025   5/12/2016      2397.0   \n",
      "17         Beverages   7/27/2012  414244067    8/7/2012      2880.0   \n",
      "18           Clothes    9/8/2014  821912801   10/3/2014      1117.0   \n",
      "19         Household   8/27/2012  247802054    9/8/2012      8989.0   \n",
      "20            Snacks    9/3/2012  531023156  10/15/2012       407.0   \n",
      "21           Clothes   8/27/2010  880999934   9/16/2010      6313.0   \n",
      "22     Personal Care   2/20/2011  127468717    3/9/2011         NaN   \n",
      "23           Clothes  12/12/2015  770478332   1/24/2016       515.0   \n",
      "24           *Cereal  10/28/2012  430390107  11/13/2012       852.0   \n",
      "25         Beverages   1/30/2017  397877871   3/20/2017      9759.0   \n",
      "26         Beverages  10/22/2014  683927953   11/4/2014      8334.0   \n",
      "27            Fruits   1/31/2012  469839179   2/22/2012      4709.0   \n",
      "28              Meat   1/20/2016  357222878    3/9/2016      9043.0   \n",
      "29     Personal Care    1/1/2016  118002879    1/7/2016      8529.0   \n",
      "..               ...         ...        ...         ...         ...   \n",
      "970          *Cereal   2/21/2016  708063542   3/19/2016       592.0   \n",
      "971       Vegetables   12/4/2016  817192542  12/22/2016      4288.0   \n",
      "972             Meat   1/16/2012  936387765   2/29/2012      6803.0   \n",
      "973          Clothes    8/6/2011  612573039    8/9/2011      2830.0   \n",
      "974          Clothes   8/12/2011  812984693   8/22/2011      9092.0   \n",
      "975             Meat  12/18/2012  775171554    1/5/2013      9344.0   \n",
      "976        Household   1/10/2010  256994950   2/19/2010      9372.0   \n",
      "977        Beverages   2/28/2017  886628711   3/31/2017      1993.0   \n",
      "978        Beverages   12/8/2011  312559163  12/16/2011      2057.0   \n",
      "979          *Cereal   8/18/2014  753585135   9/13/2014      1443.0   \n",
      "980        Beverages   4/19/2016  448817956   4/22/2016      4062.0   \n",
      "981          Clothes   11/6/2012  407681453  12/24/2012       856.0   \n",
      "982           Snacks   5/27/2016  359911954   6/23/2016      4800.0   \n",
      "983  Office Supplies   8/18/2013  105558288   8/19/2013      5898.0   \n",
      "984    Personal Care  12/31/2014  864981782   2/11/2015      6186.0   \n",
      "985  Office Supplies    2/4/2013  328856265   2/12/2013      4732.0   \n",
      "986          Clothes   9/23/2016  308168065  10/18/2016      2633.0   \n",
      "987        Household   11/1/2016  884216010   11/2/2016      8021.0   \n",
      "988           Snacks  12/27/2012  858611428    1/9/2013      1057.0   \n",
      "989          *Cereal   3/10/2017  903278148    4/3/2017         NaN   \n",
      "990        Beverages   3/17/2012  410452497   3/26/2012       870.0   \n",
      "991          *Cereal  12/17/2015  642683303   1/20/2016      3126.0   \n",
      "992        Beverages   2/18/2017  682831895   3/16/2017      3987.0   \n",
      "993        Baby Food   11/5/2016  584072101   11/5/2016      8769.0   \n",
      "994             Meat    4/9/2017  919890248   5/18/2017      4821.0   \n",
      "995           Snacks   4/18/2010  534085166   4/25/2010      6524.0   \n",
      "996        Baby Food    8/1/2011  590768182    9/7/2011       288.0   \n",
      "997       Vegetables   5/12/2011  524363124   6/28/2011      9556.0   \n",
      "998        Household   1/25/2016  289606320   2/14/2016         NaN   \n",
      "999          *Cereal   4/10/2014  811546599    5/8/2014      3528.0   \n",
      "\n",
      "     Unit Price  Unit Cost  \n",
      "0        437.20     263.33  \n",
      "1           NaN        NaN  \n",
      "2        255.28     159.42  \n",
      "3        205.70     117.11  \n",
      "4          9.33       6.92  \n",
      "5        205.70     117.11  \n",
      "6        205.70     117.11  \n",
      "7        109.28      35.84  \n",
      "8        154.06      90.93  \n",
      "9        154.06      90.93  \n",
      "10       109.28      35.84  \n",
      "11       152.58      97.44  \n",
      "12       668.27     502.54  \n",
      "13       437.20     263.33  \n",
      "14         9.33       6.92  \n",
      "15       109.28      35.84  \n",
      "16       651.21     524.96  \n",
      "17        47.45      31.79  \n",
      "18       109.28      35.84  \n",
      "19       668.27     502.54  \n",
      "20       152.58      97.44  \n",
      "21       109.28      35.84  \n",
      "22          NaN        NaN  \n",
      "23       109.28      35.84  \n",
      "24       205.70     117.11  \n",
      "25        47.45      31.79  \n",
      "26        47.45      31.79  \n",
      "27         9.33       6.92  \n",
      "28       421.89     364.69  \n",
      "29        81.73      56.67  \n",
      "..          ...        ...  \n",
      "970      205.70     117.11  \n",
      "971      154.06      90.93  \n",
      "972      421.89     364.69  \n",
      "973      109.28      35.84  \n",
      "974      109.28      35.84  \n",
      "975      421.89     364.69  \n",
      "976      668.27     502.54  \n",
      "977       47.45      31.79  \n",
      "978       47.45      31.79  \n",
      "979      205.70     117.11  \n",
      "980       47.45      31.79  \n",
      "981      109.28      35.84  \n",
      "982      152.58      97.44  \n",
      "983      651.21     524.96  \n",
      "984       81.73      56.67  \n",
      "985      651.21     524.96  \n",
      "986      109.28      35.84  \n",
      "987      668.27     502.54  \n",
      "988      152.58      97.44  \n",
      "989         NaN        NaN  \n",
      "990       47.45      31.79  \n",
      "991      205.70     117.11  \n",
      "992       47.45      31.79  \n",
      "993      255.28     159.42  \n",
      "994      421.89     364.69  \n",
      "995      152.58      97.44  \n",
      "996      255.28     159.42  \n",
      "997      154.06      90.93  \n",
      "998         NaN        NaN  \n",
      "999      205.70     117.11  \n",
      "\n",
      "[1000 rows x 7 columns]\n",
      "      Order ID                             Region  \\\n",
      "0    686800706       Middle East and North Africa   \n",
      "1    185941302                      North America   \n",
      "2    246222341       Middle East and North Africa   \n",
      "3    161442649                               Asia   \n",
      "4    645713555                 Sub-Saharan Africa   \n",
      "5    683458888                             Europe   \n",
      "6    679414975                 Sub-Saharan Africa   \n",
      "7    208630645                             Europe   \n",
      "8    266467225  Central America and the Caribbean   \n",
      "9    118598544              Australia and Oceania   \n",
      "10   451010930                 Sub-Saharan Africa   \n",
      "11   220003211                             Europe   \n",
      "12   702186715                             Europe   \n",
      "13   499009597                                NaN   \n",
      "14   564646470                 Sub-Saharan Africa   \n",
      "15   262056386                                NaN   \n",
      "16   211114585                 Sub-Saharan Africa   \n",
      "17   405785882                 Sub-Saharan Africa   \n",
      "18   280494105  Central America and the Caribbean   \n",
      "19   689975583                             Europe   \n",
      "20   759279143                             Europe   \n",
      "21   133766114                 Sub-Saharan Africa   \n",
      "22   329110324                               Asia   \n",
      "23   681298100       Middle East and North Africa   \n",
      "24   596628272                 Sub-Saharan Africa   \n",
      "25   901712167                 Sub-Saharan Africa   \n",
      "26   489148938                             Europe   \n",
      "27   876286971                             Europe   \n",
      "28   262749040       Middle East and North Africa   \n",
      "29   726708972                               Asia   \n",
      "..         ...                                ...   \n",
      "950  708063542  Central America and the Caribbean   \n",
      "951  817192542                 Sub-Saharan Africa   \n",
      "952  936387765  Central America and the Caribbean   \n",
      "953  612573039                               Asia   \n",
      "954  812984693                                NaN   \n",
      "955  775171554  Central America and the Caribbean   \n",
      "956  256994950                 Sub-Saharan Africa   \n",
      "957  886628711       Middle East and North Africa   \n",
      "958  312559163                 Sub-Saharan Africa   \n",
      "959  753585135                             Europe   \n",
      "960  448817956              Australia and Oceania   \n",
      "961  407681453              Australia and Oceania   \n",
      "962  359911954                             Europe   \n",
      "963  105558288       Middle East and North Africa   \n",
      "964  864981782                 Sub-Saharan Africa   \n",
      "965  328856265                 Sub-Saharan Africa   \n",
      "966  308168065                               Asia   \n",
      "967  884216010              Australia and Oceania   \n",
      "968  858611428                             Europe   \n",
      "969  903278148              Australia and Oceania   \n",
      "970  410452497                 Sub-Saharan Africa   \n",
      "971  642683303                 Sub-Saharan Africa   \n",
      "972  682831895                             Europe   \n",
      "973  584072101              Australia and Oceania   \n",
      "974  919890248                               Asia   \n",
      "975  534085166       Middle East and North Africa   \n",
      "976  590768182                             Europe   \n",
      "977  524363124       Middle East and North Africa   \n",
      "978  289606320                             Europe   \n",
      "979  811546599                             Europe   \n",
      "\n",
      "                              Country Order Priority  Total Revenue  \\\n",
      "0                               Libya              M     3692591.20   \n",
      "1                              Canada              M      464953.08   \n",
      "2                               Libya              C      387259.76   \n",
      "3                               Japan              C      683335.40   \n",
      "4                                Chad              H       91853.85   \n",
      "5                             Armenia              H     1959909.60   \n",
      "6                             Eritrea              H      585010.80   \n",
      "7                          Montenegro              M      797634.72   \n",
      "8                             Jamaica              H      374057.68   \n",
      "9                                Fiji              H      739488.00   \n",
      "10                               Togo              M      329151.36   \n",
      "11                         Montenegro              M      411050.52   \n",
      "12                             Greece              C     1007751.16   \n",
      "13                                NaN              H     4482929.64   \n",
      "14                              Benin              L        2733.69   \n",
      "15                                NaN              L            NaN   \n",
      "16                  Equatorial Guinea              M     1531645.92   \n",
      "17                          Swaziland              H     6456747.15   \n",
      "18                Trinidad and Tobago              M      507473.64   \n",
      "19                             Sweden              L     2032794.64   \n",
      "20                            Belarus              L     4184675.46   \n",
      "21                      Guinea-Bissau              C     2097547.41   \n",
      "22                           Mongolia              M      470371.85   \n",
      "23                             Turkey              L       43454.67   \n",
      "24           Central African Republic              L      674251.02   \n",
      "25                  Equatorial Guinea              L     3596632.83   \n",
      "26                            Armenia              C     3753133.44   \n",
      "27                             Greece              L     1097967.61   \n",
      "28                             Israel              H      174493.55   \n",
      "29                             Bhutan              H     3454857.21   \n",
      "..                                ...            ...            ...   \n",
      "950            Saint Kitts and Nevis               H      121774.40   \n",
      "951                             Sudan              H      660609.28   \n",
      "952                         Guatemala              H     2870117.67   \n",
      "953                            Brunei              H      309262.40   \n",
      "954                               NaN              M      993573.76   \n",
      "955                            Panama              C     3942140.16   \n",
      "956          Central African Republic              H     6263026.44   \n",
      "957                           Bahrain              M       94567.85   \n",
      "958                           Burundi              C       97604.65   \n",
      "959                           Austria              L      296825.10   \n",
      "960                              Fiji              H      192741.90   \n",
      "961                              Fiji              M       93543.68   \n",
      "962                       Switzerland              H      732384.00   \n",
      "963                             Yemen              M     3840836.58   \n",
      "964                           Comoros              H      505581.78   \n",
      "965  Democratic Republic of the Congo              C     3081525.72   \n",
      "966                          Mongolia              H      287734.24   \n",
      "967                             Palau              L     5360193.67   \n",
      "968                            Monaco              M      161277.06   \n",
      "969                              Fiji              L     1837312.40   \n",
      "970                              Mali              L       41281.50   \n",
      "971                           Liberia              H      643018.20   \n",
      "972                       Switzerland              L      189183.15   \n",
      "973                            Samoa               L     2238550.32   \n",
      "974                             Nepal              C     2033931.69   \n",
      "975                        Azerbaijan              C      995431.92   \n",
      "976                           Georgia              H       73520.64   \n",
      "977              United Arab Emirates              C     1472197.36   \n",
      "978                           Finland              L     6549714.27   \n",
      "979                          Portugal              C      725709.60   \n",
      "\n",
      "     Total Cost  \n",
      "0    2224085.18  \n",
      "1     274426.74  \n",
      "2     241840.14  \n",
      "3     389039.42  \n",
      "4      68127.40  \n",
      "5    1115824.08  \n",
      "6     333060.84  \n",
      "7     261596.16  \n",
      "8     220778.04  \n",
      "9     436464.00  \n",
      "10    107950.08  \n",
      "11    262503.36  \n",
      "12    757830.32  \n",
      "13   3613824.64  \n",
      "14      2027.56  \n",
      "15          NaN  \n",
      "16   1234705.92  \n",
      "17   5204978.40  \n",
      "18    299523.42  \n",
      "19   1269461.46  \n",
      "20   3373392.96  \n",
      "21   1690896.16  \n",
      "22    315134.27  \n",
      "23     37563.07  \n",
      "24    430587.36  \n",
      "25   2899354.08  \n",
      "26   3244282.24  \n",
      "27    825673.22  \n",
      "28    120990.45  \n",
      "29   2986446.41  \n",
      "..          ...  \n",
      "950    69329.12  \n",
      "951   389907.84  \n",
      "952  2480986.07  \n",
      "953   101427.20  \n",
      "954   325857.28  \n",
      "955  3407663.36  \n",
      "956  4709804.88  \n",
      "957    63357.47  \n",
      "958    65392.03  \n",
      "959   168989.73  \n",
      "960   129130.98  \n",
      "961    30679.04  \n",
      "962   467712.00  \n",
      "963  3096214.08  \n",
      "964   350560.62  \n",
      "965  2484110.72  \n",
      "966    94366.72  \n",
      "967  4030873.34  \n",
      "968   102994.08  \n",
      "969  1046026.52  \n",
      "970    27657.30  \n",
      "971   366085.86  \n",
      "972   126746.73  \n",
      "973  1397953.98  \n",
      "974  1758170.49  \n",
      "975   635698.56  \n",
      "976    45912.96  \n",
      "977   868927.08  \n",
      "978  4925394.54  \n",
      "979   413164.08  \n",
      "\n",
      "[980 rows x 6 columns]\n",
      "           Order ID   Units Sold  Unit Price   Unit Cost\n",
      "count  1.000000e+03   994.000000  994.000000  994.000000\n",
      "mean   5.496813e+08  5046.129779  262.162193  185.051308\n",
      "std    2.571334e+08  2897.630250  216.150584  175.419323\n",
      "min    1.029280e+08    13.000000    9.330000    6.920000\n",
      "25%    3.280740e+08  2404.750000   81.730000   41.047500\n",
      "50%    5.566097e+08  5184.000000  154.060000   97.440000\n",
      "75%    7.696945e+08  7533.500000  421.890000  263.330000\n",
      "max    9.955298e+08  9998.000000  668.270000  524.960000\n",
      "           Order ID  Total Revenue    Total Cost\n",
      "count  9.800000e+02   9.770000e+02  9.770000e+02\n",
      "mean   5.503923e+08   1.334170e+06  9.412845e+05\n",
      "std    2.575631e+08   1.486748e+06  1.163293e+06\n",
      "min    1.029280e+08   2.043250e+03  1.416750e+03\n",
      "25%    3.273675e+08   2.899409e+05  1.679699e+05\n",
      "50%    5.599769e+08   7.763065e+05  4.678675e+05\n",
      "75%    7.699941e+08   1.761479e+06  1.144786e+06\n",
      "max    9.955298e+08   6.617210e+06  5.204978e+06\n"
     ]
    }
   ],
   "source": [
    "# Investigate the data \n",
    "# YOUR CODE HERE\n",
    "print(sales1)\n",
    "print(sales2)\n",
    "print(sales1.describe())\n",
    "print(sales2.describe())"
   ]
  },
  {
   "cell_type": "markdown",
   "metadata": {
    "deletable": false,
    "editable": false,
    "nbgrader": {
     "checksum": "7a5be8e0b2896e045dda9ded00435697",
     "grade": false,
     "grade_id": "cell-95ec17ae1e3428dc",
     "locked": true,
     "schema_version": 1,
     "solution": false
    }
   },
   "source": [
    "### Merge Dataframes\n",
    "Merge the two dataframes into a single dataframe \"sales\" based on order id such that new data consist of common order ID and all the other columns.\n",
    "Also analyse the data in different columns.\n",
    "Use [Merge function](https://pandas.pydata.org/pandas-docs/version/0.23.4/generated/pandas.merge.html)"
   ]
  },
  {
   "cell_type": "code",
   "execution_count": 6,
   "metadata": {
    "deletable": false,
    "nbgrader": {
     "checksum": "f8c761073cd6254815425225e78f9bba",
     "grade": false,
     "grade_id": "cell-82ee3339bf5f4570",
     "locked": false,
     "schema_version": 1,
     "solution": true
    }
   },
   "outputs": [],
   "source": [
    "sales = None\n",
    "# YOUR CODE HERE\n",
    "sales = pd.merge(sales1, sales2,on=\"Order ID\", how=\"outer\")"
   ]
  },
  {
   "cell_type": "code",
   "execution_count": 7,
   "metadata": {
    "deletable": false,
    "editable": false,
    "nbgrader": {
     "checksum": "2806eeafdcdaccbdc4b4cc929f40dc52",
     "grade": true,
     "grade_id": "cell-52d67c318540c515",
     "locked": true,
     "points": 1,
     "schema_version": 1,
     "solution": false
    }
   },
   "outputs": [],
   "source": [
    "assert(sales[sales[\"Order ID\"]==686800706][\"Country\"].values == \"Libya\")\n",
    "assert(sales[sales[\"Order ID\"]==686800706][\"Item Type\"].values == \"Cosmetics\")"
   ]
  },
  {
   "cell_type": "markdown",
   "metadata": {
    "deletable": false,
    "editable": false,
    "nbgrader": {
     "checksum": "0c4a7ee6c4e20b394813c000aaa6e7e5",
     "grade": false,
     "grade_id": "cell-1a63a8fddc185d92",
     "locked": true,
     "schema_version": 1,
     "solution": false
    }
   },
   "source": [
    "### Data Cleaning\n",
    "If you look at the data we can see some issues,\n",
    "- Some of the Item Type start with \" * \" we want to remove the asterik in the column\n",
    "- Some columns data are missing indicated by NaN (u can try isnull(), isna() function)\n",
    "  - If Region or Country data is missing replace it with unknown\n",
    "  - if other data are missing, remove it from \"sales\" dataframe and add it in a \"missing\" dataframe \n",
    "\n",
    "Reference for this section:\n",
    "- [Working with missing data](https://pandas.pydata.org/pandas-docs/stable/missing_data.html)\n",
    "- [Python Lambda Expressions](https://docs.python.org/3/tutorial/controlflow.html#lambda-expressions)\n",
    "- [Pandas Apply Function](https://pandas.pydata.org/pandas-docs/version/0.18/generated/pandas.Series.apply.html)\n",
    "- [Pandas FillNa](https://pandas.pydata.org/pandas-docs/version/0.17.0/generated/pandas.DataFrame.fillna.html)"
   ]
  },
  {
   "cell_type": "code",
   "execution_count": 9,
   "metadata": {
    "deletable": false,
    "nbgrader": {
     "checksum": "769828ded110c1bbcce5ec49c66e4b7a",
     "grade": false,
     "grade_id": "cell-36c46b4d53bf011c",
     "locked": false,
     "schema_version": 1,
     "solution": true
    }
   },
   "outputs": [
    {
     "data": {
      "text/plain": [
       "31"
      ]
     },
     "execution_count": 9,
     "metadata": {},
     "output_type": "execute_result"
    }
   ],
   "source": [
    "# Investigate dataframe for Null (NA/NAN) and count the number of rows with NA/NAN\n",
    "NA_count = 0\n",
    "# YOUR CODE HERE\n",
    "NA_count = sales[sales.isnull().any(axis=1)].shape[0]\n"
   ]
  },
  {
   "cell_type": "code",
   "execution_count": null,
   "metadata": {
    "deletable": false,
    "editable": false,
    "nbgrader": {
     "checksum": "67f29983d63d1af8a2f935463b91c1dd",
     "grade": true,
     "grade_id": "cell-c3f7ee60f7aec5bf",
     "locked": true,
     "points": 1,
     "schema_version": 1,
     "solution": false
    }
   },
   "outputs": [],
   "source": []
  },
  {
   "cell_type": "code",
   "execution_count": 10,
   "metadata": {
    "deletable": false,
    "nbgrader": {
     "checksum": "fa8a28b2de04228fed78fac882abc16e",
     "grade": false,
     "grade_id": "cell-04b3a523548b2603",
     "locked": false,
     "schema_version": 1,
     "solution": true
    }
   },
   "outputs": [],
   "source": [
    "# remove \"*\", NaN, add missing sales data to \"missing\" dataframe \n",
    "# YOUR CODE HERE\n",
    "sales[\"Item Type\"]=pd.Series(sales[\"Item Type\"]).str.replace(\"*\",\"\",regex=True)\n",
    "sales[\"Country\"].fillna(\"unknown\", inplace=True)\n",
    "sales[\"Region\"].fillna(\"unknown\", inplace=True)\n",
    "missing = pd.DataFrame(columns=sales.columns)\n",
    "for index,row in sales.iterrows():\n",
    "    if row.isna().sum():\n",
    "        missing = missing.append(sales.loc[index, :], ignore_index=True)\n",
    "        sales.drop(index, inplace=True)"
   ]
  },
  {
   "cell_type": "code",
   "execution_count": 11,
   "metadata": {
    "deletable": false,
    "editable": false,
    "nbgrader": {
     "checksum": "345ced3e3c70638654d247d61c24f8e1",
     "grade": true,
     "grade_id": "cell-7bc1b916b4472109",
     "locked": true,
     "points": 1,
     "schema_version": 1,
     "solution": false
    }
   },
   "outputs": [],
   "source": [
    "assert(sales[sales[\"Order ID\"]==267066323][\"Item Type\"].values == \"Cereal\")\n",
    "assert(sales[sales[\"Order ID\"]==267066323][\"Region\"].values == \"unknown\")"
   ]
  },
  {
   "cell_type": "markdown",
   "metadata": {
    "deletable": false,
    "editable": false,
    "nbgrader": {
     "checksum": "292d00250655f8b26327bca313a71691",
     "grade": false,
     "grade_id": "cell-b7f376b167c0a0e1",
     "locked": true,
     "schema_version": 1,
     "solution": false
    }
   },
   "source": [
    "Find the number of unique items available."
   ]
  },
  {
   "cell_type": "code",
   "execution_count": 12,
   "metadata": {
    "deletable": false,
    "nbgrader": {
     "checksum": "a142de6f88c1e081d88f318264a14051",
     "grade": false,
     "grade_id": "cell-588bcfca26c28277",
     "locked": false,
     "schema_version": 1,
     "solution": true
    }
   },
   "outputs": [],
   "source": [
    "NumItems = 0\n",
    "# YOUR CODE HERE\n",
    "NumItems = len(pd.unique(sales[\"Item Type\"]))"
   ]
  },
  {
   "cell_type": "code",
   "execution_count": null,
   "metadata": {
    "deletable": false,
    "editable": false,
    "nbgrader": {
     "checksum": "2bfcd9d2ec2ce847ffc0e5bc082542d2",
     "grade": true,
     "grade_id": "cell-51b5cda4685cd3d0",
     "locked": true,
     "points": 1,
     "schema_version": 1,
     "solution": false
    }
   },
   "outputs": [],
   "source": []
  },
  {
   "cell_type": "markdown",
   "metadata": {
    "deletable": false,
    "editable": false,
    "nbgrader": {
     "checksum": "30f9df926721e91b2a1ae31032484b80",
     "grade": false,
     "grade_id": "cell-cfa8b8b8e2659c68",
     "locked": true,
     "schema_version": 1,
     "solution": false
    }
   },
   "source": [
    "### Grouping and Analysis \n",
    "Find out the statistical summary for ‘Unit Cost’ column for each Items.\n",
    "Then extract the count, mean and std for \"Cereal\",\"Fruits\",\"Vegetables\",\"Baby Food\" and \"Meat\" as a dataframe \"Kitchen\"\n",
    "References:\n",
    "- [Pandas Indexing](https://pandas.pydata.org/pandas-docs/stable/indexing.html)\n",
    "- [Groupby](https://pandas.pydata.org/pandas-docs/stable/groupby.html)\n",
    "- [Loc](https://pandas.pydata.org/pandas-docs/version/0.23.4/generated/pandas.DataFrame.loc.html)\n",
    "- [filter](https://pandas.pydata.org/pandas-docs/stable/generated/pandas.DataFrame.filter.html)"
   ]
  },
  {
   "cell_type": "code",
   "execution_count": 13,
   "metadata": {
    "deletable": false,
    "nbgrader": {
     "checksum": "513a7611c6e04665a464e3755afa3800",
     "grade": false,
     "grade_id": "cell-d5b95b853fd96b60",
     "locked": false,
     "schema_version": 1,
     "solution": true
    }
   },
   "outputs": [],
   "source": [
    "Kitchen = None\n",
    "# YOUR CODE HERE\n",
    "indexdict = [\"Cereal\", \"Fruits\", \"Vegetables\", \"Baby Food\", \"Meat\"]\n",
    "Kitchen = pd.DataFrame(index= indexdict, columns=[\"count\", \"mean\", \"std\"])\n",
    "for i in indexdict:\n",
    "    unitCostCol = sales.loc[sales[\"Item Type\"]== i ][\"Unit Cost\"]\n",
    "    Kitchen.loc[ i ] = [unitCostCol.count(), unitCostCol.mean(), unitCostCol.std()]"
   ]
  },
  {
   "cell_type": "code",
   "execution_count": 14,
   "metadata": {
    "deletable": false,
    "editable": false,
    "nbgrader": {
     "checksum": "5351b57418bbed9078d4db7147a7f371",
     "grade": true,
     "grade_id": "cell-986e659a273a364c",
     "locked": true,
     "points": 1,
     "schema_version": 1,
     "solution": false
    }
   },
   "outputs": [],
   "source": [
    "assert(Kitchen.loc[\"Cereal\"][\"count\"]==77)"
   ]
  },
  {
   "cell_type": "code",
   "execution_count": 15,
   "metadata": {
    "deletable": false,
    "nbgrader": {
     "checksum": "2cd283e5ac7d7f5a6f7ddc6f50ad7745",
     "grade": false,
     "grade_id": "cell-346f31cb4ea47c75",
     "locked": false,
     "schema_version": 1,
     "solution": true
    }
   },
   "outputs": [],
   "source": [
    "#Generate the new column ‘Total Profit’ for each orders (Total Profit = Total Revenue - Total Cost)\n",
    "# YOUR CODE HERE\n",
    "sales.insert(12, \"Total Profit\", value= sales[\"Total Revenue\"] - sales[\"Total Cost\"])"
   ]
  },
  {
   "cell_type": "code",
   "execution_count": 16,
   "metadata": {
    "deletable": false,
    "editable": false,
    "nbgrader": {
     "checksum": "a9501765311bc149f1f671b8153a61c0",
     "grade": true,
     "grade_id": "cell-6419595bc71f6a09",
     "locked": true,
     "points": 1,
     "schema_version": 1,
     "solution": false
    }
   },
   "outputs": [],
   "source": [
    "assert(sales[sales[\"Order ID\"]==246222341][\"Total Profit\"].values == 145419.62)"
   ]
  },
  {
   "cell_type": "code",
   "execution_count": 17,
   "metadata": {
    "deletable": false,
    "nbgrader": {
     "checksum": "4c97685b968d73e2c8e20ed221c3bfdd",
     "grade": false,
     "grade_id": "cell-aae9d532c4dabf17",
     "locked": false,
     "schema_version": 1,
     "solution": true
    }
   },
   "outputs": [],
   "source": [
    "# How many data sets are there with profit greater than 60%\n",
    "ans = None\n",
    "# YOUR CODE HERE\n",
    "sales[\"Total Profit%\"] = sales[\"Total Profit\"]/sales[\"Total Cost\"]*100\n",
    "ans = (sales[\"Total Profit%\"]>=60).count()"
   ]
  },
  {
   "cell_type": "code",
   "execution_count": null,
   "metadata": {
    "deletable": false,
    "editable": false,
    "nbgrader": {
     "checksum": "327b4bbd3c5f0005a96766d3317f38c4",
     "grade": true,
     "grade_id": "cell-c053463e75781632",
     "locked": true,
     "points": 1,
     "schema_version": 1,
     "solution": false
    }
   },
   "outputs": [],
   "source": []
  }
 ],
 "metadata": {
  "kernelspec": {
   "display_name": "Python 3",
   "language": "python",
   "name": "python3"
  },
  "language_info": {
   "codemirror_mode": {
    "name": "ipython",
    "version": 3
   },
   "file_extension": ".py",
   "mimetype": "text/x-python",
   "name": "python",
   "nbconvert_exporter": "python",
   "pygments_lexer": "ipython3",
   "version": "3.6.8"
  }
 },
 "nbformat": 4,
 "nbformat_minor": 2
}
