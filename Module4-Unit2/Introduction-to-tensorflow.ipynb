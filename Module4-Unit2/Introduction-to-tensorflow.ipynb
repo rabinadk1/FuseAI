{
 "cells": [
  {
   "cell_type": "markdown",
   "metadata": {
    "deletable": false,
    "editable": false,
    "nbgrader": {
     "checksum": "5aa15a24c4c4de7bdc81a44bdd344aa5",
     "grade": false,
     "grade_id": "cell-ae28e71abc6834df",
     "locked": true,
     "schema_version": 1,
     "solution": false
    }
   },
   "source": [
    "## Handwritten Character Recognition\n",
    "**<div style=\"text-align: right\"> [Total score: 8]</div>**\n",
    "\n",
    "A popular demonstration of the capability of deep learning techniques is object recognition in image data or so called “hello world” of object recognition for machine learning and deep learning is the MNIST dataset for handwritten digit recognition.\n",
    "\n",
    "In this post you will experiement and discover how to develop a multi layer neural perceptron model to achieve a certain degree of performance on the MNIST handwritten digit recognition task in Python using the Tensorflow deep learning library."
   ]
  },
  {
   "cell_type": "markdown",
   "metadata": {
    "deletable": false,
    "editable": false,
    "nbgrader": {
     "checksum": "09851b4c6a6365211ec7ec69a37667a5",
     "grade": false,
     "grade_id": "cell-7dcb3111cf580544",
     "locked": true,
     "schema_version": 1,
     "solution": false
    }
   },
   "source": [
    "### Ex1: Import tensorflow and other useful libraries"
   ]
  },
  {
   "cell_type": "code",
   "execution_count": null,
   "metadata": {
    "deletable": false,
    "nbgrader": {
     "checksum": "931665c7b76e9c9b53003706336404f1",
     "grade": false,
     "grade_id": "cell-27da25839dc15df4",
     "locked": false,
     "schema_version": 1,
     "solution": true
    }
   },
   "outputs": [],
   "source": [
    "\n",
    "# YOUR CODE HERE\n",
    "raise NotImplementedError()"
   ]
  },
  {
   "cell_type": "markdown",
   "metadata": {
    "deletable": false,
    "editable": false,
    "nbgrader": {
     "checksum": "be3126f8a81e92f1b035f2a3993e86e6",
     "grade": false,
     "grade_id": "cell-f76fb9d1f0b35089",
     "locked": true,
     "schema_version": 1,
     "solution": false
    }
   },
   "source": [
    "### Ex2: Load MNIST data\n",
    "Load the MNIST data in one-hot encoded form and check the data. (Use tensorflow.examples.tutorials.mnist library)"
   ]
  },
  {
   "cell_type": "code",
   "execution_count": null,
   "metadata": {
    "deletable": false,
    "nbgrader": {
     "checksum": "e40c7edb7fc048f8126b30f89eacb433",
     "grade": false,
     "grade_id": "cell-e1d2b4b448cddb71",
     "locked": false,
     "schema_version": 1,
     "solution": true
    }
   },
   "outputs": [],
   "source": [
    "mnist = None\n",
    "# YOUR CODE HERE\n",
    "raise NotImplementedError()"
   ]
  },
  {
   "cell_type": "markdown",
   "metadata": {
    "deletable": false,
    "editable": false,
    "nbgrader": {
     "checksum": "ade7ca4a051ddf764772ed56980bd16a",
     "grade": false,
     "grade_id": "cell-8b6f5154fc75fc9d",
     "locked": true,
     "schema_version": 1,
     "solution": false
    }
   },
   "source": [
    "### Ex3: Select Appropriate Hyperparameters\n",
    "Select an appropriate batch size, learning rate and number of training epoch.<br>\n",
    "Also explore the dataset to get the sizes and other parameters "
   ]
  },
  {
   "cell_type": "code",
   "execution_count": null,
   "metadata": {
    "deletable": false,
    "nbgrader": {
     "checksum": "02d41eeaf66add045f0b2993f6d76f80",
     "grade": false,
     "grade_id": "cell-8f880932584f48ba",
     "locked": false,
     "schema_version": 1,
     "solution": true
    }
   },
   "outputs": [],
   "source": [
    "learning_rate = None  \n",
    "training_epochs = None\n",
    "batch_size = None\n",
    "\n",
    "train_size = None  # Number of training data\n",
    "n_input = None  # MNIST data input (Image length * Image breadth)\n",
    "validation_size = None # Number of Validation data\n",
    "test_size = None  # Number of test data\n",
    "n_classes = None  # MNIST total classes (0-9 digits)\n",
    "# YOUR CODE HERE\n",
    "raise NotImplementedError()"
   ]
  },
  {
   "cell_type": "markdown",
   "metadata": {
    "deletable": false,
    "editable": false,
    "nbgrader": {
     "checksum": "bb13dea0234ffb02fabf5caba38cc29e",
     "grade": false,
     "grade_id": "cell-46cb7cb4bd7b4228",
     "locked": true,
     "schema_version": 1,
     "solution": false
    }
   },
   "source": [
    "### Ex4: Setup Placeholder and Weights\n",
    "Add one or more hidden layers. Choose appropriate sizes for the layers. Add one or more hidden layers.<br>\n",
    "Initialize the weights and bias with random normal. <br>\n",
    "Create a placeholder x and y for the image feature and target by checking the dtype and shape of the data."
   ]
  },
  {
   "cell_type": "code",
   "execution_count": null,
   "metadata": {
    "deletable": false,
    "nbgrader": {
     "checksum": "8edcb20e6823c46e0697bf15161fd85c",
     "grade": false,
     "grade_id": "cell-3ad6ffd402dda051",
     "locked": false,
     "schema_version": 1,
     "solution": true
    }
   },
   "outputs": [],
   "source": [
    "# Store layers weight & bias in dictionary\n",
    "n_hidden_1 = 256 # 1st layer number of neurons\n",
    "n_hidden_2 = 128 # 2nd layer number of neurons\n",
    "\n",
    "weights = dict()\n",
    "biases = dict()\n",
    "\n",
    "# YOUR CODE HERE\n",
    "raise NotImplementedError()"
   ]
  },
  {
   "cell_type": "code",
   "execution_count": null,
   "metadata": {
    "deletable": false,
    "nbgrader": {
     "checksum": "d9c5868ff65c3fac2a5d1214eaccba92",
     "grade": false,
     "grade_id": "cell-6f81c8f16e7f6245",
     "locked": false,
     "schema_version": 1,
     "solution": true
    }
   },
   "outputs": [],
   "source": [
    "# Graph Inputs\n",
    "X = None\n",
    "Y = None\n",
    "# YOUR CODE HERE\n",
    "raise NotImplementedError()"
   ]
  },
  {
   "cell_type": "markdown",
   "metadata": {
    "deletable": false,
    "editable": false,
    "nbgrader": {
     "checksum": "a6f2644d068f8ada2f2cb6225e9c8b93",
     "grade": false,
     "grade_id": "cell-dbc48d03c4d2b31f",
     "locked": true,
     "schema_version": 1,
     "solution": false
    }
   },
   "source": [
    "### Ex5: Create a Multi-Layer Perceptron\n",
    "\n",
    "For a single layer\n",
    "<br> $logits = x * W + b$\n",
    "\n",
    "For a multiple layer\n",
    "<br> $layer1 = Relu(x * W + b)$\n",
    "<br> $logits = layer1 * W + b$"
   ]
  },
  {
   "cell_type": "code",
   "execution_count": null,
   "metadata": {
    "deletable": false,
    "nbgrader": {
     "checksum": "15324291ebd8b684a46377e1c697d6d3",
     "grade": false,
     "grade_id": "cell-e909a08aad19e455",
     "locked": false,
     "schema_version": 1,
     "solution": true
    }
   },
   "outputs": [],
   "source": [
    "def multilayer_perceptron(x):\n",
    "    \"\"\" Takes X as input and returns logits of output layer\"\"\"\n",
    "    # YOUR CODE HERE\n",
    "    raise NotImplementedError()\n",
    "    return out_layer\n",
    "\n",
    "# Construct model\n",
    "logits = multilayer_perceptron(X)"
   ]
  },
  {
   "cell_type": "markdown",
   "metadata": {
    "deletable": false,
    "editable": false,
    "nbgrader": {
     "checksum": "d60c1f0e0f2affa1d280d44405735214",
     "grade": false,
     "grade_id": "cell-abad813dd745023d",
     "locked": true,
     "schema_version": 1,
     "solution": false
    }
   },
   "source": [
    "### Ex6: Implement the cross_entropy loss and Optimizer\n",
    "Choose appropriate Loss and Optimizer as discussed in the class.\n",
    "<br> $loss = Cross Entropy(y_{pred}, y)$"
   ]
  },
  {
   "cell_type": "code",
   "execution_count": null,
   "metadata": {
    "deletable": false,
    "nbgrader": {
     "checksum": "e3e6dd84e4e5c2277f6528772742a73e",
     "grade": false,
     "grade_id": "cell-c67f89ca5881841a",
     "locked": false,
     "schema_version": 1,
     "solution": true
    }
   },
   "outputs": [],
   "source": [
    "loss_op = None  # Cross-Entropy Loss\n",
    "train_op = None  # Optimizer\n",
    "# YOUR CODE HERE\n",
    "raise NotImplementedError()"
   ]
  },
  {
   "cell_type": "markdown",
   "metadata": {
    "deletable": false,
    "editable": false,
    "nbgrader": {
     "checksum": "3c69f9cfd278faf93e5b8eb5278afd8a",
     "grade": false,
     "grade_id": "cell-e5ff13f80959abf2",
     "locked": true,
     "schema_version": 1,
     "solution": false
    }
   },
   "source": [
    "### Ex7: Running the Session\n",
    "**<div style=\"text-align: right\"> [Score: 8]</div>**\n",
    "In the tf.Session, Initialize the global variables and train the model.<br>\n",
    "After training the model, estimate the accuracy of this model. To get accuracy, compare the predicted values with the actual ones in the training data set in the cell below."
   ]
  },
  {
   "cell_type": "markdown",
   "metadata": {
    "deletable": false,
    "editable": false,
    "nbgrader": {
     "checksum": "819bd9e9df487c1a996a64b49c3f633a",
     "grade": false,
     "grade_id": "cell-a06353bb97deb8f7",
     "locked": true,
     "schema_version": 1,
     "solution": false
    }
   },
   "source": [
    "Now, let's initialize the session, train the model and evaluate the data on the test set."
   ]
  },
  {
   "cell_type": "code",
   "execution_count": null,
   "metadata": {
    "deletable": false,
    "nbgrader": {
     "checksum": "f1bccde63e06a56f79adb919574704f8",
     "grade": false,
     "grade_id": "cell-fa7546fa00b7cc86",
     "locked": false,
     "schema_version": 1,
     "solution": true
    }
   },
   "outputs": [],
   "source": [
    "accuracy = None # evaluate the data on the test set\n",
    "display_step = 2  \n",
    "\n",
    "with tf.Session() as sess:\n",
    "    # YOUR CODE HERE\n",
    "    raise NotImplementedError()"
   ]
  },
  {
   "cell_type": "code",
   "execution_count": null,
   "metadata": {
    "deletable": false,
    "editable": false,
    "nbgrader": {
     "checksum": "e18b8ee789ff65d4bc45056c4df00e86",
     "grade": true,
     "grade_id": "cell-ce82b46279da0cf4",
     "locked": true,
     "points": 4,
     "schema_version": 1,
     "solution": false
    }
   },
   "outputs": [],
   "source": [
    "#### INTENTIONALLY LEFT BLANK####"
   ]
  },
  {
   "cell_type": "code",
   "execution_count": null,
   "metadata": {
    "deletable": false,
    "editable": false,
    "nbgrader": {
     "checksum": "19074dc52226a1d8d3efa1c4378b28e8",
     "grade": true,
     "grade_id": "cell-a898c866ed974476",
     "locked": true,
     "points": 1,
     "schema_version": 1,
     "solution": false
    }
   },
   "outputs": [],
   "source": [
    "#### INTENTIONALLY LEFT BLANK####"
   ]
  },
  {
   "cell_type": "code",
   "execution_count": null,
   "metadata": {
    "deletable": false,
    "editable": false,
    "nbgrader": {
     "checksum": "f494960d0e677a7745834213e503b357",
     "grade": true,
     "grade_id": "cell-53f831a8697ccfe7",
     "locked": true,
     "points": 1,
     "schema_version": 1,
     "solution": false
    }
   },
   "outputs": [],
   "source": [
    "#### INTENTIONALLY LEFT BLANK####"
   ]
  },
  {
   "cell_type": "code",
   "execution_count": null,
   "metadata": {
    "deletable": false,
    "editable": false,
    "nbgrader": {
     "checksum": "b3276f2af73b5d811c43165552dee4ac",
     "grade": true,
     "grade_id": "cell-4ba1cd0f782f7a41",
     "locked": true,
     "points": 1,
     "schema_version": 1,
     "solution": false
    }
   },
   "outputs": [],
   "source": [
    "#### INTENTIONALLY LEFT BLANK####"
   ]
  },
  {
   "cell_type": "code",
   "execution_count": null,
   "metadata": {
    "deletable": false,
    "editable": false,
    "nbgrader": {
     "checksum": "ae7340e41c6a3da6def95993d666f838",
     "grade": true,
     "grade_id": "cell-fb04b4517360f963",
     "locked": true,
     "points": 1,
     "schema_version": 1,
     "solution": false
    }
   },
   "outputs": [],
   "source": [
    "#### INTENTIONALLY LEFT BLANK####"
   ]
  },
  {
   "cell_type": "markdown",
   "metadata": {
    "deletable": false,
    "editable": false,
    "nbgrader": {
     "checksum": "a0a41d5290775bcfd5fcf1f4ccdb218f",
     "grade": false,
     "grade_id": "cell-7f86057b1323a38e",
     "locked": true,
     "schema_version": 1,
     "solution": false
    }
   },
   "source": [
    "Congratulations, you have now implemented a simple model using tensorflow."
   ]
  }
 ],
 "metadata": {
  "kernelspec": {
   "display_name": "Python 3",
   "language": "python",
   "name": "python3"
  },
  "language_info": {
   "codemirror_mode": {
    "name": "ipython",
    "version": 3
   },
   "file_extension": ".py",
   "mimetype": "text/x-python",
   "name": "python",
   "nbconvert_exporter": "python",
   "pygments_lexer": "ipython3",
   "version": "3.6.6"
  }
 },
 "nbformat": 4,
 "nbformat_minor": 2
}
