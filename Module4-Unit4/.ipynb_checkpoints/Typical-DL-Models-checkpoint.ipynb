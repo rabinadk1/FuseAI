{
 "cells": [
  {
   "cell_type": "markdown",
   "metadata": {
    "deletable": false,
    "editable": false,
    "nbgrader": {
     "checksum": "c88e883a510a73441d81b3782d0fdae1",
     "grade": false,
     "grade_id": "cell-eeaf011f5870e5d5",
     "locked": true,
     "schema_version": 1,
     "solution": false
    }
   },
   "source": [
    "## Emotion Detection and Recognition\n",
    "**<div style=\"text-align: right\"> [Total score: 14]</div>**\n",
    "\n",
    "We detected emotions from the text using scikit-learn in module-2 project. Now, we will use keras with word embeddings and LSTM layers to make the classification model."
   ]
  },
  {
   "cell_type": "markdown",
   "metadata": {
    "deletable": false,
    "editable": false,
    "nbgrader": {
     "checksum": "9abda80f7c9d44f4c1805d40ea6bfb4a",
     "grade": false,
     "grade_id": "cell-7bdb4f642629dd1d",
     "locked": true,
     "schema_version": 1,
     "solution": false
    }
   },
   "source": [
    "### Ex1: Import Keras and other libraries\n",
    "Don't forget to import embedding layer and LSTM from Keras"
   ]
  },
  {
   "cell_type": "code",
   "execution_count": null,
   "metadata": {
    "deletable": false,
    "nbgrader": {
     "checksum": "90d90727bac6bfe68ad2aa2c9b16f25c",
     "grade": false,
     "grade_id": "cell-276deba12a313fed",
     "locked": false,
     "schema_version": 1,
     "solution": true
    }
   },
   "outputs": [],
   "source": [
    "import numpy as np\n",
    "import pandas as pd\n",
    "# YOUR CODE HERE\n",
    "raise NotImplementedError()"
   ]
  },
  {
   "cell_type": "markdown",
   "metadata": {
    "deletable": false,
    "editable": false,
    "nbgrader": {
     "checksum": "41c810520342722619bf09437e3fcbf7",
     "grade": false,
     "grade_id": "cell-254f8531eaf6ca0b",
     "locked": true,
     "schema_version": 1,
     "solution": false
    }
   },
   "source": [
    "### Ex2: Load and Preprocess the Dataset\n",
    "**<div style=\"text-align: right\"> [Score: 1]</div>**\n",
    "1. Read the dataset ISEAR.csv which is in the current path.\n",
    "2. Set the column names to Emotions and Sentence.\n",
    "2. Visualize and clean the dataset.\n",
    "3. Perform any preprocessing that may be useful\n",
    "\n",
    "The data should possess only these emotions: 'joy', 'fear', 'anger', 'sadness', 'disgust', 'shame' and 'guilt'."
   ]
  },
  {
   "cell_type": "code",
   "execution_count": null,
   "metadata": {
    "deletable": false,
    "nbgrader": {
     "checksum": "42c1a08e1c66802fadd68bcb6d3f7387",
     "grade": false,
     "grade_id": "cell-358a4ddaeb3bb6d9",
     "locked": false,
     "schema_version": 1,
     "solution": true
    }
   },
   "outputs": [],
   "source": [
    "# YOUR CODE HERE\n",
    "raise NotImplementedError()\n",
    "df.describe()"
   ]
  },
  {
   "cell_type": "code",
   "execution_count": null,
   "metadata": {
    "deletable": false,
    "editable": false,
    "nbgrader": {
     "checksum": "ab6daed33c2fb2c8e8d8849b78ae8962",
     "grade": true,
     "grade_id": "cell-566d698aab697985",
     "locked": true,
     "points": 1,
     "schema_version": 1,
     "solution": false
    }
   },
   "outputs": [],
   "source": [
    "#### INTENTIONALLY LEFT BLANK####"
   ]
  },
  {
   "cell_type": "markdown",
   "metadata": {
    "deletable": false,
    "editable": false,
    "nbgrader": {
     "checksum": "11bcb87ddddcf45be6d516d197c00c77",
     "grade": false,
     "grade_id": "cell-21b2150c1678d6a1",
     "locked": true,
     "schema_version": 1,
     "solution": false
    }
   },
   "source": [
    "### Ex3: Clean the dataset\n",
    "**<div style=\"text-align: right\"> [Score: 1]</div>**\n",
    "1. Check if any values in the dataset contains null.\n",
    "2. Drop all the null values if it exists."
   ]
  },
  {
   "cell_type": "code",
   "execution_count": null,
   "metadata": {
    "deletable": false,
    "nbgrader": {
     "checksum": "c70c74d1a008efd0365b5836de73a616",
     "grade": false,
     "grade_id": "cell-2da381c203e3fcca",
     "locked": false,
     "schema_version": 1,
     "solution": true
    }
   },
   "outputs": [],
   "source": [
    "# YOUR CODE HERE\n",
    "raise NotImplementedError()"
   ]
  },
  {
   "cell_type": "code",
   "execution_count": null,
   "metadata": {
    "deletable": false,
    "editable": false,
    "nbgrader": {
     "checksum": "109009f56d96fde817e123063bfcd2f1",
     "grade": true,
     "grade_id": "cell-a4ba5f94e7040619",
     "locked": true,
     "points": 1,
     "schema_version": 1,
     "solution": false
    }
   },
   "outputs": [],
   "source": [
    "#### INTENTIONALLY LEFT BLANK####"
   ]
  },
  {
   "cell_type": "code",
   "execution_count": null,
   "metadata": {},
   "outputs": [],
   "source": [
    "print(\"The emotions to be classified are: \"+ str(list(df.Emotions.unique().tolist())))"
   ]
  },
  {
   "cell_type": "markdown",
   "metadata": {
    "deletable": false,
    "editable": false,
    "nbgrader": {
     "checksum": "b7c9e6b91118efd5eae88a49874d1dbf",
     "grade": false,
     "grade_id": "cell-9140e9b8574ca531",
     "locked": true,
     "schema_version": 1,
     "solution": false
    }
   },
   "source": [
    "Are you sure your data is clean ? <br>\n",
    "See if the spelling of guilt is incorrectly written as guit in some sentences.<br>\n",
    "**<div style=\"text-align: right\"> [Score: 1]</div>**"
   ]
  },
  {
   "cell_type": "code",
   "execution_count": null,
   "metadata": {
    "deletable": false,
    "nbgrader": {
     "checksum": "f2cc16d754dddaac9ccce35e0dfebf43",
     "grade": false,
     "grade_id": "cell-ccd54ca3f6c8e4bb",
     "locked": false,
     "schema_version": 1,
     "solution": true
    }
   },
   "outputs": [],
   "source": [
    "# YOUR CODE HERE\n",
    "raise NotImplementedError()\n",
    "print(\"We need to classify \"+ str(df.Emotions.nunique()) +\" emotions now.\")\n",
    "print(\"The emotions to be classified are: \"+ str(list(df.Emotions.unique())))"
   ]
  },
  {
   "cell_type": "code",
   "execution_count": null,
   "metadata": {
    "deletable": false,
    "editable": false,
    "nbgrader": {
     "checksum": "5ac7c9f0ad2084079070fcb607843b93",
     "grade": true,
     "grade_id": "cell-e4f79db38b3fdb6a",
     "locked": true,
     "points": 1,
     "schema_version": 1,
     "solution": false
    }
   },
   "outputs": [],
   "source": [
    "#### INTENTIONALLY LEFT BLANK####"
   ]
  },
  {
   "cell_type": "markdown",
   "metadata": {
    "deletable": false,
    "editable": false,
    "nbgrader": {
     "checksum": "4275a96932592380f10cceb570e84d0b",
     "grade": false,
     "grade_id": "cell-0851ddd00abab8fb",
     "locked": true,
     "schema_version": 1,
     "solution": false
    }
   },
   "source": [
    "### Ex4: Further NLP based text Cleaning (Not Necessary to Implement all)\n",
    "You can try \n",
    "- removing punctuations,\n",
    "- converting words to lower case \n",
    "- using the stem of each word\n",
    "- other preprocessing techniques"
   ]
  },
  {
   "cell_type": "code",
   "execution_count": null,
   "metadata": {
    "deletable": false,
    "nbgrader": {
     "checksum": "f3311d183a10d15075135b06cb6a6b3f",
     "grade": false,
     "grade_id": "cell-338f3d531c3e76fe",
     "locked": false,
     "schema_version": 1,
     "solution": true
    }
   },
   "outputs": [],
   "source": [
    "def clean_text(text):\n",
    "    # YOUR CODE HERE\n",
    "    raise NotImplementedError()\n",
    "    return text\n",
    "\n",
    "df['Sentence'] = df['Sentence'].map(lambda x: clean_text(x))"
   ]
  },
  {
   "cell_type": "code",
   "execution_count": null,
   "metadata": {},
   "outputs": [],
   "source": [
    "X, y = df['Sentence'], df['Emotions']"
   ]
  },
  {
   "cell_type": "markdown",
   "metadata": {
    "deletable": false,
    "editable": false,
    "nbgrader": {
     "checksum": "229e9517d8469d1f031a0a237418929c",
     "grade": false,
     "grade_id": "cell-a695521761295afe",
     "locked": true,
     "schema_version": 1,
     "solution": false
    }
   },
   "source": [
    "### Ex5: Transform y to one-hot-encoding"
   ]
  },
  {
   "cell_type": "code",
   "execution_count": null,
   "metadata": {
    "deletable": false,
    "nbgrader": {
     "checksum": "84a1d2d14dbaa22ce18c5bdee50c7609",
     "grade": false,
     "grade_id": "cell-f7f232a9a6f87ca7",
     "locked": false,
     "schema_version": 1,
     "solution": true
    }
   },
   "outputs": [],
   "source": [
    "onehot_y = None\n",
    "# YOUR CODE HERE\n",
    "raise NotImplementedError()"
   ]
  },
  {
   "cell_type": "markdown",
   "metadata": {
    "deletable": false,
    "editable": false,
    "nbgrader": {
     "checksum": "862d633aedbe0c2f4760779ce47f7707",
     "grade": false,
     "grade_id": "cell-d3313a24c90cc1e8",
     "locked": true,
     "schema_version": 1,
     "solution": false
    }
   },
   "source": [
    "### Ex  6: Tokenize the sentences\n",
    "Tokenization of sentences is one of the essential parts in natural language processing. Tokenization simply divides a sentence into a list of words. \n",
    "<br>We will use Keras tokenizer function to tokenize the strings and ‘texts_to_sequences’ to make sequences of words. You might also want to pad the sequences."
   ]
  },
  {
   "cell_type": "code",
   "execution_count": null,
   "metadata": {
    "deletable": false,
    "nbgrader": {
     "checksum": "336ced219c4c1e3f32ec300a47fb84ee",
     "grade": false,
     "grade_id": "cell-c829adb8ca47ac6d",
     "locked": false,
     "schema_version": 1,
     "solution": true
    }
   },
   "outputs": [],
   "source": [
    "vocabulary_size = None  # Select an Appropriate Vobabulary Size\n",
    "padded_length = None  # Select an Appropriate padded Length for text\n",
    "tokenizer = None \n",
    "# YOUR CODE HERE\n",
    "raise NotImplementedError()"
   ]
  },
  {
   "cell_type": "code",
   "execution_count": null,
   "metadata": {
    "deletable": false,
    "nbgrader": {
     "checksum": "d56fb2452a0868d6297b0b4a285d8dac",
     "grade": false,
     "grade_id": "cell-bf49f90cc5cd38ee",
     "locked": false,
     "schema_version": 1,
     "solution": true
    }
   },
   "outputs": [],
   "source": [
    "def preprocessing(X):\n",
    "    # YOUR CODE HERE\n",
    "    raise NotImplementedError()\n",
    "    return data\n",
    "data = preprocessing(X)"
   ]
  },
  {
   "cell_type": "markdown",
   "metadata": {
    "deletable": false,
    "editable": false,
    "nbgrader": {
     "checksum": "e323c013495d69d10eab2752383a1282",
     "grade": false,
     "grade_id": "cell-6a1789906e3f50a4",
     "locked": true,
     "schema_version": 1,
     "solution": false
    }
   },
   "source": [
    "### Ex7: Split the data into Train and Test\n",
    "Split the data into train and test with padded sequences as input and the encoded categorical y as the output; test size of 0.1 and random state of 101."
   ]
  },
  {
   "cell_type": "code",
   "execution_count": null,
   "metadata": {
    "deletable": false,
    "nbgrader": {
     "checksum": "3ab91334e974c9f1f5b569cfcabda43e",
     "grade": false,
     "grade_id": "cell-1c4b0fed651b6a89",
     "locked": false,
     "schema_version": 1,
     "solution": true
    }
   },
   "outputs": [],
   "source": [
    "X_train, X_test, y_train, y_test = None, None, None, None\n",
    "# YOUR CODE HERE\n",
    "raise NotImplementedError()"
   ]
  },
  {
   "cell_type": "markdown",
   "metadata": {
    "deletable": false,
    "editable": false,
    "nbgrader": {
     "checksum": "2fcb841bb2fa9befb6e3731a32ca989a",
     "grade": false,
     "grade_id": "cell-7e856c842981ed86",
     "locked": true,
     "schema_version": 1,
     "solution": false
    }
   },
   "source": [
    "### Ex8: Model and Compile your Neural Network Architecture\n",
    "**<div style=\"text-align: right\"> [Score: 2]</div>**\n",
    "Try to Include \n",
    "1. Embedding layer\n",
    "2. LSTM with dropout\n",
    "3. Dense Output layere\n",
    "4. Use any other layers as required"
   ]
  },
  {
   "cell_type": "code",
   "execution_count": null,
   "metadata": {
    "deletable": false,
    "nbgrader": {
     "checksum": "cb9620bd6366225ea01222c99e22457e",
     "grade": false,
     "grade_id": "cell-fd5782425382cc4c",
     "locked": false,
     "schema_version": 1,
     "solution": true
    }
   },
   "outputs": [],
   "source": [
    "model = None\n",
    "learning_rate = 1e-2  # Choose your Learning Rate\n",
    "numEpoch = 10  # choose Number of Epoch to train your model\n",
    "# YOUR CODE HERE\n",
    "raise NotImplementedError()\n",
    "model.summary()"
   ]
  },
  {
   "cell_type": "code",
   "execution_count": null,
   "metadata": {
    "deletable": false,
    "editable": false,
    "nbgrader": {
     "checksum": "5688ff0650a9037ebd302b68ea3e576e",
     "grade": true,
     "grade_id": "cell-6000a781a6d4e033",
     "locked": true,
     "points": 2,
     "schema_version": 1,
     "solution": false
    }
   },
   "outputs": [],
   "source": [
    "#### INTENTIONALLY LEFT BLANK####"
   ]
  },
  {
   "cell_type": "markdown",
   "metadata": {
    "deletable": false,
    "editable": false,
    "nbgrader": {
     "checksum": "54715de4ea2b48e8ca07935f03148eeb",
     "grade": false,
     "grade_id": "cell-121e6c86aeb486c4",
     "locked": true,
     "schema_version": 1,
     "solution": false
    }
   },
   "source": [
    "### Ex9: Set Callback functions and Train your Model\n",
    "Must include ModelCheckpoint"
   ]
  },
  {
   "cell_type": "code",
   "execution_count": null,
   "metadata": {
    "deletable": false,
    "nbgrader": {
     "checksum": "e38104e1f94aecb6204d73a4398fac8e",
     "grade": false,
     "grade_id": "cell-2b038cd9acff27e1",
     "locked": false,
     "schema_version": 1,
     "solution": true
    }
   },
   "outputs": [],
   "source": [
    "checkpoint_path = 'best_model.h5'\n",
    "callbacks = None\n",
    "# YOUR CODE HERE\n",
    "raise NotImplementedError()"
   ]
  },
  {
   "cell_type": "markdown",
   "metadata": {
    "deletable": false,
    "editable": false,
    "nbgrader": {
     "checksum": "54d13471999efb497adcaa0ee2b391ad",
     "grade": false,
     "grade_id": "cell-9a4744e34f749142",
     "locked": true,
     "schema_version": 1,
     "solution": false
    }
   },
   "source": [
    "**Caution** Comment out the training section before submitting. Submit the code by loading Checkpoint model"
   ]
  },
  {
   "cell_type": "code",
   "execution_count": null,
   "metadata": {
    "deletable": false,
    "nbgrader": {
     "checksum": "9a80745fca13031e6a75172f350e6a46",
     "grade": false,
     "grade_id": "cell-046882fee429c7b3",
     "locked": false,
     "schema_version": 1,
     "solution": true
    }
   },
   "outputs": [],
   "source": [
    "import matplotlib.pyplot as plt\n",
    "%matplotlib inline\n",
    "\n",
    "def plot(history):\n",
    "    \"\"\" Plots model loss from model train history\"\"\"\n",
    "    # YOUR CODE HERE\n",
    "    raise NotImplementedError()"
   ]
  },
  {
   "cell_type": "code",
   "execution_count": null,
   "metadata": {
    "deletable": false,
    "nbgrader": {
     "checksum": "6178697f32ea28437c4c8737623e21e7",
     "grade": false,
     "grade_id": "cell-da3734217f0808b0",
     "locked": false,
     "schema_version": 1,
     "solution": true
    }
   },
   "outputs": [],
   "source": [
    "# Train your model\n",
    "history = None\n",
    "# YOUR CODE HERE\n",
    "raise NotImplementedError()\n",
    "plot(history)"
   ]
  },
  {
   "cell_type": "markdown",
   "metadata": {
    "deletable": false,
    "editable": false,
    "nbgrader": {
     "checksum": "be94367e3458bf5d4e756255f55ff6b7",
     "grade": false,
     "grade_id": "cell-2bcd14f184337c18",
     "locked": true,
     "schema_version": 1,
     "solution": false
    }
   },
   "source": [
    "### Final Task\n",
    "**<div style=\"text-align: right\"> [Score: 9]</div>**\n",
    "Comment out the previous training section and submit by loading your checkpoint below\n",
    "As the Dataset is small your test score and accuracy may be less but will probably perform better in hidden test set.\n",
    "Aim to achieve a score higher than 50 % or higher than your scikit learn project on the same dataset."
   ]
  },
  {
   "cell_type": "code",
   "execution_count": null,
   "metadata": {},
   "outputs": [],
   "source": [
    "train_model = model.load_weights(checkpoint_path)\n",
    "score = model.evaluate(X_test, y_test) \n",
    "print('Test score:', score[0]) \n",
    "print('Test accuracy:', score[1])"
   ]
  },
  {
   "cell_type": "code",
   "execution_count": null,
   "metadata": {
    "deletable": false,
    "editable": false,
    "nbgrader": {
     "checksum": "2157de83f411b03704c10b44d3cc052b",
     "grade": true,
     "grade_id": "cell-d7df9047789247be",
     "locked": true,
     "points": 5,
     "schema_version": 1,
     "solution": false
    }
   },
   "outputs": [],
   "source": [
    "#### INTENTIONALLY LEFT BLANK####"
   ]
  },
  {
   "cell_type": "code",
   "execution_count": null,
   "metadata": {
    "deletable": false,
    "editable": false,
    "nbgrader": {
     "checksum": "a3250bf36970894b0e2388c96a79f1c6",
     "grade": true,
     "grade_id": "cell-ff0b6cf7648e7f8f",
     "locked": true,
     "points": 2,
     "schema_version": 1,
     "solution": false
    }
   },
   "outputs": [],
   "source": [
    "#### INTENTIONALLY LEFT BLANK####"
   ]
  },
  {
   "cell_type": "code",
   "execution_count": null,
   "metadata": {
    "deletable": false,
    "editable": false,
    "nbgrader": {
     "checksum": "3765b5a7bc541980262219837e1e5764",
     "grade": true,
     "grade_id": "cell-8993d5890bfc91ed",
     "locked": true,
     "points": 2,
     "schema_version": 1,
     "solution": false
    }
   },
   "outputs": [],
   "source": [
    "#### INTENTIONALLY LEFT BLANK####"
   ]
  },
  {
   "cell_type": "markdown",
   "metadata": {
    "deletable": false,
    "editable": false,
    "nbgrader": {
     "checksum": "302a15e370ee01a8540e9def5ff35326",
     "grade": false,
     "grade_id": "cell-debd21510fba02c5",
     "locked": true,
     "schema_version": 1,
     "solution": false
    }
   },
   "source": [
    "Congratulations, you have reached the end of the Assignment."
   ]
  }
 ],
 "metadata": {
  "kernelspec": {
   "display_name": "Python 3",
   "language": "python",
   "name": "python3"
  },
  "language_info": {
   "codemirror_mode": {
    "name": "ipython",
    "version": 3
   },
   "file_extension": ".py",
   "mimetype": "text/x-python",
   "name": "python",
   "nbconvert_exporter": "python",
   "pygments_lexer": "ipython3",
   "version": "3.6.8"
  }
 },
 "nbformat": 4,
 "nbformat_minor": 2
}
