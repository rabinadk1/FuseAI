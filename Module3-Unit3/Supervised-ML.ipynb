{
 "cells": [
  {
   "cell_type": "markdown",
   "metadata": {
    "deletable": false,
    "editable": false,
    "nbgrader": {
     "checksum": "fb2f01cb643e892d8bdd788bc8745d3b",
     "grade": false,
     "grade_id": "cell-794f3feef27516a0",
     "locked": true,
     "schema_version": 1,
     "solution": false
    }
   },
   "source": [
    "## Assignment 2.2\n",
    "## Scikit Learn\n",
    "Scikit Learn is an open source, simple and efficient tools for data mining and data analysis. It is built on NumPy, SciPy, and matplotlib and is accessible to everybody, and reusable in various contexts.\n",
    "\n",
    "[Scikit-Learn Official](http://scikit-learn.org/stable/)"
   ]
  },
  {
   "cell_type": "markdown",
   "metadata": {
    "deletable": false,
    "editable": false,
    "nbgrader": {
     "checksum": "8dbc95b51ec8809e5c243a963b9c60b6",
     "grade": false,
     "grade_id": "cell-71d9965d6e26d343",
     "locked": true,
     "schema_version": 1,
     "solution": false
    }
   },
   "source": [
    "### Linear Regression\n",
    "\n",
    "Linear regression is about finding the approximation of a linear model used to describe the relationship between two or more variables. \n",
    "In simple linear regression, there are two variables: a dependent variable and an independent variable (target variable). The main point in the linear regression is that our dependent value should be continuous\n",
    "and cannot be a discrete value. However, the independent variable(s) can be measured on either a categorical or continuous measurement scale.\n",
    "When more than one independent variable is present, then it is called multiple linear regression.\n",
    "\n",
    "We have already carried out Linear Regression using Matrix multiplication in Project of Module 1 where we used the Normal Equation for Linear Regression $Theta = (X^TX)^{-1}X^T$. Complexity of this computation will increase as the number of features increases. It gets very slow when number of features grow large. Thus we'll use other numeric techniques such as least square methods or Optimisation technique to miniize the error.\n",
    "\n",
    "The core idea is to obtain a line or a plane that best fits the data. The best fit line or plane is the one for which total prediction error (all data points) are as small as possible.  Coefficients of the equation of this line are what we want to deduce. \n",
    "\n",
    "$ y = \\Theta_0 + \\Theta_1 * x_1 +\\Theta_2 * x_2 +... $ \n",
    "\n",
    "Notice all the parameters are linear to the weights, hence linear regression.\n",
    "\n",
    "![Linear Regression](https://upload.wikimedia.org/wikipedia/commons/thumb/3/3a/Linear_regression.svg/438px-Linear_regression.svg.png)\n",
    "Error is the distance between the point to the regression line or plane.\n",
    "We minimize this error and estimate the optimized value for theta using least square methods or Optimisation technique such as gradient descent.\n",
    "\n",
    "\n",
    "*Generally, there are two applications for linear regression.*\n",
    "1. Identify the strength of the effect that the independent variables have on a dependent variable.\n",
    "For example, does nearness to a road or having a swiming pool or school nearby have any effect\n",
    "on cost of the house? \n",
    "\n",
    "2. To predict the impact of changes. That is, to understand how the dependent variable changes when we change the independent variables. \n",
    "For example, a multiple linear regression can tell you how much that housing prices increase or decrease for every additional square foot of the house area, holding other factors constant.\n",
    "\n",
    "3. In multiple linear regression, you can examine which variables are significant predictors of the outcome variable.\n",
    "\n",
    "[Linear Regression WIKI](https://en.wikipedia.org/wiki/Linear_regression)"
   ]
  },
  {
   "cell_type": "markdown",
   "metadata": {
    "deletable": false,
    "editable": false,
    "nbgrader": {
     "checksum": "eb59cef8785e68cef65f127652501aa9",
     "grade": false,
     "grade_id": "cell-f506ad8548036f61",
     "locked": true,
     "schema_version": 1,
     "solution": false
    }
   },
   "source": [
    "Data has been imported for you.\n",
    "To know more about datasets available in sklearn, visit this [link](http://scikit-learn.org/stable/datasets/index.html)."
   ]
  },
  {
   "cell_type": "markdown",
   "metadata": {
    "deletable": false,
    "editable": false,
    "nbgrader": {
     "checksum": "ea8ecc3a28dedacd26c503cff182bfed",
     "grade": false,
     "grade_id": "cell-72e4ef7240f0cdf6",
     "locked": true,
     "schema_version": 1,
     "solution": false
    }
   },
   "source": [
    "### Exercise 1\n",
    "\n",
    "Import necessary libraries for\n",
    "- [Linear Machine Learning Model](http://scikit-learn.org/stable/modules/linear_model.html)\n",
    "- [Accuracy Metrics](http://scikit-learn.org/stable/modules/classes.html#module-sklearn.metrics)\n",
    "    - Use Mean Squared Error\n",
    "- Other Necessary Packages such as pandas, numpy and pyplot."
   ]
  },
  {
   "cell_type": "code",
   "execution_count": 53,
   "metadata": {
    "deletable": false,
    "nbgrader": {
     "checksum": "c8abb65ae334d52bd357056ada988688",
     "grade": false,
     "grade_id": "cell-6a2e21f8af4cf299",
     "locked": false,
     "schema_version": 1,
     "solution": true
    }
   },
   "outputs": [],
   "source": [
    "# YOUR CODE HERE\n",
    "import pandas as pd\n",
    "import numpy as np\n",
    "import matplotlib.pyplot as plt\n",
    "from sklearn import linear_model\n",
    "from sklearn.metrics import r2_score"
   ]
  },
  {
   "cell_type": "code",
   "execution_count": 40,
   "metadata": {
    "deletable": false,
    "editable": false,
    "nbgrader": {
     "checksum": "f2911c3e163cd8b892c6a97ae2c44f17",
     "grade": true,
     "grade_id": "cell-e3bda13c5824de4e",
     "locked": true,
     "points": 1,
     "schema_version": 1,
     "solution": false
    }
   },
   "outputs": [],
   "source": [
    "#### INTENTIONALLY LEFT BLANK####"
   ]
  },
  {
   "cell_type": "markdown",
   "metadata": {
    "deletable": false,
    "editable": false,
    "nbgrader": {
     "checksum": "5be59a629ae069cf7fbfe5266e901b7f",
     "grade": false,
     "grade_id": "cell-521107f78a1f635f",
     "locked": true,
     "schema_version": 1,
     "solution": false
    }
   },
   "source": [
    "We will use Fuel Consumption rating dataset for this problem. This Dataset provide model-specific fuel consumption ratings and estimated carbon dioxide emissions for new light-duty vehicles for retail sale in Canada.\n",
    "[Data Source](https://open.canada.ca/data/en/dataset/98f1a129-f628-4ce4-b24d-6f16bf24dd64)\n",
    "\n",
    "### Exercise 2\n",
    "\n",
    "Import the file  ***CO2_1995.csv*** as a dataframe\n",
    "\n",
    "A List of Header names has been provided to you as \"head\"\n",
    "\n",
    "Analyze the dataset and perform any data cleaning that seems to be necessary."
   ]
  },
  {
   "cell_type": "code",
   "execution_count": 41,
   "metadata": {
    "deletable": false,
    "nbgrader": {
     "checksum": "ebd07de5c8a23c66602e591046a64ea9",
     "grade": false,
     "grade_id": "cell-1ee57aa8061c9f90",
     "locked": false,
     "schema_version": 1,
     "solution": true
    }
   },
   "outputs": [
    {
     "data": {
      "text/html": [
       "<div>\n",
       "<style scoped>\n",
       "    .dataframe tbody tr th:only-of-type {\n",
       "        vertical-align: middle;\n",
       "    }\n",
       "\n",
       "    .dataframe tbody tr th {\n",
       "        vertical-align: top;\n",
       "    }\n",
       "\n",
       "    .dataframe thead th {\n",
       "        text-align: right;\n",
       "    }\n",
       "</style>\n",
       "<table border=\"1\" class=\"dataframe\">\n",
       "  <thead>\n",
       "    <tr style=\"text-align: right;\">\n",
       "      <th></th>\n",
       "      <th>MODELYEAR</th>\n",
       "      <th>MAKE</th>\n",
       "      <th>MODEL</th>\n",
       "      <th>VEHICLECLASS</th>\n",
       "      <th>ENGINESIZE</th>\n",
       "      <th>CYLINDERS</th>\n",
       "      <th>TRANSMISSION</th>\n",
       "      <th>FUELTYPE</th>\n",
       "      <th>CITY_FUELCONSUMPTION</th>\n",
       "      <th>HWY_FUELCONSUMPTION</th>\n",
       "      <th>COMB_FUELCONSUMPTION1</th>\n",
       "      <th>COMB_FUELCONSUMPTION2</th>\n",
       "      <th>CO2EMISSIONS</th>\n",
       "    </tr>\n",
       "  </thead>\n",
       "  <tbody>\n",
       "    <tr>\n",
       "      <th>1</th>\n",
       "      <td>1995</td>\n",
       "      <td>ACURA</td>\n",
       "      <td>INTEGRA</td>\n",
       "      <td>SUBCOMPACT</td>\n",
       "      <td>1.8</td>\n",
       "      <td>4.0</td>\n",
       "      <td>A4</td>\n",
       "      <td>X</td>\n",
       "      <td>10.2</td>\n",
       "      <td>7.0</td>\n",
       "      <td>8.8</td>\n",
       "      <td>32</td>\n",
       "      <td>202</td>\n",
       "    </tr>\n",
       "    <tr>\n",
       "      <th>2</th>\n",
       "      <td>1995</td>\n",
       "      <td>ACURA</td>\n",
       "      <td>INTEGRA</td>\n",
       "      <td>SUBCOMPACT</td>\n",
       "      <td>1.8</td>\n",
       "      <td>4.0</td>\n",
       "      <td>M5</td>\n",
       "      <td>X</td>\n",
       "      <td>9.6</td>\n",
       "      <td>7.0</td>\n",
       "      <td>8.4</td>\n",
       "      <td>34</td>\n",
       "      <td>193</td>\n",
       "    </tr>\n",
       "    <tr>\n",
       "      <th>3</th>\n",
       "      <td>1995</td>\n",
       "      <td>ACURA</td>\n",
       "      <td>INTEGRA GS-R</td>\n",
       "      <td>SUBCOMPACT</td>\n",
       "      <td>1.8</td>\n",
       "      <td>4.0</td>\n",
       "      <td>M5</td>\n",
       "      <td>Z</td>\n",
       "      <td>9.4</td>\n",
       "      <td>7.0</td>\n",
       "      <td>8.3</td>\n",
       "      <td>34</td>\n",
       "      <td>191</td>\n",
       "    </tr>\n",
       "    <tr>\n",
       "      <th>4</th>\n",
       "      <td>1995</td>\n",
       "      <td>ACURA</td>\n",
       "      <td>LEGEND</td>\n",
       "      <td>COMPACT</td>\n",
       "      <td>3.2</td>\n",
       "      <td>6.0</td>\n",
       "      <td>A4</td>\n",
       "      <td>Z</td>\n",
       "      <td>12.6</td>\n",
       "      <td>8.9</td>\n",
       "      <td>10.9</td>\n",
       "      <td>26</td>\n",
       "      <td>251</td>\n",
       "    </tr>\n",
       "    <tr>\n",
       "      <th>5</th>\n",
       "      <td>1995</td>\n",
       "      <td>ACURA</td>\n",
       "      <td>LEGEND COUPE</td>\n",
       "      <td>COMPACT</td>\n",
       "      <td>3.2</td>\n",
       "      <td>6.0</td>\n",
       "      <td>A4</td>\n",
       "      <td>Z</td>\n",
       "      <td>13.0</td>\n",
       "      <td>9.3</td>\n",
       "      <td>11.3</td>\n",
       "      <td>25</td>\n",
       "      <td>260</td>\n",
       "    </tr>\n",
       "  </tbody>\n",
       "</table>\n",
       "</div>"
      ],
      "text/plain": [
       "  MODELYEAR   MAKE         MODEL VEHICLECLASS ENGINESIZE  CYLINDERS  \\\n",
       "1      1995  ACURA       INTEGRA   SUBCOMPACT        1.8        4.0   \n",
       "2      1995  ACURA       INTEGRA   SUBCOMPACT        1.8        4.0   \n",
       "3      1995  ACURA  INTEGRA GS-R   SUBCOMPACT        1.8        4.0   \n",
       "4      1995  ACURA        LEGEND      COMPACT        3.2        6.0   \n",
       "5      1995  ACURA  LEGEND COUPE      COMPACT        3.2        6.0   \n",
       "\n",
       "  TRANSMISSION FUELTYPE CITY_FUELCONSUMPTION HWY_FUELCONSUMPTION  \\\n",
       "1           A4        X                 10.2                 7.0   \n",
       "2           M5        X                  9.6                 7.0   \n",
       "3           M5        Z                  9.4                 7.0   \n",
       "4           A4        Z                 12.6                 8.9   \n",
       "5           A4        Z                 13.0                 9.3   \n",
       "\n",
       "  COMB_FUELCONSUMPTION1 COMB_FUELCONSUMPTION2 CO2EMISSIONS  \n",
       "1                   8.8                    32          202  \n",
       "2                   8.4                    34          193  \n",
       "3                   8.3                    34          191  \n",
       "4                  10.9                    26          251  \n",
       "5                  11.3                    25          260  "
      ]
     },
     "execution_count": 41,
     "metadata": {},
     "output_type": "execute_result"
    }
   ],
   "source": [
    "head = [ \"MODELYEAR\", \"MAKE\", \"MODEL\",\"VEHICLECLASS\", \"ENGINESIZE\", \"CYLINDERS\", \"TRANSMISSION\", \"FUELTYPE\",\"CITY_FUELCONSUMPTION\", \"HWY_FUELCONSUMPTION\", \"COMB_FUELCONSUMPTION1\",\"COMB_FUELCONSUMPTION2\", \"CO2EMISSIONS\"]\n",
    "# YOUR CODE HERE\n",
    "df = pd.read_csv(\"./CO2_1995.csv\")\n",
    "df.columns= head\n",
    "df.drop(df.index[0], inplace=True)\n",
    "df.head()"
   ]
  },
  {
   "cell_type": "code",
   "execution_count": 42,
   "metadata": {
    "deletable": false,
    "editable": false,
    "nbgrader": {
     "checksum": "567c22e1b37cb0c27771032ad289f595",
     "grade": true,
     "grade_id": "cell-a3ffa18aea9f2477",
     "locked": true,
     "points": 1,
     "schema_version": 1,
     "solution": false
    }
   },
   "outputs": [],
   "source": [
    "#### INTENTIONALLY LEFT BLANK ####"
   ]
  },
  {
   "cell_type": "markdown",
   "metadata": {},
   "source": [
    "## Analyze the dataset and Implement Linear Regression\n",
    "\n",
    "Before attempting to fit a linear model to observed data, a modeler should first determine whether or not there is a relationship between the variables of interest. This does not necessarily imply that one variable causes the other, but that there is some significant correlation between the two variables. \n",
    "\n",
    "A scatterplot can be a helpful tool in determining the strength of the relationship between two variables. If there appears to be no association between the proposed explanatory and dependent variables (i.e., the scatterplot does not indicate any increasing or decreasing trends), then fitting a linear regression model to the data probably will not provide a useful model. \n",
    "\n",
    "A valuable numerical measure of association between two variables is the correlation coefficient, which is a value between -1 and 1 indicating the strength of the association of the observed data for the two variables. We can use correlation functions for this purpose.\n"
   ]
  },
  {
   "cell_type": "markdown",
   "metadata": {},
   "source": [
    "### Exercise 3\n",
    "\n",
    "Plot Histogram to check the distribution of the data"
   ]
  },
  {
   "cell_type": "code",
   "execution_count": 43,
   "metadata": {
    "deletable": false,
    "nbgrader": {
     "checksum": "d9833a99991361ea415b966cb613cde0",
     "grade": false,
     "grade_id": "cell-02dd148d34469fb7",
     "locked": false,
     "schema_version": 1,
     "solution": true
    }
   },
   "outputs": [
    {
     "data": {
      "image/png": "[encoded data removed]",
      "text/plain": [
       "<Figure size 432x288 with 1 Axes>"
      ]
     },
     "metadata": {},
     "output_type": "display_data"
    }
   ],
   "source": [
    "variables = ['CYLINDERS','ENGINESIZE',\"CITY_FUELCONSUMPTION\"]\n",
    "target = 'CO2EMISSIONS'\n",
    "X = None\n",
    "# YOUR CODE HERE\n",
    "X = df[variables]\n",
    "X.hist()\n",
    "plt.show()"
   ]
  },
  {
   "cell_type": "code",
   "execution_count": 44,
   "metadata": {
    "deletable": false,
    "editable": false,
    "nbgrader": {
     "checksum": "b12a189dcc084748563e98fa804ed9c6",
     "grade": true,
     "grade_id": "cell-72788a61d9c86b4c",
     "locked": true,
     "points": 1,
     "schema_version": 1,
     "solution": false
    }
   },
   "outputs": [],
   "source": [
    "#### INTENTIONALLY LEFT BLANK ####"
   ]
  },
  {
   "cell_type": "markdown",
   "metadata": {},
   "source": [
    "### Exercise 4\n",
    "Assign the target values to y."
   ]
  },
  {
   "cell_type": "code",
   "execution_count": 45,
   "metadata": {
    "deletable": false,
    "nbgrader": {
     "checksum": "c942b7624422d98ade89cd10f5ae8a2e",
     "grade": false,
     "grade_id": "cell-0a998c22a313e10e",
     "locked": false,
     "schema_version": 1,
     "solution": true
    }
   },
   "outputs": [],
   "source": [
    "y = None\n",
    "# YOUR CODE HERE\n",
    "y = df[target]"
   ]
  },
  {
   "cell_type": "code",
   "execution_count": 46,
   "metadata": {
    "deletable": false,
    "editable": false,
    "nbgrader": {
     "checksum": "fa4c77a851c4c064bb720599ed0a0f7b",
     "grade": true,
     "grade_id": "cell-e6b0a542b9dc8a5d",
     "locked": true,
     "points": 1,
     "schema_version": 1,
     "solution": false
    }
   },
   "outputs": [],
   "source": [
    "#### INTENTIONALLY LEFT BLANK ####"
   ]
  },
  {
   "cell_type": "markdown",
   "metadata": {},
   "source": [
    "Let's now plot a scatter plot to check if the chosen variables can be used for linear relationship."
   ]
  },
  {
   "cell_type": "code",
   "execution_count": 47,
   "metadata": {},
   "outputs": [
    {
     "data": {
      "image/png": "[encoded data removed]",
      "text/plain": [
       "<Figure size 432x288 with 3 Axes>"
      ]
     },
     "metadata": {},
     "output_type": "display_data"
    }
   ],
   "source": [
    "nv = len(variables)\n",
    "s = np.ceil(np.sqrt(nv-1)).astype(int)\n",
    "for i in range(nv):\n",
    "    plt.subplot(s,s,i+1)\n",
    "    plt.subplots_adjust(wspace = 0.5,hspace=0.5)\n",
    "    plt.scatter(df[variables[i]], df[target],  color='blue')\n",
    "    plt.xlabel(variables[i])\n",
    "    plt.ylabel(target)\n",
    "plt.show()"
   ]
  },
  {
   "cell_type": "markdown",
   "metadata": {
    "deletable": false,
    "editable": false,
    "nbgrader": {
     "checksum": "08ffa4bc424c2593dbdfac779818235f",
     "grade": false,
     "grade_id": "cell-ed9821e1ee246f6a",
     "locked": true,
     "schema_version": 1,
     "solution": false
    }
   },
   "source": [
    "### Split the data into train, validation and test set\n",
    "\n",
    "Let us now [split the data into a training and testing set](http://scikit-learn.org/stable/modules/generated/sklearn.model_selection.train_test_split.html) which will allow you to produce two mutually exclusive sets. We will use train_test_split twice to split data into training, validation and testing set. Training set would be used for training the model, validation set would be used for tuning the hyperparameters while testing set will be used to evaluate the accuracy and see if your model generalizes well. This means whether the model is able to perform well on data it has not seen before. This is a way to see if the model is overfitting.\n",
    "\n",
    "Overfitting is when a model is trained too well on the training data. You want to avoid overfitting, as this would mean that the model mostly just memorized the training data. This would account for a large accuracy with the training data but a low accuracy in the testing data. "
   ]
  },
  {
   "cell_type": "markdown",
   "metadata": {
    "deletable": false,
    "editable": false,
    "nbgrader": {
     "checksum": "a23a3a25b3a116bfd1870bbec1ce9f30",
     "grade": false,
     "grade_id": "cell-7939ac13a1e5c998",
     "locked": true,
     "schema_version": 1,
     "solution": false
    }
   },
   "source": [
    "<b>Note:</b> We will be using the same random_seed in all our model."
   ]
  },
  {
   "cell_type": "code",
   "execution_count": 54,
   "metadata": {},
   "outputs": [],
   "source": [
    "# Run this cell to set a uniform random_seed\n",
    "random_seed = 7"
   ]
  },
  {
   "cell_type": "markdown",
   "metadata": {
    "deletable": false,
    "editable": false,
    "nbgrader": {
     "checksum": "1daa2f25a8853396eb99abc7e82acad9",
     "grade": false,
     "grade_id": "cell-7168b35aef701f66",
     "locked": true,
     "schema_version": 1,
     "solution": false
    }
   },
   "source": [
    "### Exercise 5\n",
    "Split our data to train and test with the test size of 0.25 and random_state=random_seed."
   ]
  },
  {
   "cell_type": "code",
   "execution_count": 55,
   "metadata": {
    "deletable": false,
    "nbgrader": {
     "checksum": "55a979b0b254895f809201f8eabd41f2",
     "grade": false,
     "grade_id": "cell-5721a56515d68efd",
     "locked": false,
     "schema_version": 1,
     "solution": true
    }
   },
   "outputs": [],
   "source": [
    "from sklearn.model_selection import train_test_split\n",
    "Train_set = None\n",
    "Test_set = None\n",
    "# YOUR CODE HERE\n",
    "X_train, X_test, y_train, y_test = train_test_split(X,y, test_size=0.25, random_state=random_seed)\n",
    "Train_set = (X_train,y_train)\n",
    "Test_set = (X_test,y_test)"
   ]
  },
  {
   "cell_type": "code",
   "execution_count": 56,
   "metadata": {
    "deletable": false,
    "editable": false,
    "nbgrader": {
     "checksum": "1570e73b55af10682f04477db26e1eea",
     "grade": true,
     "grade_id": "cell-592c19b32b2827a3",
     "locked": true,
     "points": 1,
     "schema_version": 1,
     "solution": false
    }
   },
   "outputs": [],
   "source": [
    "#### INTENTIONALLY LEFT BLANK ####"
   ]
  },
  {
   "cell_type": "markdown",
   "metadata": {
    "deletable": false,
    "editable": false,
    "nbgrader": {
     "checksum": "7197d69d91f25db5f0aa1c17ef0b55ad",
     "grade": false,
     "grade_id": "cell-bfa8c5f384ed257b",
     "locked": true,
     "schema_version": 1,
     "solution": false
    }
   },
   "source": [
    "### Exercise 6\n",
    "1. Create Linear Regression object with fit_intercept set to True.\n",
    "2. Train the model using the training sets.\n",
    "3. Save coefficients in Theta."
   ]
  },
  {
   "cell_type": "code",
   "execution_count": 57,
   "metadata": {
    "deletable": false,
    "nbgrader": {
     "checksum": "b7866c2199652e458fc40d72021b2b3b",
     "grade": false,
     "grade_id": "cell-63f21f8f6d09e380",
     "locked": false,
     "schema_version": 1,
     "solution": true
    }
   },
   "outputs": [
    {
     "name": "stdout",
     "output_type": "stream",
     "text": [
      "-3.647805995880232\n",
      "7.394097673385936\n",
      "18.04527737591793\n",
      "19.91206719946885\n"
     ]
    }
   ],
   "source": [
    "Theta = None\n",
    "# YOUR CODE HERE\n",
    "regr = linear_model.LinearRegression(fit_intercept=True).fit(X_train, y_train)\n",
    "Theta = regr.coef_\n",
    "intercept = regr.intercept_\n",
    "print(Theta[0])\n",
    "print(Theta[1])\n",
    "print(Theta[2])\n",
    "print(intercept)"
   ]
  },
  {
   "cell_type": "code",
   "execution_count": 58,
   "metadata": {
    "deletable": false,
    "editable": false,
    "nbgrader": {
     "checksum": "a88eb73bdcf8aba3a6f58d12be12d980",
     "grade": true,
     "grade_id": "cell-d9a80f0ce650638e",
     "locked": true,
     "points": 1,
     "schema_version": 1,
     "solution": false
    }
   },
   "outputs": [],
   "source": [
    "#### INTENTIONALLY LEFT BLANK ####"
   ]
  },
  {
   "cell_type": "markdown",
   "metadata": {
    "deletable": false,
    "editable": false,
    "nbgrader": {
     "checksum": "9c47ccea85f630a49b93f67c7be2a46a",
     "grade": false,
     "grade_id": "cell-5f65373bd9944fc5",
     "locked": true,
     "schema_version": 1,
     "solution": false
    }
   },
   "source": [
    "Let's tune the hyperparamters in the validation set."
   ]
  },
  {
   "cell_type": "markdown",
   "metadata": {
    "deletable": false,
    "editable": false,
    "nbgrader": {
     "checksum": "9bd9a6d22da451aab762c0ad10da821c",
     "grade": false,
     "grade_id": "cell-4cf0b5c027ff5e1b",
     "locked": true,
     "schema_version": 1,
     "solution": false
    }
   },
   "source": [
    "### Exercise 7\n",
    "Find the parameters currently used by our Linear Regression model."
   ]
  },
  {
   "cell_type": "code",
   "execution_count": 59,
   "metadata": {
    "deletable": false,
    "nbgrader": {
     "checksum": "9bb98ab5c93dbc759583ffbb83eaa248",
     "grade": false,
     "grade_id": "cell-2c89816415412573",
     "locked": false,
     "schema_version": 1,
     "solution": true
    }
   },
   "outputs": [
    {
     "name": "stdout",
     "output_type": "stream",
     "text": [
      "{'copy_X': True, 'fit_intercept': True, 'n_jobs': 1, 'normalize': False}\n"
     ]
    }
   ],
   "source": [
    "lr_params = None\n",
    "# YOUR CODE HERE\n",
    "lr_params = regr.get_params()\n",
    "print(lr_params)"
   ]
  },
  {
   "cell_type": "code",
   "execution_count": 60,
   "metadata": {
    "deletable": false,
    "editable": false,
    "nbgrader": {
     "checksum": "3ddc20c81ac7befcd04fb86a5935e707",
     "grade": true,
     "grade_id": "cell-4d2f3b82853afffb",
     "locked": true,
     "points": 1,
     "schema_version": 1,
     "solution": false
    }
   },
   "outputs": [],
   "source": [
    "#### INTENTIONALLY LEFT BLANK ####"
   ]
  },
  {
   "cell_type": "markdown",
   "metadata": {
    "deletable": false,
    "editable": false,
    "nbgrader": {
     "checksum": "df4c02135b1a3c75763b19b0b96af5c6",
     "grade": false,
     "grade_id": "cell-793ad49356b23b2a",
     "locked": true,
     "schema_version": 1,
     "solution": false
    }
   },
   "source": [
    "As we have only 4 parameters and all the parameters seems ok so, let's test our linear regression model on test set."
   ]
  },
  {
   "cell_type": "markdown",
   "metadata": {
    "deletable": false,
    "editable": false,
    "nbgrader": {
     "checksum": "7d2721e927203d2e1b339baeb159a3b7",
     "grade": false,
     "grade_id": "cell-2bd364a609195bfb",
     "locked": true,
     "schema_version": 1,
     "solution": false
    }
   },
   "source": [
    "### Exercise 8\n",
    "Predict the values of the test set in predict_Y."
   ]
  },
  {
   "cell_type": "code",
   "execution_count": 61,
   "metadata": {
    "deletable": false,
    "nbgrader": {
     "checksum": "f6490ab5d057f02db104bcefd013a28b",
     "grade": false,
     "grade_id": "cell-924d1f199bfb5bef",
     "locked": false,
     "schema_version": 1,
     "solution": true
    }
   },
   "outputs": [],
   "source": [
    "predict_Y = None\n",
    "# YOUR CODE HERE\n",
    "predict_Y = regr.predict(X_test)"
   ]
  },
  {
   "cell_type": "code",
   "execution_count": 18,
   "metadata": {
    "deletable": false,
    "editable": false,
    "nbgrader": {
     "checksum": "93d6555c8a0e413816572a31a27d831b",
     "grade": true,
     "grade_id": "cell-7a46620fbeb321b5",
     "locked": true,
     "points": 1,
     "schema_version": 1,
     "solution": false
    }
   },
   "outputs": [],
   "source": [
    "#### INTENTIONALLY LEFT BLANK ####"
   ]
  },
  {
   "cell_type": "markdown",
   "metadata": {
    "deletable": false,
    "editable": false,
    "nbgrader": {
     "checksum": "130c47e616c2fbb0e4a9d77fd2082e09",
     "grade": false,
     "grade_id": "cell-5f8e5ec5fd3387a9",
     "locked": true,
     "schema_version": 1,
     "solution": false
    }
   },
   "source": [
    "### Residual Analysis\n",
    "Randomness and unpredictability are the two main components of a regression model.\n",
    "\n",
    "Prediction = Deterministic + Stochastic\n",
    "\n",
    "Deterministic part is easily covered by the predictor variable in the model. Stochastic part reveals the fact that the expected and observed value is unpredictable. There will always be some information that are missed to cover. This difference in information can be obtained as the residual information. Residual = predicted - target\n",
    "\n",
    "Residual plot helps in analyzing the model using the values of residues. It is plotted between predicted values and residue. Their values are standardized. The distance of the point from 0 specifies how bad the prediction was for that value. If the value is positive, then the prediction is low. If the value is negative, then the prediction is high. 0 value indicates prefect prediction. Detecting residual pattern can improve the model.\n",
    "\n",
    "Non-random pattern of the residual plot indicates that the model is,\n",
    "\n",
    "- Missing a variable which has significant contribution to the model target\n",
    "- Missing to capture non-linearity (using polynomial term)\n",
    "- No interaction between terms in model\n",
    "\n",
    "Characteristics of a residue\n",
    "\n",
    "- Residuals do not exhibit any pattern\n",
    "- Adjacent residuals should not be same as they indicate that there is some information missed by system.\n",
    "\n"
   ]
  },
  {
   "cell_type": "markdown",
   "metadata": {
    "deletable": false,
    "editable": false,
    "nbgrader": {
     "checksum": "6e433639899f2e895f19906e680fae3d",
     "grade": false,
     "grade_id": "cell-40eb24a46cbb2511",
     "locked": true,
     "schema_version": 1,
     "solution": false
    }
   },
   "source": [
    "Now, let's plot a scatterplot of residual with respect to the predicted output."
   ]
  },
  {
   "cell_type": "code",
   "execution_count": 19,
   "metadata": {
    "scrolled": true
   },
   "outputs": [
    {
     "data": {
      "image/png": "[encoded data removed]",
      "text/plain": [
       "<Figure size 432x288 with 1 Axes>"
      ]
     },
     "metadata": {},
     "output_type": "display_data"
    }
   ],
   "source": [
    "figRes = plt.figure(1)\n",
    "plt.scatter(predict_Y, predict_Y - y_test.astype(np.float), c=\"b\")\n",
    "plt.hlines(y=0, xmin=0, xmax=50)\n",
    "plt.title(\"Residual Plot\")\n",
    "plt.ylabel(\"Residual\")\n",
    "pass"
   ]
  },
  {
   "cell_type": "markdown",
   "metadata": {
    "deletable": false,
    "editable": false,
    "nbgrader": {
     "checksum": "9e7196e2763f95a0552b824bf7c9fc7c",
     "grade": false,
     "grade_id": "cell-77211501d8141d74",
     "locked": true,
     "schema_version": 1,
     "solution": false
    }
   },
   "source": [
    "### Metric for Model Evaluation\n",
    "\n",
    "1. Sum of Square Errors(SSE):\n",
    "This gives information about how far estimated regression line is from the best fit or regression line/plane .\n",
    "\n",
    " $SSE = \\Sigma^n_{i=1} (y_{actual} -y_{predicted})^2 $\n",
    " \n",
    "\n",
    "2. Total Sum of Squares (SSTO):\n",
    "This gives information about how much the data point move around the mean.\n",
    "\n",
    " $SSTO = \\Sigma^n_{i=1} (y_{actual} -y_{actual_average})^2 $\n",
    "\n",
    "\n",
    "3. R-Squared Value [$R^2$ or Coefficient of Determination](https://en.wikipedia.org/wiki/Coefficient_of_determination)\n",
    "\n",
    " $R^2 = 1 - \\frac{SSE}{SSTO}$\n",
    " \n",
    "R-squared value ranges from 0 to 1. Value ‘1’ indicates predictor perfectly accounts for all the variation in Y. Value ‘0’ indicates that predictor ‘x’ accounts for no variation in ‘y’. Thus, it provides a measure of how well observed outcomes are replicated by the model."
   ]
  },
  {
   "cell_type": "markdown",
   "metadata": {
    "deletable": false,
    "editable": false,
    "nbgrader": {
     "checksum": "a294c3d9d45e05f9e05a031a237842fb",
     "grade": false,
     "grade_id": "cell-e454c6e18eb31d45",
     "locked": true,
     "schema_version": 1,
     "solution": false
    }
   },
   "source": [
    "### Exercise 9\n",
    "Use sklearn r2_score to evaluate the model prediction."
   ]
  },
  {
   "cell_type": "code",
   "execution_count": 30,
   "metadata": {
    "deletable": false,
    "nbgrader": {
     "checksum": "5d1aa0090813d50f57eb24167689d03b",
     "grade": false,
     "grade_id": "cell-56743ccee22ab999",
     "locked": false,
     "schema_version": 1,
     "solution": true
    }
   },
   "outputs": [],
   "source": [
    "R2Score = None\n",
    "# YOUR CODE HERE\n",
    "R2Score = r2_score(y_test, predict_Y)"
   ]
  },
  {
   "cell_type": "code",
   "execution_count": 31,
   "metadata": {
    "deletable": false,
    "editable": false,
    "nbgrader": {
     "checksum": "b954021066f639911bcbeb515326c367",
     "grade": true,
     "grade_id": "cell-eeb73c6d208c0d36",
     "locked": true,
     "points": 1,
     "schema_version": 1,
     "solution": false
    }
   },
   "outputs": [],
   "source": [
    "#### INTENTIONALLY LEFT BLANK ####"
   ]
  },
  {
   "cell_type": "markdown",
   "metadata": {
    "deletable": false,
    "editable": false,
    "nbgrader": {
     "checksum": "08cc461bcf4dd431579ed2d80034780d",
     "grade": false,
     "grade_id": "cell-ff77de172c46f1f0",
     "locked": true,
     "schema_version": 1,
     "solution": false
    }
   },
   "source": [
    "### LASSO & RIDGE Regression\n",
    "Lasso and ridge regression are powerful extension for linear regression generally used in presence of large number of features. These techniques reduces the risk of overfitting and reduce computational challenges.Both of them work by penalizing the magnitude of coefficients of features along with minimizing the error between predicted and actual observations. So, these are called ‘regularization’ techniques. The key difference is in how they assign penalty to the coefficients:\n",
    "\n",
    "<b>Lasso Regression:</b> Performs L1 regularization, i.e. adds penalty equivalent to absolute value of the magnitude of coefficients\n",
    "Minimization objective = Least squares objective + α * (sum of absolute value of coefficients)\n",
    "\n",
    "<b>Ridge Regression:</b> Performs L2 regularization, i.e. adds penalty equivalent to square of the magnitude of coefficients\n",
    "Minimization objective = Least squares objective + α * (sum of square of coefficients)\n",
    "\n",
    "Now, let's create lasso regression object.\n",
    "\n",
    "### Exercise 10\n",
    "<br>1. Create lasso regression object, regr_Lasso with fit_intercept set to True, alpha=50 and random_state as the random_seed.\n",
    "<br>2. Train the model using the training sets.\n",
    "<br>3. Save coefficients in Theta_Lasso."
   ]
  },
  {
   "cell_type": "code",
   "execution_count": 23,
   "metadata": {
    "deletable": false,
    "nbgrader": {
     "checksum": "1cd2889f24592267dfff9c6ef00bf39f",
     "grade": false,
     "grade_id": "cell-451f19f374f5347a",
     "locked": false,
     "schema_version": 1,
     "solution": true
    }
   },
   "outputs": [
    {
     "name": "stdout",
     "output_type": "stream",
     "text": [
      "14.46124394115535\n"
     ]
    }
   ],
   "source": [
    "regr_Lasso = None\n",
    "Theta_Lasso = None\n",
    "# YOUR CODE HERE\n",
    "regr_Lasso = linear_model.Lasso(fit_intercept=True, alpha=50, random_state=random_seed)\n",
    "regr_Lasso.fit(X_train, y_train)\n",
    "Theta_Lasso = regr_Lasso.coef_\n",
    "print(Theta_Lasso[2])"
   ]
  },
  {
   "cell_type": "code",
   "execution_count": 24,
   "metadata": {
    "deletable": false,
    "editable": false,
    "nbgrader": {
     "checksum": "9c5ae8a4a8e1c5d43240d6d7aa82a744",
     "grade": true,
     "grade_id": "cell-43cdf651196ff57c",
     "locked": true,
     "points": 1,
     "schema_version": 1,
     "solution": false
    }
   },
   "outputs": [],
   "source": [
    "#### INTENTIONALLY LEFT BLANK ####"
   ]
  },
  {
   "cell_type": "markdown",
   "metadata": {
    "deletable": false,
    "editable": false,
    "nbgrader": {
     "checksum": "543bc89908eb6745c3b0ff5e8d9fe433",
     "grade": false,
     "grade_id": "cell-f0650c389905e00d",
     "locked": true,
     "schema_version": 1,
     "solution": false
    }
   },
   "source": [
    "### Exercise 11\n",
    "Calculate r2_score for LASSO Regression."
   ]
  },
  {
   "cell_type": "code",
   "execution_count": 25,
   "metadata": {
    "deletable": false,
    "nbgrader": {
     "checksum": "ce083ac8ea75565263c9d5ca1bd5d640",
     "grade": false,
     "grade_id": "cell-54a3b9e36c1c2cec",
     "locked": false,
     "schema_version": 1,
     "solution": true
    }
   },
   "outputs": [
    {
     "name": "stdout",
     "output_type": "stream",
     "text": [
      "0.9075072073291988\n"
     ]
    }
   ],
   "source": [
    "r2score_LASSO = None\n",
    "# YOUR CODE HERE\n",
    "r2score_LASSO = r2_score(y_test, regr_Lasso.predict(X_test))\n",
    "print(r2score_LASSO)"
   ]
  },
  {
   "cell_type": "markdown",
   "metadata": {
    "deletable": false,
    "editable": false,
    "nbgrader": {
     "checksum": "12b689c9dec840a3cfd9c7caeef9e421",
     "grade": false,
     "grade_id": "cell-3202172d84cff319",
     "locked": true,
     "schema_version": 1,
     "solution": false
    }
   },
   "source": [
    "You must have got the r2score of approximately 0.91."
   ]
  },
  {
   "cell_type": "code",
   "execution_count": 26,
   "metadata": {
    "deletable": false,
    "editable": false,
    "nbgrader": {
     "checksum": "9c936bd6d1fea0d5d29a254f2bef2f08",
     "grade": true,
     "grade_id": "cell-5463ecd5359e68a6",
     "locked": true,
     "points": 1,
     "schema_version": 1,
     "solution": false
    }
   },
   "outputs": [],
   "source": [
    "#### INTENTIONALLY LEFT BLANK ####"
   ]
  },
  {
   "cell_type": "markdown",
   "metadata": {
    "deletable": false,
    "editable": false,
    "nbgrader": {
     "checksum": "084accbe27e90a5545a44e49c21a3aa4",
     "grade": false,
     "grade_id": "cell-f6bc93296fc00344",
     "locked": true,
     "schema_version": 1,
     "solution": false
    }
   },
   "source": [
    "### Grid Search for Alpha using a logarithmically spaced array\n",
    "\n",
    "Let us now do the grid search over alphas and find the best parameter."
   ]
  },
  {
   "cell_type": "code",
   "execution_count": 27,
   "metadata": {},
   "outputs": [
    {
     "name": "stdout",
     "output_type": "stream",
     "text": [
      "0.9628664869538451\n",
      "Lasso(alpha=1.023292992280754, copy_X=True, fit_intercept=True, max_iter=1000,\n",
      "   normalize=False, positive=False, precompute=False, random_state=None,\n",
      "   selection='cyclic', tol=0.0001, warm_start=False)\n"
     ]
    }
   ],
   "source": [
    "alphas = np.logspace(0.01,1,10)\n",
    "from sklearn.model_selection import GridSearchCV, cross_val_score\n",
    "param_grid = {\"alpha\":alphas}\n",
    "grid = GridSearchCV(linear_model.Lasso(), param_grid=param_grid)\n",
    "myfit = grid.fit(X_train,y_train)\n",
    "print(myfit.best_score_)\n",
    "print(myfit.best_estimator_)"
   ]
  },
  {
   "cell_type": "markdown",
   "metadata": {
    "deletable": false,
    "editable": false,
    "nbgrader": {
     "checksum": "3d8cebe79c14de5f3190a8a5fd506b59",
     "grade": false,
     "grade_id": "cell-28c1c2165109b6d9",
     "locked": true,
     "schema_version": 1,
     "solution": false
    }
   },
   "source": [
    "So, the best value of alpha is approx. 1.023. We can also see our best_score increasing after using grid search."
   ]
  },
  {
   "cell_type": "markdown",
   "metadata": {
    "deletable": false,
    "editable": false,
    "nbgrader": {
     "checksum": "485c8f5f38eb8bb0e146c1a7d5dc837e",
     "grade": false,
     "grade_id": "cell-175c0eedae0301f1",
     "locked": true,
     "schema_version": 1,
     "solution": false
    }
   },
   "source": [
    "### Exercise 12\n",
    "Calculate the r2_score of our new predicted values using grid search in r2_score_lasso."
   ]
  },
  {
   "cell_type": "code",
   "execution_count": 28,
   "metadata": {
    "deletable": false,
    "nbgrader": {
     "checksum": "02760053adc757b123de29568b376d3c",
     "grade": false,
     "grade_id": "cell-11c7f4ba33596608",
     "locked": false,
     "schema_version": 1,
     "solution": true
    }
   },
   "outputs": [
    {
     "data": {
      "text/plain": [
       "0.9690211342871922"
      ]
     },
     "execution_count": 28,
     "metadata": {},
     "output_type": "execute_result"
    }
   ],
   "source": [
    "r2_score_lasso = None\n",
    "# YOUR CODE HERE\n",
    "r2_score_lasso = r2_score(y_test, myfit.predict(X_test))\n",
    "r2_score_lasso"
   ]
  },
  {
   "cell_type": "code",
   "execution_count": 29,
   "metadata": {
    "deletable": false,
    "editable": false,
    "nbgrader": {
     "checksum": "61c98d46355c0a94e187f89435fa2e87",
     "grade": true,
     "grade_id": "cell-55dc6d79af349c70",
     "locked": true,
     "points": 1,
     "schema_version": 1,
     "solution": false
    }
   },
   "outputs": [],
   "source": [
    "#### INTENTIONALLY LEFT BLANK ####\n",
    "### BEGIN HIDDEN TEST\n",
    "assert(r2_score_lasso >= 0.9)\n",
    "### END HIDDEN TEST"
   ]
  },
  {
   "cell_type": "markdown",
   "metadata": {
    "deletable": false,
    "editable": false,
    "nbgrader": {
     "checksum": "c15c548f391e43a84ce5d1855a7555ec",
     "grade": false,
     "grade_id": "cell-a99634790b0dbb67",
     "locked": true,
     "schema_version": 1,
     "solution": false
    }
   },
   "source": [
    "Congratulations, you have now implemented simple linear regression, lasso_regression and lasso_regression with the best hyperparameters using grid search."
   ]
  },
  {
   "cell_type": "code",
   "execution_count": null,
   "metadata": {},
   "outputs": [],
   "source": []
  }
 ],
 "metadata": {
  "kernelspec": {
   "display_name": "Python 3",
   "language": "python",
   "name": "python3"
  },
  "language_info": {
   "codemirror_mode": {
    "name": "ipython",
    "version": 3
   },
   "file_extension": ".py",
   "mimetype": "text/x-python",
   "name": "python",
   "nbconvert_exporter": "python",
   "pygments_lexer": "ipython3",
   "version": "3.6.8"
  }
 },
 "nbformat": 4,
 "nbformat_minor": 2
}
