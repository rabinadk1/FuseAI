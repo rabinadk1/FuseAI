{
 "cells": [
  {
   "cell_type": "markdown",
   "metadata": {
    "deletable": false,
    "editable": false,
    "nbgrader": {
     "checksum": "ef5e90346f4519987224082120a1d4dc",
     "grade": false,
     "grade_id": "cell-5e7870b6dfa75a5c",
     "locked": true,
     "schema_version": 1,
     "solution": false
    }
   },
   "source": [
    "## Assignment 1.3 Numpy\n",
    "Numpy is a library for the Python programming language, adding support for large, multi-dimensional arrays and matrices, along with a large collection of high-level mathematical functions to operate on these arrays. \n",
    "[Numpy Official Documentation](http://www.numpy.org/)"
   ]
  },
  {
   "cell_type": "code",
   "execution_count": 44,
   "metadata": {
    "deletable": false,
    "nbgrader": {
     "checksum": "e73e7be1f2c5cd060cc3ce5f4dbe4968",
     "grade": false,
     "grade_id": "cell-407e2d60461b23e6",
     "locked": false,
     "schema_version": 1,
     "solution": true
    }
   },
   "outputs": [],
   "source": [
    "# Import Numpy\n",
    "\n",
    "# YOUR CODE HERE\n",
    "import numpy as np"
   ]
  },
  {
   "cell_type": "code",
   "execution_count": null,
   "metadata": {
    "deletable": false,
    "editable": false,
    "nbgrader": {
     "checksum": "97a19374ee8659e4c921fdbb20aa0934",
     "grade": true,
     "grade_id": "cell-c5ae32b83b1d3fbc",
     "locked": true,
     "points": 1,
     "schema_version": 1,
     "solution": false
    }
   },
   "outputs": [],
   "source": []
  },
  {
   "cell_type": "markdown",
   "metadata": {
    "deletable": false,
    "editable": false,
    "nbgrader": {
     "checksum": "a3dfe46d370e524d11987e811bd0a3bd",
     "grade": false,
     "grade_id": "cell-0459419e6baf5e11",
     "locked": true,
     "schema_version": 1,
     "solution": false
    }
   },
   "source": [
    "NumPy’s main object is the homogeneous multidimensional array. It is a table of elements (usually numbers), all of the same type, indexed by a tuple of positive integers.\n",
    "\n",
    "Go through [this quick tutorial](https://docs.scipy.org/doc/numpy/user/quickstart.html) to get started."
   ]
  },
  {
   "cell_type": "code",
   "execution_count": 45,
   "metadata": {
    "deletable": false,
    "nbgrader": {
     "checksum": "9e5c54dd7a35f9fdd76863e9654370b3",
     "grade": false,
     "grade_id": "cell-e21e5e2a23f7260c",
     "locked": false,
     "schema_version": 1,
     "solution": true
    }
   },
   "outputs": [],
   "source": [
    "# Find indices of non-zero elements from A as array of X-coordinates and Y-coordinates \n",
    "# and store it in variable \"indices\"\n",
    "# nonzero function could be useful\n",
    "A = np.array([[1,4,2],[0,5,7],[0,4,0],[1,2,0]])\n",
    "# YOUR CODE HERE\n",
    "# for i in range(A.shape[0]):\n",
    "#     for j in range(A.shape[1]):\n",
    "#         if A[i][j] != 0:\n",
    "#             indices.append((i,j))\n",
    "indices = A.nonzero()"
   ]
  },
  {
   "cell_type": "code",
   "execution_count": null,
   "metadata": {
    "deletable": false,
    "editable": false,
    "nbgrader": {
     "checksum": "801f14109529099c11d9a593dfdde823",
     "grade": true,
     "grade_id": "cell-4734df5d6d726bbe",
     "locked": true,
     "points": 1,
     "schema_version": 1,
     "solution": false
    }
   },
   "outputs": [],
   "source": []
  },
  {
   "cell_type": "markdown",
   "metadata": {
    "deletable": false,
    "editable": false,
    "nbgrader": {
     "checksum": "137e3f5b7852cfdf032e39591b859d04",
     "grade": false,
     "grade_id": "cell-104e16e09805a0e5",
     "locked": true,
     "schema_version": 1,
     "solution": false
    }
   },
   "source": [
    "### Random Number Generation\n",
    "The use of randomness is an important part of the configuration and evaluation of machine learning algorithms.\n",
    "\n",
    "From the random initialization of weights in an artificial neural network, to the splitting of data into random train and test sets, to the random shuffling of a training dataset in stochastic gradient descent, generating random numbers and harnessing randomness is a required skill.\n",
    "\n",
    "Check out: [Numpy Random Routines](https://docs.scipy.org/doc/numpy-1.15.1/reference/routines.random.html)\n",
    "\n",
    "Try to learn about\n",
    "- Random Int, Float Generation\n",
    "- Seed\n",
    "- Normal or Gaussian Distribution\n",
    "- Shuffle NumPy Array"
   ]
  },
  {
   "cell_type": "code",
   "execution_count": 46,
   "metadata": {
    "deletable": false,
    "nbgrader": {
     "checksum": "7ca21627a06db6913d3593b21d92bf54",
     "grade": false,
     "grade_id": "cell-d9de39c7298f8a33",
     "locked": false,
     "schema_version": 1,
     "solution": true
    }
   },
   "outputs": [],
   "source": [
    "# create a 20X10 matrix of random numbers using seed = 7 and store it in B\n",
    "seed = 7\n",
    "B = None\n",
    "# YOUR CODE HERE\n",
    "np.random.seed(seed)\n",
    "B = np.random.rand(20,10)"
   ]
  },
  {
   "cell_type": "code",
   "execution_count": null,
   "metadata": {
    "deletable": false,
    "editable": false,
    "nbgrader": {
     "checksum": "5da123ddc4b7593e1fd403203d18da2e",
     "grade": true,
     "grade_id": "cell-fdf9824a430587c0",
     "locked": true,
     "points": 1,
     "schema_version": 1,
     "solution": false
    }
   },
   "outputs": [],
   "source": []
  },
  {
   "cell_type": "markdown",
   "metadata": {
    "deletable": false,
    "editable": false,
    "nbgrader": {
     "checksum": "59a43997e80c9f1abfa37fbfdf680511",
     "grade": false,
     "grade_id": "cell-a75aa43bd46c6fc9",
     "locked": true,
     "schema_version": 1,
     "solution": false
    }
   },
   "source": [
    "### Reshaping\n",
    "Machine learning data is generally represented as numpy arrays. Many times such data needs to be reshaped into another shape. Such as a 2-Dimensional array might be required to be changed to 1-Dimensional."
   ]
  },
  {
   "cell_type": "code",
   "execution_count": 47,
   "metadata": {
    "deletable": false,
    "nbgrader": {
     "checksum": "ca6664bb66e60e34248431982f3e6c6e",
     "grade": false,
     "grade_id": "cell-765efc861e170c4d",
     "locked": false,
     "schema_version": 1,
     "solution": true
    }
   },
   "outputs": [],
   "source": [
    "# Reshape the matrix B into 10X20 matrix and store it in C\n",
    "C = None\n",
    "# YOUR CODE HERE\n",
    "C = B.reshape(10,20)"
   ]
  },
  {
   "cell_type": "code",
   "execution_count": 48,
   "metadata": {
    "deletable": false,
    "editable": false,
    "nbgrader": {
     "checksum": "0453ac9ea7be44b3b13a33fbfd16f48b",
     "grade": true,
     "grade_id": "cell-2b07046cbadab284",
     "locked": true,
     "points": 1,
     "schema_version": 1,
     "solution": false
    }
   },
   "outputs": [],
   "source": [
    "assert(C.shape == (10,20))"
   ]
  },
  {
   "cell_type": "markdown",
   "metadata": {
    "deletable": false,
    "editable": false,
    "nbgrader": {
     "checksum": "50fcddf0dd35458aff53a5fa5dfb25b7",
     "grade": false,
     "grade_id": "cell-87805fdaf1211860",
     "locked": true,
     "schema_version": 1,
     "solution": false
    }
   },
   "source": [
    "Perform Matrix multiplication between B and C\n",
    "$$\n",
    "Prod = B \\cdot C\n",
    "$$"
   ]
  },
  {
   "cell_type": "code",
   "execution_count": 49,
   "metadata": {
    "deletable": false,
    "nbgrader": {
     "checksum": "4e306445af69a4b1a83323a4a6e4004a",
     "grade": false,
     "grade_id": "cell-fc5b00521b726684",
     "locked": false,
     "schema_version": 1,
     "solution": true
    }
   },
   "outputs": [],
   "source": [
    "Prod = None\n",
    "# YOUR CODE HERE\n",
    "Prod = np.matmul(B,C)"
   ]
  },
  {
   "cell_type": "code",
   "execution_count": null,
   "metadata": {
    "deletable": false,
    "editable": false,
    "nbgrader": {
     "checksum": "94ad762e4b7292a1342eb582f1f60d04",
     "grade": true,
     "grade_id": "cell-3a3d1357d470fa3e",
     "locked": true,
     "points": 1,
     "schema_version": 1,
     "solution": false
    }
   },
   "outputs": [],
   "source": []
  },
  {
   "cell_type": "markdown",
   "metadata": {
    "deletable": false,
    "editable": false,
    "nbgrader": {
     "checksum": "dcee238b54be63f0945575d86afe9b01",
     "grade": false,
     "grade_id": "cell-8f0222a161e3e5c0",
     "locked": true,
     "schema_version": 1,
     "solution": false
    }
   },
   "source": [
    "Calculate A squared\n",
    "$$\n",
    "A^2 = A \\cdot A^T\n",
    "$$"
   ]
  },
  {
   "cell_type": "code",
   "execution_count": 50,
   "metadata": {
    "deletable": false,
    "nbgrader": {
     "checksum": "cc557026eec630187151b01ad6670040",
     "grade": false,
     "grade_id": "cell-696b88e57b529140",
     "locked": false,
     "schema_version": 1,
     "solution": true
    }
   },
   "outputs": [],
   "source": [
    "A_sq = None\n",
    "# YOUR CODE HERE\n",
    "A_sq = np.matmul(A, np.transpose(A))"
   ]
  },
  {
   "cell_type": "code",
   "execution_count": null,
   "metadata": {
    "deletable": false,
    "editable": false,
    "nbgrader": {
     "checksum": "016dc416425d9d84dc435a5ba9fff108",
     "grade": true,
     "grade_id": "cell-f6ad93fe17f1e87b",
     "locked": true,
     "points": 1,
     "schema_version": 1,
     "solution": false
    }
   },
   "outputs": [],
   "source": []
  },
  {
   "cell_type": "code",
   "execution_count": 51,
   "metadata": {
    "deletable": false,
    "nbgrader": {
     "checksum": "b05f28915e026e7926fc56bee7f7f7da",
     "grade": false,
     "grade_id": "cell-367f5a191fdac5f1",
     "locked": false,
     "schema_version": 1,
     "solution": true
    }
   },
   "outputs": [],
   "source": [
    "#concatenation\n",
    "A = np.array([[1,2],[3,4]]) \n",
    "B = np.array([[5,6],[7,8]]) \n",
    "# Concate A and B vertically\n",
    "concatenated = None\n",
    "# YOUR CODE HERE\n",
    "concatenated = np.concatenate((A,B))"
   ]
  },
  {
   "cell_type": "code",
   "execution_count": null,
   "metadata": {
    "deletable": false,
    "editable": false,
    "nbgrader": {
     "checksum": "f0754394ed8c9c7dbce93f90bcfc111d",
     "grade": true,
     "grade_id": "cell-2b56e9185f1bcea0",
     "locked": true,
     "points": 1,
     "schema_version": 1,
     "solution": false
    }
   },
   "outputs": [],
   "source": []
  },
  {
   "cell_type": "markdown",
   "metadata": {
    "deletable": false,
    "editable": false,
    "nbgrader": {
     "checksum": "bf565e877fef922602fab573ecc74d98",
     "grade": false,
     "grade_id": "cell-a9f72f15b5639574",
     "locked": true,
     "schema_version": 1,
     "solution": false
    }
   },
   "source": [
    "Write a function that given inputs X and y returns theta as follows:\n",
    "$$\n",
    "theta = (X^{T}X)^{-1}X^{T}y\n",
    "$$\n",
    "where,\n",
    "- X is a ndarray of size M X N\n",
    "- y is a ndarray of size M X 1\n",
    "Please go through linalg routines of numpy to solve this problem.\n",
    "https://docs.scipy.org/doc/numpy/reference/routines.linalg.html\n",
    "\n",
    "This is Normal Equation for [Ordinary Least Square](https://en.wikipedia.org/wiki/Ordinary_least_squares)."
   ]
  },
  {
   "cell_type": "code",
   "execution_count": 52,
   "metadata": {
    "deletable": false,
    "nbgrader": {
     "checksum": "fe4b61b76e16e416a8d6d731152cb5c8",
     "grade": false,
     "grade_id": "cell-0790ab535a2aad5c",
     "locked": false,
     "schema_version": 1,
     "solution": true
    }
   },
   "outputs": [],
   "source": [
    "def f(X, y):\n",
    "    # YOUR CODE HERE\n",
    "    transposeX = np.transpose(X)\n",
    "    inverseGroup = np.linalg.inv(np.matmul(transposeX, X))\n",
    "    totalX = np.matmul(inverseGroup,transposeX)\n",
    "    return np.matmul(totalX, y)"
   ]
  },
  {
   "cell_type": "code",
   "execution_count": null,
   "metadata": {
    "deletable": false,
    "editable": false,
    "nbgrader": {
     "checksum": "4bae481b866ff54191a2e57cc7f4db14",
     "grade": true,
     "grade_id": "cell-8815f55c00de7ca5",
     "locked": true,
     "points": 1,
     "schema_version": 1,
     "solution": false
    }
   },
   "outputs": [],
   "source": []
  },
  {
   "cell_type": "code",
   "execution_count": null,
   "metadata": {},
   "outputs": [],
   "source": []
  },
  {
   "cell_type": "code",
   "execution_count": null,
   "metadata": {},
   "outputs": [],
   "source": []
  }
 ],
 "metadata": {
  "kernelspec": {
   "display_name": "Python 3",
   "language": "python",
   "name": "python3"
  },
  "language_info": {
   "codemirror_mode": {
    "name": "ipython",
    "version": 3
   },
   "file_extension": ".py",
   "mimetype": "text/x-python",
   "name": "python",
   "nbconvert_exporter": "python",
   "pygments_lexer": "ipython3",
   "version": "3.6.8"
  }
 },
 "nbformat": 4,
 "nbformat_minor": 2
}
