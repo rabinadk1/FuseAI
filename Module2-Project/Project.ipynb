{
 "cells": [
  {
   "cell_type": "markdown",
   "metadata": {
    "deletable": false,
    "editable": false,
    "nbgrader": {
     "checksum": "07aab76979c89ae9685f255b032b1aaa",
     "grade": false,
     "grade_id": "cell-06c2ca29c5d56489",
     "locked": true,
     "schema_version": 1,
     "solution": false
    }
   },
   "source": [
    "# Project 1\n",
    "\n",
    "In this project, you'll work on a modified version of the [Boston Housing Dataset](https://www.cs.toronto.edu/~delve/data/boston/bostonDetail.html).\n",
    "\n",
    "You'll combine data from two files. Then preprocess and clean them before performing the final computation.\n",
    "\n",
    "Table1:\n",
    "- ID:       Identifier\n",
    "- CRIM:     per capita crime rate by town\n",
    "- ZN:       proportion of residential land zoned for lots over 25,000 sq.ft.\n",
    "- INDUS:    proportion of non-retail business acres per town\n",
    "- CHAS:     Charles River dummy variable (= \"Bound\" if tract bounds river; \"NoBound\" otherwise)\n",
    "\n",
    "Table2:\n",
    "- ID:       Identifier\n",
    "- NOX:      nitric oxides concentration (parts per 10 million)\n",
    "- RM:       average number of rooms per dwelling\n",
    "- AGE:      proportion of owner-occupied units built prior to 1940\n",
    "- DIS:      weighted distances to five Boston employment centres\n",
    "- RAD:      index of accessibility to radial highways\n",
    "- TAX:      full-value property-tax rate per \\$10,000\n",
    "- PTRATIO:  pupil-teacher ratio by town\n",
    "- B        1000:(Bk - 0.63)^2 where Bk is the proportion of blacks by town\n",
    "- LSTAT:    % lower status of the population\n",
    "- PRICE:     Median value of owner-occupied homes in $1000's\n",
    "\n"
   ]
  },
  {
   "cell_type": "code",
   "execution_count": 1,
   "metadata": {},
   "outputs": [],
   "source": [
    "import numpy as np\n",
    "import pandas as pd\n",
    "import matplotlib.pyplot as plt"
   ]
  },
  {
   "cell_type": "code",
   "execution_count": 2,
   "metadata": {},
   "outputs": [],
   "source": [
    "dataset_path1 = './housing1.csv'\n",
    "dataset_path2 = './housing2.csv'"
   ]
  },
  {
   "cell_type": "code",
   "execution_count": 3,
   "metadata": {},
   "outputs": [],
   "source": [
    "# Read in the two datasets\n",
    "\n",
    "# Your Code Here\n",
    "data1 = pd.read_csv(dataset_path1)\n",
    "data2 = pd.read_csv(dataset_path2)"
   ]
  },
  {
   "cell_type": "code",
   "execution_count": 4,
   "metadata": {},
   "outputs": [
    {
     "data": {
      "text/html": [
       "<div>\n",
       "<style scoped>\n",
       "    .dataframe tbody tr th:only-of-type {\n",
       "        vertical-align: middle;\n",
       "    }\n",
       "\n",
       "    .dataframe tbody tr th {\n",
       "        vertical-align: top;\n",
       "    }\n",
       "\n",
       "    .dataframe thead th {\n",
       "        text-align: right;\n",
       "    }\n",
       "</style>\n",
       "<table border=\"1\" class=\"dataframe\">\n",
       "  <thead>\n",
       "    <tr style=\"text-align: right;\">\n",
       "      <th></th>\n",
       "      <th>CRIM</th>\n",
       "      <th>ZN</th>\n",
       "      <th>INDUS</th>\n",
       "      <th>ID</th>\n",
       "      <th>NOX</th>\n",
       "      <th>RM</th>\n",
       "      <th>AGE</th>\n",
       "      <th>DIS</th>\n",
       "      <th>RAD</th>\n",
       "      <th>TAX</th>\n",
       "      <th>PTRATIO</th>\n",
       "      <th>B</th>\n",
       "      <th>LSTAT</th>\n",
       "      <th>PRICE</th>\n",
       "    </tr>\n",
       "  </thead>\n",
       "  <tbody>\n",
       "    <tr>\n",
       "      <th>count</th>\n",
       "      <td>294.000000</td>\n",
       "      <td>294.000000</td>\n",
       "      <td>294.000000</td>\n",
       "      <td>300.000000</td>\n",
       "      <td>239.000000</td>\n",
       "      <td>300.000000</td>\n",
       "      <td>300.000000</td>\n",
       "      <td>300.000000</td>\n",
       "      <td>266.000000</td>\n",
       "      <td>300.000000</td>\n",
       "      <td>300.000000</td>\n",
       "      <td>300.000000</td>\n",
       "      <td>300.000000</td>\n",
       "      <td>300.000000</td>\n",
       "    </tr>\n",
       "    <tr>\n",
       "      <th>mean</th>\n",
       "      <td>3.596244</td>\n",
       "      <td>10.889456</td>\n",
       "      <td>11.240816</td>\n",
       "      <td>149.500000</td>\n",
       "      <td>0.552858</td>\n",
       "      <td>6.332167</td>\n",
       "      <td>68.114333</td>\n",
       "      <td>3.725540</td>\n",
       "      <td>9.755639</td>\n",
       "      <td>412.113333</td>\n",
       "      <td>18.536000</td>\n",
       "      <td>352.646333</td>\n",
       "      <td>12.309433</td>\n",
       "      <td>22.696667</td>\n",
       "    </tr>\n",
       "    <tr>\n",
       "      <th>std</th>\n",
       "      <td>8.118095</td>\n",
       "      <td>22.559943</td>\n",
       "      <td>6.877679</td>\n",
       "      <td>86.746758</td>\n",
       "      <td>0.109432</td>\n",
       "      <td>0.703308</td>\n",
       "      <td>28.059112</td>\n",
       "      <td>2.030328</td>\n",
       "      <td>8.819172</td>\n",
       "      <td>169.430703</td>\n",
       "      <td>2.116894</td>\n",
       "      <td>96.928211</td>\n",
       "      <td>7.079180</td>\n",
       "      <td>9.243412</td>\n",
       "    </tr>\n",
       "    <tr>\n",
       "      <th>min</th>\n",
       "      <td>0.006320</td>\n",
       "      <td>0.000000</td>\n",
       "      <td>1.210000</td>\n",
       "      <td>0.000000</td>\n",
       "      <td>0.385000</td>\n",
       "      <td>3.561000</td>\n",
       "      <td>2.900000</td>\n",
       "      <td>1.129600</td>\n",
       "      <td>1.000000</td>\n",
       "      <td>188.000000</td>\n",
       "      <td>12.600000</td>\n",
       "      <td>0.320000</td>\n",
       "      <td>1.730000</td>\n",
       "      <td>5.600000</td>\n",
       "    </tr>\n",
       "    <tr>\n",
       "      <th>25%</th>\n",
       "      <td>0.082492</td>\n",
       "      <td>0.000000</td>\n",
       "      <td>5.145000</td>\n",
       "      <td>74.750000</td>\n",
       "      <td>0.464000</td>\n",
       "      <td>5.926750</td>\n",
       "      <td>42.250000</td>\n",
       "      <td>2.096725</td>\n",
       "      <td>4.000000</td>\n",
       "      <td>283.250000</td>\n",
       "      <td>17.400000</td>\n",
       "      <td>372.685000</td>\n",
       "      <td>6.710000</td>\n",
       "      <td>17.175000</td>\n",
       "    </tr>\n",
       "    <tr>\n",
       "      <th>50%</th>\n",
       "      <td>0.265035</td>\n",
       "      <td>0.000000</td>\n",
       "      <td>9.690000</td>\n",
       "      <td>149.500000</td>\n",
       "      <td>0.538000</td>\n",
       "      <td>6.250500</td>\n",
       "      <td>76.600000</td>\n",
       "      <td>3.142300</td>\n",
       "      <td>5.000000</td>\n",
       "      <td>337.000000</td>\n",
       "      <td>19.100000</td>\n",
       "      <td>390.815000</td>\n",
       "      <td>10.475000</td>\n",
       "      <td>21.700000</td>\n",
       "    </tr>\n",
       "    <tr>\n",
       "      <th>75%</th>\n",
       "      <td>3.801868</td>\n",
       "      <td>12.500000</td>\n",
       "      <td>18.100000</td>\n",
       "      <td>224.250000</td>\n",
       "      <td>0.611500</td>\n",
       "      <td>6.635500</td>\n",
       "      <td>93.650000</td>\n",
       "      <td>5.116700</td>\n",
       "      <td>24.000000</td>\n",
       "      <td>666.000000</td>\n",
       "      <td>20.200000</td>\n",
       "      <td>396.210000</td>\n",
       "      <td>16.727500</td>\n",
       "      <td>25.025000</td>\n",
       "    </tr>\n",
       "    <tr>\n",
       "      <th>max</th>\n",
       "      <td>88.976200</td>\n",
       "      <td>95.000000</td>\n",
       "      <td>27.740000</td>\n",
       "      <td>299.000000</td>\n",
       "      <td>0.871000</td>\n",
       "      <td>8.780000</td>\n",
       "      <td>100.000000</td>\n",
       "      <td>10.710300</td>\n",
       "      <td>24.000000</td>\n",
       "      <td>711.000000</td>\n",
       "      <td>22.000000</td>\n",
       "      <td>396.900000</td>\n",
       "      <td>37.970000</td>\n",
       "      <td>50.000000</td>\n",
       "    </tr>\n",
       "  </tbody>\n",
       "</table>\n",
       "</div>"
      ],
      "text/plain": [
       "             CRIM          ZN       INDUS          ID         NOX          RM  \\\n",
       "count  294.000000  294.000000  294.000000  300.000000  239.000000  300.000000   \n",
       "mean     3.596244   10.889456   11.240816  149.500000    0.552858    6.332167   \n",
       "std      8.118095   22.559943    6.877679   86.746758    0.109432    0.703308   \n",
       "min      0.006320    0.000000    1.210000    0.000000    0.385000    3.561000   \n",
       "25%      0.082492    0.000000    5.145000   74.750000    0.464000    5.926750   \n",
       "50%      0.265035    0.000000    9.690000  149.500000    0.538000    6.250500   \n",
       "75%      3.801868   12.500000   18.100000  224.250000    0.611500    6.635500   \n",
       "max     88.976200   95.000000   27.740000  299.000000    0.871000    8.780000   \n",
       "\n",
       "              AGE         DIS         RAD         TAX     PTRATIO           B  \\\n",
       "count  300.000000  300.000000  266.000000  300.000000  300.000000  300.000000   \n",
       "mean    68.114333    3.725540    9.755639  412.113333   18.536000  352.646333   \n",
       "std     28.059112    2.030328    8.819172  169.430703    2.116894   96.928211   \n",
       "min      2.900000    1.129600    1.000000  188.000000   12.600000    0.320000   \n",
       "25%     42.250000    2.096725    4.000000  283.250000   17.400000  372.685000   \n",
       "50%     76.600000    3.142300    5.000000  337.000000   19.100000  390.815000   \n",
       "75%     93.650000    5.116700   24.000000  666.000000   20.200000  396.210000   \n",
       "max    100.000000   10.710300   24.000000  711.000000   22.000000  396.900000   \n",
       "\n",
       "            LSTAT       PRICE  \n",
       "count  300.000000  300.000000  \n",
       "mean    12.309433   22.696667  \n",
       "std      7.079180    9.243412  \n",
       "min      1.730000    5.600000  \n",
       "25%      6.710000   17.175000  \n",
       "50%     10.475000   21.700000  \n",
       "75%     16.727500   25.025000  \n",
       "max     37.970000   50.000000  "
      ]
     },
     "execution_count": 4,
     "metadata": {},
     "output_type": "execute_result"
    }
   ],
   "source": [
    "# Incorporate data from the first DataFrame into the second DataFrame. For that, perform the right kind of join on the common column. \n",
    "\n",
    "# Code Here\n",
    "data = data1.merge(data2, on = \"ID\", how = \"right\")\n",
    "data.describe()"
   ]
  },
  {
   "cell_type": "markdown",
   "metadata": {
    "deletable": false,
    "editable": false,
    "nbgrader": {
     "checksum": "f22088c6f5c46f63db0352acb359efa8",
     "grade": false,
     "grade_id": "cell-4ce08fb899e3de60",
     "locked": true,
     "schema_version": 1,
     "solution": false
    }
   },
   "source": [
    "## Plot the Distributions for all attributes"
   ]
  },
  {
   "cell_type": "code",
   "execution_count": 5,
   "metadata": {},
   "outputs": [
    {
     "data": {
      "text/plain": [
       "<matplotlib.axes._subplots.AxesSubplot at 0x7f2838bfc0b8>"
      ]
     },
     "execution_count": 5,
     "metadata": {},
     "output_type": "execute_result"
    },
    {
     "data": {
      "image/png": "[encoded data removed]",
      "text/plain": [
       "<Figure size 432x288 with 1 Axes>"
      ]
     },
     "metadata": {},
     "output_type": "display_data"
    }
   ],
   "source": [
    "# Choose type of plot appropriately.\n",
    "\n",
    "# Code Here\n",
    "data.plot(kind = 'hist')"
   ]
  },
  {
   "cell_type": "markdown",
   "metadata": {
    "deletable": false,
    "editable": false,
    "nbgrader": {
     "checksum": "73974c28bdd9eb06acf8f4d50480b39a",
     "grade": false,
     "grade_id": "cell-1b4c5a0fa1c4e09d",
     "locked": true,
     "schema_version": 1,
     "solution": false
    }
   },
   "source": [
    "## Handle Missing Values\n",
    "\n",
    "For floats, use mean value. For any other types, use the most common value."
   ]
  },
  {
   "cell_type": "code",
   "execution_count": 6,
   "metadata": {},
   "outputs": [],
   "source": [
    "# Code Here\n",
    "for i in data.columns:\n",
    "    if isinstance(data[i][0], float):\n",
    "        data[i].fillna(data[i].mean(), inplace= True) # to replace in data itself\n",
    "    else:\n",
    "        data[i].fillna(data[i].mode()[0], inplace = True) # select the first from list of modes of the Series"
   ]
  },
  {
   "cell_type": "markdown",
   "metadata": {
    "deletable": false,
    "editable": false,
    "nbgrader": {
     "checksum": "92db767be260ddfc0514ec4b6539746d",
     "grade": false,
     "grade_id": "cell-aa2b67efc6cd10f8",
     "locked": true,
     "schema_version": 1,
     "solution": false
    }
   },
   "source": [
    "## Map CHAS to numeric form\n",
    "\n",
    "Note: 'Bound' should map to 1.0 while 'NoBound' should map to 0.0"
   ]
  },
  {
   "cell_type": "code",
   "execution_count": 7,
   "metadata": {},
   "outputs": [],
   "source": [
    "# Code Here\n",
    "data.CHAS.replace('NoBound',np.float64(0.0), inplace=True)\n",
    "data.CHAS.replace('Bound',np.float64(1.0), inplace=True)"
   ]
  },
  {
   "cell_type": "code",
   "execution_count": 8,
   "metadata": {},
   "outputs": [
    {
     "data": {
      "text/plain": [
       "(300, 14)"
      ]
     },
     "execution_count": 8,
     "metadata": {},
     "output_type": "execute_result"
    }
   ],
   "source": [
    "# Remove the 'ID' column before moving further\n",
    "\n",
    "# Code Here\n",
    "data.drop([\"ID\"], axis=1, inplace=True)\n",
    "data.head()\n",
    "data.shape"
   ]
  },
  {
   "cell_type": "markdown",
   "metadata": {
    "deletable": false,
    "editable": false,
    "nbgrader": {
     "checksum": "e14b1bb9589bc7dd12dfdeff2e75f3a1",
     "grade": false,
     "grade_id": "cell-b1922311b4429f6f",
     "locked": true,
     "schema_version": 1,
     "solution": false
    }
   },
   "source": [
    "## Ridge Regression "
   ]
  },
  {
   "cell_type": "markdown",
   "metadata": {
    "deletable": false,
    "editable": false,
    "nbgrader": {
     "checksum": "34345797df51a4f3935048290dc58893",
     "grade": false,
     "grade_id": "cell-f1e43db20f7b2927",
     "locked": true,
     "schema_version": 1,
     "solution": false
    }
   },
   "source": [
    "Perform [Ridge Regression](https://onlinecourses.science.psu.edu/stat857/node/155/) on the data.\n",
    "\n",
    "(Note: We'll go over Regression and other Machine Learning methods in the next module. You just need to implement the following equation here).\n",
    "\n",
    "$$\n",
    "\\beta = (X^{T}X + \\lambda I)^{-1}X^{T}y\n",
    "$$\n",
    "\n",
    "where `X` is the data in the columns apart from 'PRICE' and `y` is the target (i.e 'PRICE').\n",
    "\n",
    "Use $\\lambda = 0.1$"
   ]
  },
  {
   "cell_type": "code",
   "execution_count": 9,
   "metadata": {},
   "outputs": [],
   "source": [
    "# Code Here\n",
    "beta = None\n",
    "\n",
    "data = data.astype(float)\n",
    "X = data.drop([\"PRICE\"], axis=1)\n",
    "X_transpose = X.transpose()\n",
    "A = np.dot(X_transpose, X) + 0.1*np.identity(X.shape[1])\n",
    "beta = np.linalg.multi_dot([np.linalg.inv(A), X_transpose, data[\"PRICE\"]])"
   ]
  },
  {
   "cell_type": "code",
   "execution_count": 10,
   "metadata": {
    "deletable": false,
    "nbgrader": {
     "checksum": "41472a8a9386eec041690546199f304c",
     "grade": false,
     "grade_id": "cell-2cccf8c5f340e158",
     "locked": false,
     "schema_version": 1,
     "solution": true
    }
   },
   "outputs": [
    {
     "data": {
      "text/plain": [
       "array([-1.15256270e-01,  3.70355862e-02, -4.01835155e-02,  3.69838325e+00,\n",
       "       -3.90993891e+00,  6.26324261e+00, -2.70915378e-02, -1.14477261e+00,\n",
       "        6.41649666e-02, -4.02150093e-03, -4.68970332e-01,  1.54806861e-02,\n",
       "       -3.45602461e-01])"
      ]
     },
     "execution_count": 10,
     "metadata": {},
     "output_type": "execute_result"
    }
   ],
   "source": [
    "beta"
   ]
  },
  {
   "cell_type": "code",
   "execution_count": null,
   "metadata": {
    "deletable": false,
    "editable": false,
    "nbgrader": {
     "checksum": "5fa7e5960ffe8f607a4318173b62e355",
     "grade": true,
     "grade_id": "cell-38ba5967aea5e93d",
     "locked": true,
     "points": 10,
     "schema_version": 1,
     "solution": false
    }
   },
   "outputs": [],
   "source": []
  }
 ],
 "metadata": {
  "kernelspec": {
   "display_name": "Python 3",
   "language": "python",
   "name": "python3"
  },
  "language_info": {
   "codemirror_mode": {
    "name": "ipython",
    "version": 3
   },
   "file_extension": ".py",
   "mimetype": "text/x-python",
   "name": "python",
   "nbconvert_exporter": "python",
   "pygments_lexer": "ipython3",
   "version": "3.6.8"
  }
 },
 "nbformat": 4,
 "nbformat_minor": 2
}
