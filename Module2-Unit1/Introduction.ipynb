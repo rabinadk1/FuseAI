{
 "cells": [
  {
   "cell_type": "markdown",
   "metadata": {
    "deletable": false,
    "editable": false,
    "nbgrader": {
     "checksum": "132db90d698b4f5a25b43c3748e86d49",
     "grade": false,
     "grade_id": "cell-446ce9d035a0a875",
     "locked": true,
     "schema_version": 1,
     "solution": false
    }
   },
   "source": [
    "# Assignment 1.1 Python\n",
    "Python is an easy to learn, powerful programming language with efficient high-level data structures and object-oriented programming. Python’s elegant syntax and dynamic typing, together with its interpreted nature, make it an ideal language for scripting and rapid application development in many areas on most platforms."
   ]
  },
  {
   "cell_type": "markdown",
   "metadata": {
    "deletable": false,
    "editable": false,
    "nbgrader": {
     "checksum": "deb437665135ab16e2cc6016b6b8d0d3",
     "grade": false,
     "grade_id": "cell-41508853a9b0e21f",
     "locked": true,
     "schema_version": 1,
     "solution": false
    }
   },
   "source": [
    "### Jupyter Notebook\n",
    "What you are reading now is an example of a Jupyter Notebook. The basic concept is that of a \"notebook\" containing text and programming code. You can easily edit the notebook using your web browser, run the programs in the ipython server in the background and see the output of the programs within the notebook. This is a powerful paradigm that is well suited to machine learning research, particularly when collaborating with other people.\n",
    "For Reference:\n",
    "- https://ipython.org/notebook.html\n",
    "- https://jupyter.org/"
   ]
  },
  {
   "cell_type": "code",
   "execution_count": 1,
   "metadata": {},
   "outputs": [
    {
     "name": "stdout",
     "output_type": "stream",
     "text": [
      "30\n"
     ]
    }
   ],
   "source": [
    "# This rectangular box is a \"Cell\" in Jupyter Notebook (click to edit)\n",
    "# This line starting with # symbol is a comment\n",
    "# Press run on the menu or CTRL + ENTER to run this cell\n",
    "# or SHIFT + ENTER to run this cell and move to next cell\n",
    "# to escape from the current cell press ESC and H to see shortcut keys available\n",
    "\n",
    "var1 = 5\n",
    "var2 = 6\n",
    "print(var1 * var2)"
   ]
  },
  {
   "cell_type": "markdown",
   "metadata": {
    "deletable": false,
    "editable": false,
    "nbgrader": {
     "checksum": "72fccb2d96fc1c0ec7c8a042a722ef4c",
     "grade": false,
     "grade_id": "cell-c33d3f90313d02be",
     "locked": true,
     "schema_version": 1,
     "solution": false
    }
   },
   "source": [
    "Please go through https://docs.python.org/3/tutorial/introduction.html to get started with basic python introduction\n",
    "Python also provides some built-in data types, in particular, dict, list, set and frozenset, and tuple. The str class is used to hold Unicode strings, and the bytes class is used to hold binary data. \n",
    "Visit the following page to know about the built-in data types\n",
    "https://docs.python.org/3/library/stdtypes.html "
   ]
  },
  {
   "cell_type": "markdown",
   "metadata": {
    "deletable": false,
    "editable": false,
    "nbgrader": {
     "checksum": "50371d035bdf207dc5506282bf17a2f5",
     "grade": false,
     "grade_id": "cell-2c81fa344f6007a5",
     "locked": true,
     "schema_version": 1,
     "solution": false
    }
   },
   "source": [
    "### TUPLES\n"
   ]
  },
  {
   "cell_type": "code",
   "execution_count": 2,
   "metadata": {},
   "outputs": [],
   "source": [
    "# Experiement here with your knowledge of Tuples\n"
   ]
  },
  {
   "cell_type": "markdown",
   "metadata": {},
   "source": [
    "### Exercise 1\n",
    "T is a Nested Tuple, use indexing to extract 'g' from the Tuple"
   ]
  },
  {
   "cell_type": "code",
   "execution_count": 3,
   "metadata": {
    "deletable": false,
    "nbgrader": {
     "checksum": "cfa9e815a0d84c70ec55a8a8217374ae",
     "grade": false,
     "grade_id": "cell-3cc34b450273562e",
     "locked": false,
     "schema_version": 1,
     "solution": true
    }
   },
   "outputs": [],
   "source": [
    "T = ('a','b','c',('d','e'),('f',('f','g'),'k'),'p')\n",
    "thisisg = None\n",
    "# YOUR CODE HERE\n",
    "thisisg = T[4][1][1]"
   ]
  },
  {
   "cell_type": "code",
   "execution_count": 4,
   "metadata": {
    "deletable": false,
    "editable": false,
    "nbgrader": {
     "checksum": "3d6e5c710b16fae24314df658ef983c4",
     "grade": true,
     "grade_id": "cell-b7541bf4e8c67052",
     "locked": true,
     "points": 1,
     "schema_version": 1,
     "solution": false
    }
   },
   "outputs": [],
   "source": [
    "assert(thisisg=='g')\n",
    "### BEGIN HIDDEN hTESTS\n",
    "assert(thisisg=='g')"
   ]
  },
  {
   "cell_type": "markdown",
   "metadata": {
    "deletable": false,
    "editable": false,
    "nbgrader": {
     "checksum": "92022ddcbc2add048f9f9598b7d2a9b9",
     "grade": false,
     "grade_id": "cell-1f64ca923fe02ab9",
     "locked": true,
     "schema_version": 1,
     "solution": false
    }
   },
   "source": [
    "### Exercise 2 (Lists)\n",
    "Find the sum of the smallest 10 numbers of List L\n",
    "Indexing, Sorted and sum function could be useful"
   ]
  },
  {
   "cell_type": "code",
   "execution_count": 5,
   "metadata": {
    "deletable": false,
    "nbgrader": {
     "checksum": "9efeae62fafffad5897849426f4221f4",
     "grade": false,
     "grade_id": "cell-31c3656a53f4497f",
     "locked": false,
     "schema_version": 1,
     "solution": true
    }
   },
   "outputs": [],
   "source": [
    "L =[75, 28, 47, 51, 96, 76, 32, 57, 10, 10, 25, 62, 17,  9, 68, 65, -2,\n",
    "       54, 34, 41, 74, 83, 91, 59, -3, 88, 59, 91, 10, -9, 90, 46, 58, 25,\n",
    "       62, 32, 74,  1, 61, 43, 25, 62, -5, 49, 40, 44, 83, -5, 13, 35]\n",
    "\n",
    "# YOUR CODE HERE\n",
    "ans = sum(sorted(L)[:10])"
   ]
  },
  {
   "cell_type": "code",
   "execution_count": 6,
   "metadata": {
    "deletable": false,
    "editable": false,
    "nbgrader": {
     "checksum": "5b7eae3fccf5f0dcfb35eb3483d4f3ea",
     "grade": true,
     "grade_id": "cell-7dca8792586b992f",
     "locked": true,
     "points": 1,
     "schema_version": 1,
     "solution": false
    }
   },
   "outputs": [],
   "source": [
    "assert(ans==16)"
   ]
  },
  {
   "cell_type": "markdown",
   "metadata": {
    "deletable": false,
    "editable": false,
    "nbgrader": {
     "checksum": "43e79da95dbbb8814c263422bbabd1a6",
     "grade": false,
     "grade_id": "cell-92a30943bf9126fa",
     "locked": true,
     "schema_version": 1,
     "solution": false
    }
   },
   "source": [
    "## Control Flow\n",
    "Python supports different Controls flow statements:\n",
    "- While ...\n",
    "- if ... elif ... else ...\n",
    "- for ... in ...\n",
    "- with ...\n",
    "\n",
    " https://docs.python.org/3/tutorial/controlflow.html"
   ]
  },
  {
   "cell_type": "code",
   "execution_count": 7,
   "metadata": {},
   "outputs": [
    {
     "name": "stdout",
     "output_type": "stream",
     "text": [
      "3\n",
      "6\n",
      "9\n",
      "12\n",
      "15\n",
      "18\n",
      "21\n",
      "24\n",
      "27\n",
      "30\n",
      "33\n",
      "36\n",
      "39\n",
      "42\n",
      "45\n",
      "48\n",
      "51\n",
      "54\n",
      "57\n",
      "60\n",
      "63\n",
      "66\n",
      "69\n",
      "72\n",
      "75\n",
      "78\n",
      "81\n",
      "84\n",
      "87\n",
      "90\n",
      "93\n",
      "96\n",
      "99\n"
     ]
    }
   ],
   "source": [
    "# Experiment with Loops here; try printing out number which are divisible by 3\n",
    "for i in range(1,100):\n",
    "    if i%3==0:\n",
    "        print(i)\n"
   ]
  },
  {
   "cell_type": "markdown",
   "metadata": {},
   "source": [
    "### Exercise 3\n",
    "Write a program which will list all such numbers which are divisible by 7 but are not a multiple of 5, between 2000 and 3200 (both included).logical Operator, for, if, and range could be helpful.\n"
   ]
  },
  {
   "cell_type": "code",
   "execution_count": 8,
   "metadata": {
    "deletable": false,
    "nbgrader": {
     "checksum": "1bcf6e0963187bbdbfcf2ff1e363e90a",
     "grade": false,
     "grade_id": "cell-1b7aa023aac0ad93",
     "locked": false,
     "schema_version": 1,
     "solution": true
    }
   },
   "outputs": [
    {
     "name": "stdout",
     "output_type": "stream",
     "text": [
      "2002\n",
      "2009\n",
      "2016\n",
      "2023\n",
      "2037\n",
      "2044\n",
      "2051\n",
      "2058\n",
      "2072\n",
      "2079\n",
      "2086\n",
      "2093\n",
      "2107\n",
      "2114\n",
      "2121\n",
      "2128\n",
      "2142\n",
      "2149\n",
      "2156\n",
      "2163\n",
      "2177\n",
      "2184\n",
      "2191\n",
      "2198\n",
      "2212\n",
      "2219\n",
      "2226\n",
      "2233\n",
      "2247\n",
      "2254\n",
      "2261\n",
      "2268\n",
      "2282\n",
      "2289\n",
      "2296\n",
      "2303\n",
      "2317\n",
      "2324\n",
      "2331\n",
      "2338\n",
      "2352\n",
      "2359\n",
      "2366\n",
      "2373\n",
      "2387\n",
      "2394\n",
      "2401\n",
      "2408\n",
      "2422\n",
      "2429\n",
      "2436\n",
      "2443\n",
      "2457\n",
      "2464\n",
      "2471\n",
      "2478\n",
      "2492\n",
      "2499\n",
      "2506\n",
      "2513\n",
      "2527\n",
      "2534\n",
      "2541\n",
      "2548\n",
      "2562\n",
      "2569\n",
      "2576\n",
      "2583\n",
      "2597\n",
      "2604\n",
      "2611\n",
      "2618\n",
      "2632\n",
      "2639\n",
      "2646\n",
      "2653\n",
      "2667\n",
      "2674\n",
      "2681\n",
      "2688\n",
      "2702\n",
      "2709\n",
      "2716\n",
      "2723\n",
      "2737\n",
      "2744\n",
      "2751\n",
      "2758\n",
      "2772\n",
      "2779\n",
      "2786\n",
      "2793\n",
      "2807\n",
      "2814\n",
      "2821\n",
      "2828\n",
      "2842\n",
      "2849\n",
      "2856\n",
      "2863\n",
      "2877\n",
      "2884\n",
      "2891\n",
      "2898\n",
      "2912\n",
      "2919\n",
      "2926\n",
      "2933\n",
      "2947\n",
      "2954\n",
      "2961\n",
      "2968\n",
      "2982\n",
      "2989\n",
      "2996\n",
      "3003\n",
      "3017\n",
      "3024\n",
      "3031\n",
      "3038\n",
      "3052\n",
      "3059\n",
      "3066\n",
      "3073\n",
      "3087\n",
      "3094\n",
      "3101\n",
      "3108\n",
      "3122\n",
      "3129\n",
      "3136\n",
      "3143\n",
      "3157\n",
      "3164\n",
      "3171\n",
      "3178\n",
      "3192\n",
      "3199\n"
     ]
    }
   ],
   "source": [
    "# YOUR CODE HERE\n",
    "for i in range(2000,3201):\n",
    "    if (i%7==0 and i%5!=0):\n",
    "        print(i)"
   ]
  },
  {
   "cell_type": "code",
   "execution_count": null,
   "metadata": {
    "deletable": false,
    "editable": false,
    "nbgrader": {
     "checksum": "a5deaa167951ea0272424fc3f5b62be8",
     "grade": true,
     "grade_id": "cell-e4a62a5f25d70f6b",
     "locked": true,
     "points": 1,
     "schema_version": 1,
     "solution": false
    }
   },
   "outputs": [],
   "source": []
  },
  {
   "cell_type": "markdown",
   "metadata": {},
   "source": [
    "### Exercise 4 (Function) \n",
    "write a function fibbo to return a list of \"n\" (greater than 2) fibonnaci number"
   ]
  },
  {
   "cell_type": "code",
   "execution_count": 9,
   "metadata": {
    "deletable": false,
    "nbgrader": {
     "checksum": "7bc5590fc54d485b34cbee2c4fd95861",
     "grade": false,
     "grade_id": "cell-999e97f969ad859a",
     "locked": false,
     "schema_version": 1,
     "solution": true
    }
   },
   "outputs": [],
   "source": [
    "def fibbo(n):\n",
    "# YOUR CODE HERE\n",
    "    fiblist = [1, 1]\n",
    "    a = 1\n",
    "    b = 1\n",
    "    for i in range(n-2):\n",
    "        c = a + b\n",
    "        a = b\n",
    "        b = c\n",
    "        fiblist.append(b)\n",
    "    return fiblist"
   ]
  },
  {
   "cell_type": "code",
   "execution_count": 10,
   "metadata": {
    "deletable": false,
    "editable": false,
    "nbgrader": {
     "checksum": "7281f5bf3fef8685e40af0fc8540a567",
     "grade": true,
     "grade_id": "cell-f97bd7a6d835fcb9",
     "locked": true,
     "points": 1,
     "schema_version": 1,
     "solution": false
    }
   },
   "outputs": [],
   "source": [
    "assert(fibbo(5)==[1, 1, 2, 3, 5])"
   ]
  },
  {
   "cell_type": "markdown",
   "metadata": {
    "deletable": false,
    "editable": false,
    "nbgrader": {
     "checksum": "677daeb2081bc1712f4fc9049ddcbccb",
     "grade": false,
     "grade_id": "cell-16a2b2db2f96b861",
     "locked": true,
     "schema_version": 1,
     "solution": false
    }
   },
   "source": [
    "### Exercise 5 (Strings)\n",
    "Go through the documentation of string to work through the following section\n",
    "https://docs.python.org/3/library/string.\n",
    "Combine the following strings and list (as comma seperated list) into a single string."
   ]
  },
  {
   "cell_type": "code",
   "execution_count": 11,
   "metadata": {
    "deletable": false,
    "nbgrader": {
     "checksum": "2ba1e2954d1cd12c40330b31874b3df5",
     "grade": false,
     "grade_id": "cell-647dfc2b970c2bea",
     "locked": false,
     "schema_version": 1,
     "solution": true
    }
   },
   "outputs": [],
   "source": [
    "str1 = \"Welcome to Fuse.ai. \"\n",
    "str2 = \"This is the First module. \"\n",
    "str3 = \"We will cover \"\n",
    "modules_list = [\"Python\", \"Python Classes\", \"Numpy\", \"Pandas\", \"Matplotlib\", \"etc.\"]\n",
    "combinedstr = None\n",
    "# YOUR CODE HERE\n",
    "combinedstr = str1 + str2 + str3 + (\", \").join(modules_list)\n"
   ]
  },
  {
   "cell_type": "code",
   "execution_count": 12,
   "metadata": {
    "deletable": false,
    "editable": false,
    "nbgrader": {
     "checksum": "5576d1da3b3881a9b333ae095dc68fef",
     "grade": true,
     "grade_id": "cell-07b4653968423c7b",
     "locked": true,
     "points": 1,
     "schema_version": 1,
     "solution": false
    }
   },
   "outputs": [],
   "source": [
    "assert(combinedstr=='Welcome to Fuse.ai. This is the First module. We will cover Python, Python Classes, Numpy, Pandas, Matplotlib, etc.')"
   ]
  },
  {
   "cell_type": "markdown",
   "metadata": {
    "deletable": false,
    "editable": false,
    "nbgrader": {
     "checksum": "3ae6f3c1e4b95bb7eb491796914f2b1d",
     "grade": false,
     "grade_id": "cell-ef40dfdc2171acf9",
     "locked": true,
     "schema_version": 1,
     "solution": false
    }
   },
   "source": [
    "### Exercise 6 (Set)\n",
    "find the common elements of a and b and not in c"
   ]
  },
  {
   "cell_type": "code",
   "execution_count": 13,
   "metadata": {
    "deletable": false,
    "nbgrader": {
     "checksum": "fc300c3c386d237df069ac8ec68a63d5",
     "grade": false,
     "grade_id": "cell-658c09dc97713ac7",
     "locked": false,
     "schema_version": 1,
     "solution": true
    }
   },
   "outputs": [],
   "source": [
    "a = range(10,27)\n",
    "b = [1,4,5,8,2,1,9,12,79,35,13,24]\n",
    "c = (3,7,12,90,45)\n",
    "\n",
    "def common(a,b,c):\n",
    "# YOUR CODE HERE\n",
    "    return set(a) & set(b) - set(c)"
   ]
  },
  {
   "cell_type": "code",
   "execution_count": 14,
   "metadata": {
    "deletable": false,
    "editable": false,
    "nbgrader": {
     "checksum": "6e3af6e9a840fbd2f5d0877cd2021757",
     "grade": true,
     "grade_id": "cell-e0d4e0cb5111b294",
     "locked": true,
     "points": 1,
     "schema_version": 1,
     "solution": false
    }
   },
   "outputs": [],
   "source": [
    "assert(common(a,b,c)=={13,24})"
   ]
  },
  {
   "cell_type": "markdown",
   "metadata": {},
   "source": [
    "### Exercise 7 (Dictionaries)\n",
    "Ram went to buy some vegetables in Vegetable market. Write a function to find his total cost given rams shopping list and price dictionary (price are in Rupees)\n"
   ]
  },
  {
   "cell_type": "code",
   "execution_count": 15,
   "metadata": {
    "deletable": false,
    "nbgrader": {
     "checksum": "7fa4fe8f7a97aeb80663fd8b05e7ccee",
     "grade": false,
     "grade_id": "cell-9e2bdb0f9fe2202a",
     "locked": false,
     "schema_version": 1,
     "solution": true
    }
   },
   "outputs": [],
   "source": [
    "price = {\"Tomato Big\":50,\"Tomato Small\":90,\"Potato Red\":70,\"Onion Dry\":45,\"Carrot\":120,\"Cabbage\":40,\"Cauli Local\":60,\"Raddish White\":40,\"Brinjal Long\":40,\"Brinjal Round\":50,\"Cow pea\":90,\"French Bean\":60,\"Soyabean Green\":80,\"Bitter Gourd\":90,\"Bottle Gourd\":40,\"Pointed Gourd\":50,\"Smooth Gourd\":60,\"Pumpkin\":40,\"Squash\":60,\"Okara\":90,\"Barela\":60,\"Arum\":60,\"Christophine\":20,\"Brd Leaf Mustard\":60,\"Spinach Leaf\":100,\"Cress Leaf\":100,\"Mustard Leaf\":60,\"Fenugreek Leaf\":100,\"Onion Green\":110,\"Mushroom\":180,\"Neuro\":80,\"Sugarbeet\":90,\"Lettuce\":60,\"Celery\":180,\"Parseley\":180,\"Fennel Leaf\":100,\"Mint\":180,\"Turnip A\":60,\"Tamarind\":150,\"Bamboo Shoot\":80,\"Tofu\":100,\"Gundruk\":220,\"Apple\":120,\"Banana\":80,\"Lime\":250,\"Pomegranate\":200,\"Orange\":130,\"Water Melon\":60,\"Sweet Orange\":120,\"Pineapple\":120,\"Cucumber\":70,\"Papaya\":80,\"Guava\":60,\"Mombin\":50,\"Ginger\":130,\"Chilli Dry\":250,\"Chilli Green\":90,\"Capsicum\":90,\"Garlic Green\":290,\"Coriander Green\":100,\"Garlic Dry Chinese\":150,\"Garlic Dry Nepali\":130,\"Fish Fresh\":270}\n",
    "\n",
    "def totalcost(rams_list):\n",
    "# YOUR CODE HERE\n",
    "    total = 0\n",
    "    for i in rams_list:\n",
    "        total+=price[i]\n",
    "    return total"
   ]
  },
  {
   "cell_type": "code",
   "execution_count": 16,
   "metadata": {
    "deletable": false,
    "editable": false,
    "nbgrader": {
     "checksum": "0b8637321a606fafb258b6d241b94a20",
     "grade": true,
     "grade_id": "cell-c19b7cf0c33943c5",
     "locked": true,
     "points": 1,
     "schema_version": 1,
     "solution": false
    }
   },
   "outputs": [],
   "source": [
    "assert(totalcost([\"Tomato Big\",\"Tomato Small\"])==140)"
   ]
  },
  {
   "cell_type": "markdown",
   "metadata": {
    "deletable": false,
    "editable": false,
    "nbgrader": {
     "checksum": "93f8bcfbccf0cd956801c82da1c44760",
     "grade": false,
     "grade_id": "cell-cd34c33019bf82a1",
     "locked": true,
     "schema_version": 1,
     "solution": false
    }
   },
   "source": [
    "### Exercise 8 (Date Time)\n",
    "Python supports datetime module which supplies functons and classes for manipulating dates and times in both simple and complex ways.\n",
    "https://docs.python.org/3/library/datetime.html\n",
    "\n",
    "Import datetime"
   ]
  },
  {
   "cell_type": "code",
   "execution_count": 17,
   "metadata": {
    "deletable": false,
    "nbgrader": {
     "checksum": "57be741572da7b2ddb4cc89afe36192d",
     "grade": false,
     "grade_id": "cell-427eed3d24974b01",
     "locked": false,
     "schema_version": 1,
     "solution": true
    }
   },
   "outputs": [],
   "source": [
    "# YOUR CODE HERE\n",
    "import datetime"
   ]
  },
  {
   "cell_type": "code",
   "execution_count": null,
   "metadata": {
    "deletable": false,
    "editable": false,
    "nbgrader": {
     "checksum": "0f4c5f360e690a57c49e483f0baa21f5",
     "grade": true,
     "grade_id": "cell-725b73afe2364885",
     "locked": true,
     "points": 1,
     "schema_version": 1,
     "solution": false
    }
   },
   "outputs": [],
   "source": []
  },
  {
   "cell_type": "markdown",
   "metadata": {},
   "source": [
    "### Exercise 9\n",
    "Since we all love holidays. \n",
    "Write a function to test if the day of the week is saturday or sunday"
   ]
  },
  {
   "cell_type": "code",
   "execution_count": 18,
   "metadata": {
    "deletable": false,
    "nbgrader": {
     "checksum": "0c251b19f8daa8c213d96ffbc45219ba",
     "grade": false,
     "grade_id": "cell-1eff2257a92fc3ca",
     "locked": false,
     "schema_version": 1,
     "solution": true
    }
   },
   "outputs": [],
   "source": [
    "def isholiday(date):\n",
    "# YOUR CODE HERE\n",
    "    return date.weekday()==6 or date.weekday()==5"
   ]
  },
  {
   "cell_type": "code",
   "execution_count": 19,
   "metadata": {
    "deletable": false,
    "editable": false,
    "nbgrader": {
     "checksum": "298b2908134fef987d5a6b460032103e",
     "grade": true,
     "grade_id": "cell-4bf249a294e13b37",
     "locked": true,
     "points": 1,
     "schema_version": 1,
     "solution": false
    }
   },
   "outputs": [],
   "source": [
    "assert(isholiday(datetime.datetime(2018, 10, 21))==True)"
   ]
  },
  {
   "cell_type": "markdown",
   "metadata": {
    "deletable": false,
    "editable": false,
    "nbgrader": {
     "checksum": "bbb2cfd10d8be9305b1f0a41e591035d",
     "grade": false,
     "grade_id": "cell-95ced3cbfe3a36a0",
     "locked": true,
     "schema_version": 1,
     "solution": false
    }
   },
   "source": [
    "### List Comprehension\n",
    "https://docs.python.org/3/tutorial/datastructures.html#list-comprehensions\n",
    "\n",
    "Also go through \n",
    "- https://docs.python.org/3/library/functions.html#zip \n",
    "- https://docs.python.org/3/library/itertools.html, \n",
    "\n",
    "as these functions are very useful in different situation"
   ]
  },
  {
   "cell_type": "code",
   "execution_count": 20,
   "metadata": {},
   "outputs": [],
   "source": [
    "# Experiement with List comprehension here\n"
   ]
  },
  {
   "cell_type": "markdown",
   "metadata": {},
   "source": [
    "### Exercise 10\n",
    "Carryout matrix multiplication using list comprehension. Zip function might come handy for this task"
   ]
  },
  {
   "cell_type": "code",
   "execution_count": 21,
   "metadata": {
    "deletable": false,
    "nbgrader": {
     "checksum": "308ed374524be6d270d92fe34ee75c1c",
     "grade": false,
     "grade_id": "cell-03919f8e4b02f4c6",
     "locked": false,
     "schema_version": 1,
     "solution": true
    }
   },
   "outputs": [],
   "source": [
    "def matmultiply(A, B):\n",
    "    # Write Solution in 1 line\n",
    "# YOUR CODE HERE\n",
    "    return [[sum(x*y for x,y in zip(row_A,col_B)) for col_B in zip(*B)] for row_A in A]"
   ]
  },
  {
   "cell_type": "code",
   "execution_count": null,
   "metadata": {
    "deletable": false,
    "editable": false,
    "nbgrader": {
     "checksum": "291455c7c4990b7b368dc084e040082c",
     "grade": true,
     "grade_id": "cell-156372dc6fe33108",
     "locked": true,
     "points": 1,
     "schema_version": 1,
     "solution": false
    }
   },
   "outputs": [],
   "source": []
  }
 ],
 "metadata": {
  "kernelspec": {
   "display_name": "Python 3",
   "language": "python",
   "name": "python3"
  },
  "language_info": {
   "codemirror_mode": {
    "name": "ipython",
    "version": 3
   },
   "file_extension": ".py",
   "mimetype": "text/x-python",
   "name": "python",
   "nbconvert_exporter": "python",
   "pygments_lexer": "ipython3",
   "version": "3.6.8"
  }
 },
 "nbformat": 4,
 "nbformat_minor": 2
}
