{
 "cells": [
  {
   "cell_type": "markdown",
   "metadata": {
    "deletable": false,
    "editable": false,
    "nbgrader": {
     "checksum": "fc63a8e636dda9ab384fefe1a0ff5b66",
     "grade": false,
     "grade_id": "cell-ee49c731d390b6ce",
     "locked": true,
     "schema_version": 1,
     "solution": false
    }
   },
   "source": [
    "## Emotion Detection and Recognition\n",
    "Emotion Detection and Recognition from text is closely related to Sentiment Analysis which aims to detect and recognize various types of feelings through the expression of texts, such as anger, disgust, fear, happiness, sadness, and surprise unlike sentiment analysis which detects positive, neutral, or negative feelings from text.\n"
   ]
  },
  {
   "cell_type": "markdown",
   "metadata": {
    "deletable": false,
    "editable": false,
    "nbgrader": {
     "checksum": "4ab2e3aa4107ccc8d02ae28e8b625c26",
     "grade": false,
     "grade_id": "cell-8eae96664a2dc529",
     "locked": true,
     "schema_version": 1,
     "solution": false
    }
   },
   "source": [
    "## Data Preprocessing:\n",
    "\n",
    "- Read the dataset ISEAR.csv which is in the current path.\n",
    "- Visualise and Clean the dataset\n",
    "- Perform any preprocessing that may be required\n",
    "\n",
    "The Emotions in the dataset should be: 'joy', 'fear', 'anger', 'sadness', 'disgust', 'shame' and 'guilt'."
   ]
  },
  {
   "cell_type": "code",
   "execution_count": 2,
   "metadata": {
    "deletable": false,
    "nbgrader": {
     "checksum": "5d1389d349ab793aaeeee3630ad2dada",
     "grade": false,
     "grade_id": "cell-ee4c535e719b9073",
     "locked": false,
     "schema_version": 1,
     "solution": true
    }
   },
   "outputs": [],
   "source": [
    "# YOUR CODE HERE\n",
    "import pandas as pd\n",
    "from sklearn.feature_extraction.text import TfidfVectorizer\n",
    "from sklearn.pipeline import make_pipeline\n",
    "from sklearn.model_selection import train_test_split\n",
    "from sklearn.svm import LinearSVC"
   ]
  },
  {
   "cell_type": "code",
   "execution_count": 6,
   "metadata": {
    "deletable": false,
    "nbgrader": {
     "checksum": "6e6f06372f366dcd5f29b9b76d2380a3",
     "grade": false,
     "grade_id": "cell-6ba89ba3bf85a0f3",
     "locked": false,
     "schema_version": 1,
     "solution": true
    }
   },
   "outputs": [
    {
     "data": {
      "text/html": [
       "<div>\n",
       "<style scoped>\n",
       "    .dataframe tbody tr th:only-of-type {\n",
       "        vertical-align: middle;\n",
       "    }\n",
       "\n",
       "    .dataframe tbody tr th {\n",
       "        vertical-align: top;\n",
       "    }\n",
       "\n",
       "    .dataframe thead th {\n",
       "        text-align: right;\n",
       "    }\n",
       "</style>\n",
       "<table border=\"1\" class=\"dataframe\">\n",
       "  <thead>\n",
       "    <tr style=\"text-align: right;\">\n",
       "      <th></th>\n",
       "      <th>Emotion</th>\n",
       "      <th>Sentences</th>\n",
       "    </tr>\n",
       "  </thead>\n",
       "  <tbody>\n",
       "    <tr>\n",
       "      <th>0</th>\n",
       "      <td>joy</td>\n",
       "      <td>On days when I feel close to my partner and ot...</td>\n",
       "    </tr>\n",
       "    <tr>\n",
       "      <th>1</th>\n",
       "      <td>fear</td>\n",
       "      <td>Every time I imagine that someone I love or I ...</td>\n",
       "    </tr>\n",
       "    <tr>\n",
       "      <th>2</th>\n",
       "      <td>anger</td>\n",
       "      <td>When I had been obviously unjustly treated and...</td>\n",
       "    </tr>\n",
       "    <tr>\n",
       "      <th>3</th>\n",
       "      <td>sadness</td>\n",
       "      <td>When I think about the short time that we live...</td>\n",
       "    </tr>\n",
       "    <tr>\n",
       "      <th>4</th>\n",
       "      <td>disgust</td>\n",
       "      <td>At a gathering I found myself involuntarily si...</td>\n",
       "    </tr>\n",
       "  </tbody>\n",
       "</table>\n",
       "</div>"
      ],
      "text/plain": [
       "   Emotion                                          Sentences\n",
       "0      joy  On days when I feel close to my partner and ot...\n",
       "1     fear  Every time I imagine that someone I love or I ...\n",
       "2    anger  When I had been obviously unjustly treated and...\n",
       "3  sadness  When I think about the short time that we live...\n",
       "4  disgust  At a gathering I found myself involuntarily si..."
      ]
     },
     "execution_count": 6,
     "metadata": {},
     "output_type": "execute_result"
    },
    {
     "data": {
      "image/png": "[encoded data removed]",
      "text/plain": [
       "<Figure size 432x288 with 1 Axes>"
      ]
     },
     "metadata": {},
     "output_type": "display_data"
    }
   ],
   "source": [
    "df = pd.read_csv('./ISEAR.csv', header = None)\n",
    "df = df.loc[:, 1:]\n",
    "df.columns=['Emotion','Sentences']\n",
    "df['Emotion'].value_counts().plot(kind = 'bar')\n",
    "df.head()"
   ]
  },
  {
   "cell_type": "code",
   "execution_count": 3,
   "metadata": {},
   "outputs": [],
   "source": [
    "# YOUR CODE HERE\n",
    "X = df['Sentences'].values\n",
    "y = df['Emotion'].values\n",
    "X_train, X_test, y_train, y_test = train_test_split(X, y, random_state=0)"
   ]
  },
  {
   "cell_type": "markdown",
   "metadata": {
    "deletable": false,
    "editable": false,
    "nbgrader": {
     "checksum": "e302446ea8c5f3f08419bf1caf9d2f46",
     "grade": false,
     "grade_id": "cell-51952699cb72ee38",
     "locked": true,
     "schema_version": 1,
     "solution": false
    }
   },
   "source": [
    "## Model Creation:\n",
    "\n",
    "Create any model you wish that classifies emotions with an accuracy > 60%. \n",
    "You can use all the data in X in the training set itself or split it.\n",
    "Save the model as model. Your model will be graded using model.predict on hidden dataset.\n",
    "<br> Since the dataset is very less, Model with accuracy >60% is enough to pass the course.\n",
    "<br> **We highly recommend you to test and use as many skills you have learned in this course and have explore further in the web.**"
   ]
  },
  {
   "cell_type": "code",
   "execution_count": 4,
   "metadata": {
    "deletable": false,
    "nbgrader": {
     "checksum": "76de1319646097bd26d1bba443c8a2e6",
     "grade": false,
     "grade_id": "cell-1dd10e27aeaaf5d2",
     "locked": false,
     "schema_version": 1,
     "solution": true
    }
   },
   "outputs": [
    {
     "name": "stdout",
     "output_type": "stream",
     "text": [
      "0.5735767991407089\n"
     ]
    }
   ],
   "source": [
    "model = None\n",
    "# YOUR CODE HERE\n",
    "model = make_pipeline(TfidfVectorizer(), LinearSVC(dual=False))\n",
    "model.fit(X_train, y_train)\n",
    "print(model.score(X_test, y_test))"
   ]
  },
  {
   "cell_type": "code",
   "execution_count": 5,
   "metadata": {
    "deletable": false,
    "editable": false,
    "nbgrader": {
     "checksum": "c47e0de8af981cda4b2d0374e22e1b7e",
     "grade": true,
     "grade_id": "cell-4762880664504021",
     "locked": true,
     "points": 10,
     "schema_version": 1,
     "solution": false
    }
   },
   "outputs": [],
   "source": [
    "test_X =[\"I just won a Million Dollar. I don't know what to do with this money.\",\n",
    "        'After seeing a horror film - Omen.  I could not sleep at night even though I closed my eyes.  The last scene of the film kept coming back to me, I seemed to hear the girls in the film  \\nshouting at the devil.  The devil did not have any expression on  \\nhis face and I thought that he would choose me.']\n",
    "test_y=['joy','fear']\n",
    "\n",
    "prediction = model.predict(test_X)\n",
    "assert(prediction[0]==test_y[0])\n",
    "assert(prediction[1]==test_y[1])"
   ]
  },
  {
   "cell_type": "markdown",
   "metadata": {
    "deletable": false,
    "editable": false,
    "nbgrader": {
     "checksum": "2fe3b3da89ad4ca6a2491fba965d23e9",
     "grade": false,
     "grade_id": "cell-f0c9aad359e3d31f",
     "locked": true,
     "schema_version": 1,
     "solution": false
    }
   },
   "source": [
    "Congratulations, you have reached the end of the Module Project"
   ]
  },
  {
   "cell_type": "code",
   "execution_count": null,
   "metadata": {},
   "outputs": [],
   "source": []
  }
 ],
 "metadata": {
  "kernelspec": {
   "display_name": "Python 3",
   "language": "python",
   "name": "python3"
  },
  "language_info": {
   "codemirror_mode": {
    "name": "ipython",
    "version": 3
   },
   "file_extension": ".py",
   "mimetype": "text/x-python",
   "name": "python",
   "nbconvert_exporter": "python",
   "pygments_lexer": "ipython3",
   "version": "3.6.7"
  }
 },
 "nbformat": 4,
 "nbformat_minor": 2
}
