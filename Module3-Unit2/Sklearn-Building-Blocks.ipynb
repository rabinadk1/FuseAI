{
 "cells": [
  {
   "cell_type": "markdown",
   "metadata": {
    "deletable": false,
    "editable": false,
    "nbgrader": {
     "checksum": "e8cee115b2b65d02f781efa1a115a1db",
     "grade": false,
     "grade_id": "cell-d22d1eebc1728f4e",
     "locked": true,
     "schema_version": 1,
     "solution": false
    }
   },
   "source": [
    "## Assignment 2.1\n",
    "## Hyperparameters search\n",
    "When creating a machine learning model, we can choose among many design choices and explore a range of possibilities without knowing which model architecture can provide the best optimal solution. We can even ask the machine to perform this exploration and select the optimal model architecture automatically. Parameters which define the model architecture are referred to as hyperparameters and this process of searching for the ideal model architecture is referred to as hyperparameter tuning.\n",
    "\n",
    "Unlike model parameters, hyperparameters cannot be directly trained from the data. Unfortunately, there's no way to calculate “which way should I update my hyperparameter to reduce the loss?” (ie. gradients) in order to find the optimal model architecture; thus, we generally resort to experimentation to figure out what works best."
   ]
  },
  {
   "cell_type": "markdown",
   "metadata": {
    "deletable": false,
    "editable": false,
    "nbgrader": {
     "checksum": "3d03a5247ba5bbc5b8a592a43230b89f",
     "grade": false,
     "grade_id": "cell-8dd29538874794af",
     "locked": true,
     "schema_version": 1,
     "solution": false
    }
   },
   "source": [
    "In this assignment, we will use digits datasets of <a href=\"http://yann.lecun.com/exdb/mnist/\">MNIST</a> and apply grid search, random search and evolutionary search from scikit-learn to find the best parameters."
   ]
  },
  {
   "cell_type": "markdown",
   "metadata": {
    "deletable": false,
    "editable": false,
    "nbgrader": {
     "checksum": "ea7795d0817eb63d53fef3e330869b81",
     "grade": false,
     "grade_id": "cell-f83abf1f2ca30f00",
     "locked": true,
     "schema_version": 1,
     "solution": false
    }
   },
   "source": [
    "### Exercise 1\n",
    "\n",
    "1. Import numpy, pandas and matplotlib.pyplot.\n",
    "2. Import StratifiedKFold, GridSearchCV and RandomizedSearchCV from sklearn.\n",
    "3. Import EvolutionaryAlgorithmSearchCV.\n",
    "4. Import SVC, from sklearn.\n",
    "5. Import datasets from sklearn "
   ]
  },
  {
   "cell_type": "code",
   "execution_count": 1,
   "metadata": {
    "deletable": false,
    "nbgrader": {
     "checksum": "2842d7bc05390f1a1d0f5dba1156615f",
     "grade": false,
     "grade_id": "cell-ff0f2672d54e8e57",
     "locked": false,
     "schema_version": 1,
     "solution": true
    }
   },
   "outputs": [
    {
     "name": "stdout",
     "output_type": "stream",
     "text": [
      "Requirement already satisfied: sklearn-deap in /opt/conda/lib/python3.6/site-packages (0.2.3)\n",
      "Requirement already satisfied: scipy>=0.16.0 in /opt/conda/lib/python3.6/site-packages (from sklearn-deap) (1.1.0)\n",
      "Requirement already satisfied: scikit-learn>=0.18.0 in /opt/conda/lib/python3.6/site-packages (from sklearn-deap) (0.19.2)\n",
      "Requirement already satisfied: deap>=1.0.2 in /opt/conda/lib/python3.6/site-packages (from sklearn-deap) (1.2.2)\n",
      "Requirement already satisfied: numpy>=1.9.3 in /opt/conda/lib/python3.6/site-packages (from sklearn-deap) (1.15.2)\n"
     ]
    }
   ],
   "source": [
    "# YOUR CODE HERE\n",
    "import numpy as np\n",
    "import pandas as pd\n",
    "import matplotlib.pyplot as plt\n",
    "from sklearn import datasets\n",
    "from sklearn.model_selection import StratifiedKFold, GridSearchCV, RandomizedSearchCV\n",
    "from sklearn.svm import SVC\n",
    "!pip install sklearn-deap\n",
    "from evolutionary_search import EvolutionaryAlgorithmSearchCV"
   ]
  },
  {
   "cell_type": "code",
   "execution_count": 2,
   "metadata": {
    "deletable": false,
    "editable": false,
    "nbgrader": {
     "checksum": "fe3e507275ea5dd305a948148f48eca6",
     "grade": true,
     "grade_id": "cell-98b1e55f03ec7503",
     "locked": true,
     "points": 1,
     "schema_version": 1,
     "solution": false
    }
   },
   "outputs": [],
   "source": [
    "#### INTENTIONALLY LEFT BLANK####"
   ]
  },
  {
   "cell_type": "markdown",
   "metadata": {
    "deletable": false,
    "editable": false,
    "nbgrader": {
     "checksum": "dc46573d84884a257ead4c480e2fecbb",
     "grade": false,
     "grade_id": "cell-533eff597df56b5f",
     "locked": true,
     "schema_version": 1,
     "solution": false
    }
   },
   "source": [
    "### Exercise 2\n",
    "\n",
    "Load the digits dataset from sklearn datasets"
   ]
  },
  {
   "cell_type": "code",
   "execution_count": 3,
   "metadata": {
    "deletable": false,
    "nbgrader": {
     "checksum": "eee3008633e3a26c6c7d8db54af037b1",
     "grade": false,
     "grade_id": "cell-22605913d9c6f51d",
     "locked": false,
     "schema_version": 1,
     "solution": true
    }
   },
   "outputs": [],
   "source": [
    "digits = None\n",
    "# YOUR CODE HERE\n",
    "digits = datasets.load_digits()"
   ]
  },
  {
   "cell_type": "code",
   "execution_count": 4,
   "metadata": {
    "deletable": false,
    "editable": false,
    "nbgrader": {
     "checksum": "4b4420ef7efd7626d8c7258adce02f9f",
     "grade": true,
     "grade_id": "cell-ce7514899171ff14",
     "locked": true,
     "points": 1,
     "schema_version": 1,
     "solution": false
    }
   },
   "outputs": [],
   "source": [
    "#### INTENTIONALLY LEFT BLANK####"
   ]
  },
  {
   "cell_type": "markdown",
   "metadata": {
    "deletable": false,
    "editable": false,
    "nbgrader": {
     "checksum": "c4f301c328a6144d44bf33efe4370173",
     "grade": false,
     "grade_id": "cell-7617de7dcfe0572c",
     "locked": true,
     "schema_version": 1,
     "solution": false
    }
   },
   "source": [
    "The MNIST database consists of handwritten digits from 0-9, and incorporates a training set of 60,000 examples and a test set of 10,000 examples.\n",
    "\n",
    "<br>Check the contents of the digits datasets with the notebook."
   ]
  },
  {
   "cell_type": "code",
   "execution_count": null,
   "metadata": {},
   "outputs": [],
   "source": []
  },
  {
   "cell_type": "markdown",
   "metadata": {
    "deletable": false,
    "editable": false,
    "nbgrader": {
     "checksum": "a4d33e4eb84a0fb0c203302cd1739b44",
     "grade": false,
     "grade_id": "cell-c00216be22a00e70",
     "locked": true,
     "schema_version": 1,
     "solution": false
    }
   },
   "source": [
    "Now, let's observe the targets."
   ]
  },
  {
   "cell_type": "code",
   "execution_count": 5,
   "metadata": {},
   "outputs": [
    {
     "data": {
      "text/plain": [
       "array([0, 1, 2, 3, 4, 5, 6, 7, 8, 9])"
      ]
     },
     "execution_count": 5,
     "metadata": {},
     "output_type": "execute_result"
    }
   ],
   "source": [
    "digits.target_names"
   ]
  },
  {
   "cell_type": "markdown",
   "metadata": {
    "deletable": false,
    "editable": false,
    "nbgrader": {
     "checksum": "d6138246b96b0f473fb2e1a9baf30d2f",
     "grade": false,
     "grade_id": "cell-5a6cba2c81c6cde7",
     "locked": true,
     "schema_version": 1,
     "solution": false
    }
   },
   "source": [
    "### Exercise 3\n",
    "\n",
    "Set data of the digits to matrix X and the target values to vector y"
   ]
  },
  {
   "cell_type": "code",
   "execution_count": 6,
   "metadata": {
    "deletable": false,
    "nbgrader": {
     "checksum": "ca921a1f6099db283e341318584b4568",
     "grade": false,
     "grade_id": "cell-3d9084e8b7be764a",
     "locked": false,
     "schema_version": 1,
     "solution": true
    }
   },
   "outputs": [],
   "source": [
    "X = None\n",
    "y = None\n",
    "# YOUR CODE HERE\n",
    "X = digits[\"data\"]\n",
    "y = digits[\"target\"]"
   ]
  },
  {
   "cell_type": "code",
   "execution_count": 7,
   "metadata": {
    "deletable": false,
    "editable": false,
    "nbgrader": {
     "checksum": "5fce4215161d046b261702aad09c0fc8",
     "grade": true,
     "grade_id": "cell-df1eae7c36f6fd57",
     "locked": true,
     "points": 1,
     "schema_version": 1,
     "solution": false
    }
   },
   "outputs": [],
   "source": [
    "#### INTENTIONALLY LEFT BLANK####"
   ]
  },
  {
   "cell_type": "markdown",
   "metadata": {
    "deletable": false,
    "editable": false,
    "nbgrader": {
     "checksum": "3cb3765c7d2f103d5cc00e2eb5b9bf98",
     "grade": false,
     "grade_id": "cell-679cc013e05a1ecb",
     "locked": true,
     "schema_version": 1,
     "solution": false
    }
   },
   "source": [
    "### Grid Search\n",
    "\n",
    "Grid-search determines the optimal parameters for a model while scanning the data. It can be useful for finding the best parameters of many kinds of machine learning model. However, as search builds and stores a model for each parameter combination, it can be computationally expensive.\n",
    "\n",
    "We will be searching the best parameters in the following param_grid while implementing grid search and randomized search."
   ]
  },
  {
   "cell_type": "markdown",
   "metadata": {
    "deletable": false,
    "editable": false,
    "nbgrader": {
     "checksum": "afd90ce9ec479482aba3d405634c7f9a",
     "grade": false,
     "grade_id": "cell-1ba3be1ddc6a3213",
     "locked": true,
     "schema_version": 1,
     "solution": false
    }
   },
   "source": [
    "### Exercise 4\n",
    "\n",
    "Use grid search to find the best parameters using scikit-learn:\n",
    "1. Set estimator to SVC and param_grid to the parameters given as param_grid. \n",
    "2. Use StratifiedKFold cross validation with n_splits = 2. \n",
    "3. Use \"accuracy\" as the scoring metric.\n",
    "4. Set refit to True.\n",
    "\n",
    "[What is StratifiedKFold ?](https://stats.stackexchange.com/questions/49540/understanding-stratified-cross-validation)"
   ]
  },
  {
   "cell_type": "code",
   "execution_count": 8,
   "metadata": {
    "deletable": false,
    "nbgrader": {
     "checksum": "77eb9e805a1c95f7b2919b288fac46c9",
     "grade": false,
     "grade_id": "cell-93f9b46d5942e56f",
     "locked": false,
     "schema_version": 1,
     "solution": true
    }
   },
   "outputs": [
    {
     "data": {
      "text/plain": [
       "GridSearchCV(cv=StratifiedKFold(n_splits=2, random_state=None, shuffle=False),\n",
       "       error_score='raise',\n",
       "       estimator=SVC(C=1.0, cache_size=200, class_weight=None, coef0=0.0,\n",
       "  decision_function_shape='ovr', degree=3, gamma='auto', kernel='rbf',\n",
       "  max_iter=-1, probability=False, random_state=None, shrinking=True,\n",
       "  tol=0.001, verbose=False),\n",
       "       fit_params=None, iid=True, n_jobs=1,\n",
       "       param_grid={'C': array([1.00000e-07, 3.16228e-04, 1.00000e+00, 3.16228e+03, 1.00000e+07]), 'gamma': array([1.00000e-07, 3.16228e-04, 1.00000e+00, 3.16228e+03, 1.00000e+07])},\n",
       "       pre_dispatch='2*n_jobs', refit=True, return_train_score='warn',\n",
       "       scoring='accuracy', verbose=0)"
      ]
     },
     "execution_count": 8,
     "metadata": {},
     "output_type": "execute_result"
    }
   ],
   "source": [
    "param_grid = { \"C\":np.logspace(-7,7, num=5, base=10),\"gamma\":np.logspace(-7, 7, num=5, base=10)}\n",
    "cv = None\n",
    "# YOUR CODE HERE\n",
    "cv = GridSearchCV(SVC(), param_grid = param_grid, scoring = \"accuracy\", refit=True, cv=StratifiedKFold(n_splits=2))\n",
    "cv.fit(X, y)"
   ]
  },
  {
   "cell_type": "code",
   "execution_count": 9,
   "metadata": {
    "deletable": false,
    "editable": false,
    "nbgrader": {
     "checksum": "1b56f7aad7f00eb70ab8cec79602e0d1",
     "grade": true,
     "grade_id": "cell-680cbe7a3ff965ce",
     "locked": true,
     "points": 1,
     "schema_version": 1,
     "solution": false
    }
   },
   "outputs": [],
   "source": [
    "#### INTENTIONALLY LEFT BLANK####"
   ]
  },
  {
   "cell_type": "markdown",
   "metadata": {
    "deletable": false,
    "editable": false,
    "nbgrader": {
     "checksum": "d20aa6bd20a2c405d8e8f268e01e71a9",
     "grade": false,
     "grade_id": "cell-35a577b3795729e9",
     "locked": true,
     "schema_version": 1,
     "solution": false
    }
   },
   "source": [
    "### Exercise 5\n",
    "\n",
    "Find the mean cross-validated score of the best_estimator using best_score_ on our model."
   ]
  },
  {
   "cell_type": "code",
   "execution_count": 10,
   "metadata": {
    "deletable": false,
    "nbgrader": {
     "checksum": "e1c11c093abb5c3a5c28af064416483e",
     "grade": false,
     "grade_id": "cell-11cd20bb4e56d364",
     "locked": false,
     "schema_version": 1,
     "solution": true
    }
   },
   "outputs": [
    {
     "name": "stdout",
     "output_type": "stream",
     "text": [
      "0.9588202559821926\n"
     ]
    }
   ],
   "source": [
    "best_score = None\n",
    "# YOUR CODE HERE\n",
    "best_score = cv.best_score_\n",
    "print(best_score)"
   ]
  },
  {
   "cell_type": "code",
   "execution_count": 11,
   "metadata": {
    "deletable": false,
    "editable": false,
    "nbgrader": {
     "checksum": "3aee66f6d59d6883cdb085fc92c55783",
     "grade": true,
     "grade_id": "cell-2c7f4721890dbc73",
     "locked": true,
     "points": 1,
     "schema_version": 1,
     "solution": false
    }
   },
   "outputs": [],
   "source": [
    "#### INTENTIONALLY LEFT BLANK####"
   ]
  },
  {
   "cell_type": "markdown",
   "metadata": {
    "deletable": false,
    "editable": false,
    "nbgrader": {
     "checksum": "e0197c3e5dd076c7d107b6917fd06a21",
     "grade": false,
     "grade_id": "cell-c9dbd6d79754f202",
     "locked": true,
     "schema_version": 1,
     "solution": false
    }
   },
   "source": [
    "Now, you can also check the best parameters selected by our grid search model."
   ]
  },
  {
   "cell_type": "code",
   "execution_count": 12,
   "metadata": {},
   "outputs": [
    {
     "data": {
      "text/plain": [
       "{'C': 3162.2776601683795, 'gamma': 0.00031622776601683794}"
      ]
     },
     "execution_count": 12,
     "metadata": {},
     "output_type": "execute_result"
    }
   ],
   "source": [
    "cv.best_params_"
   ]
  },
  {
   "cell_type": "markdown",
   "metadata": {
    "deletable": false,
    "editable": false,
    "nbgrader": {
     "checksum": "8b2027dfaf5124fa182fde60d4b02eff",
     "grade": false,
     "grade_id": "cell-e07b58a684182b17",
     "locked": true,
     "schema_version": 1,
     "solution": false
    }
   },
   "source": [
    "\n",
    "### Exercise 6\n",
    "\n",
    "Store the five highest mean test score from our model in results using pandas dataframe.\n",
    "<br>Hint: store the results in the data frame and sort it"
   ]
  },
  {
   "cell_type": "code",
   "execution_count": 13,
   "metadata": {
    "deletable": false,
    "nbgrader": {
     "checksum": "6a1579f56f5792d4568cb9a44ed313c9",
     "grade": false,
     "grade_id": "cell-d155634dc70d1535",
     "locked": false,
     "schema_version": 1,
     "solution": true
    }
   },
   "outputs": [
    {
     "name": "stdout",
     "output_type": "stream",
     "text": [
      "    mean_test_score\n",
      "21         0.958820\n",
      "16         0.958820\n",
      "11         0.954368\n",
      "15         0.939900\n",
      "20         0.939343\n"
     ]
    }
   ],
   "source": [
    "results = None\n",
    "# YOUR CODE HERE\n",
    "results = pd.DataFrame(cv.cv_results_[\"mean_test_score\"], columns = [\"mean_test_score\"])\n",
    "results.sort_values(by = \"mean_test_score\", ascending=False, inplace=True)\n",
    "results = results[:5]\n",
    "print(results)"
   ]
  },
  {
   "cell_type": "code",
   "execution_count": 14,
   "metadata": {
    "deletable": false,
    "editable": false,
    "nbgrader": {
     "checksum": "225e2fe0d922cd40c25794c0a0589eaa",
     "grade": true,
     "grade_id": "cell-ac564c318d336a8b",
     "locked": true,
     "points": 1,
     "schema_version": 1,
     "solution": false
    }
   },
   "outputs": [],
   "source": [
    "#### INTENTIONALLY LEFT BLANK####"
   ]
  },
  {
   "cell_type": "markdown",
   "metadata": {
    "deletable": false,
    "editable": false,
    "nbgrader": {
     "checksum": "36776d41d4608295936368ff88f8dac0",
     "grade": false,
     "grade_id": "cell-9a19a1b6fdde83fc",
     "locked": true,
     "schema_version": 1,
     "solution": false
    }
   },
   "source": [
    "### Exercise 7\n",
    "\n",
    "Convert the results dataframe to pickle and save it to results.pkl"
   ]
  },
  {
   "cell_type": "code",
   "execution_count": 15,
   "metadata": {
    "deletable": false,
    "nbgrader": {
     "checksum": "4fd865e9eef9feba069d302febadc57e",
     "grade": false,
     "grade_id": "cell-771e44d42f6eede4",
     "locked": false,
     "schema_version": 1,
     "solution": true
    }
   },
   "outputs": [],
   "source": [
    "# YOUR CODE HERE\n",
    "results.to_pickle(\"./results.pkl\")"
   ]
  },
  {
   "cell_type": "code",
   "execution_count": 16,
   "metadata": {
    "deletable": false,
    "editable": false,
    "nbgrader": {
     "checksum": "1bb71ba757d5b915088af3b2fa9610ff",
     "grade": true,
     "grade_id": "cell-25d454b3b40ae62a",
     "locked": true,
     "points": 1,
     "schema_version": 1,
     "solution": false
    }
   },
   "outputs": [],
   "source": [
    "#### INTENTIONALLY LEFT BLANK####"
   ]
  },
  {
   "cell_type": "markdown",
   "metadata": {
    "deletable": false,
    "editable": false,
    "nbgrader": {
     "checksum": "5e7fffd772001ad038e35144111b5145",
     "grade": false,
     "grade_id": "cell-89bd6f8b5c6b2946",
     "locked": true,
     "schema_version": 1,
     "solution": false
    }
   },
   "source": [
    "### Random search\n",
    "\n",
    "Random search finds the optimal number of parameters as grid search. However, random search tries only a fixed number of random parameter settings. The numbers of parameters to be tried out can be specified in n_iter."
   ]
  },
  {
   "cell_type": "markdown",
   "metadata": {
    "deletable": false,
    "editable": false,
    "nbgrader": {
     "checksum": "0cb809f304ad192e341ef307c04a96d7",
     "grade": false,
     "grade_id": "cell-660be44465053be2",
     "locked": true,
     "schema_version": 1,
     "solution": false
    }
   },
   "source": [
    "### Exercise 8\n",
    "\n",
    "Use random search to find the best parameters using scikit-learn:\n",
    "1. Set estimator to SVC and param_distribution to the parameters given above. \n",
    "2. Use StratifiedKFold cross validation with n_splits = 2. \n",
    "3. Use \"accuracy\" as the scoring metric.\n",
    "4. Set refit to True.\n",
    "5. Set number of iterations to 10 and random_state to 0."
   ]
  },
  {
   "cell_type": "code",
   "execution_count": 17,
   "metadata": {
    "deletable": false,
    "nbgrader": {
     "checksum": "cbd624baaf1e4104165114ddc3704b29",
     "grade": false,
     "grade_id": "cell-1b001a7344e9ff87",
     "locked": false,
     "schema_version": 1,
     "solution": true
    }
   },
   "outputs": [
    {
     "data": {
      "text/plain": [
       "RandomizedSearchCV(cv=StratifiedKFold(n_splits=2, random_state=None, shuffle=False),\n",
       "          error_score='raise',\n",
       "          estimator=SVC(C=1.0, cache_size=200, class_weight=None, coef0=0.0,\n",
       "  decision_function_shape='ovr', degree=3, gamma='auto', kernel='rbf',\n",
       "  max_iter=-1, probability=False, random_state=None, shrinking=True,\n",
       "  tol=0.001, verbose=False),\n",
       "          fit_params=None, iid=True, n_iter=10, n_jobs=1,\n",
       "          param_distributions={'C': array([1.00000e-07, 3.16228e-04, 1.00000e+00, 3.16228e+03, 1.00000e+07]), 'gamma': array([1.00000e-07, 3.16228e-04, 1.00000e+00, 3.16228e+03, 1.00000e+07])},\n",
       "          pre_dispatch='2*n_jobs', random_state=0, refit=True,\n",
       "          return_train_score='warn', scoring='accuracy', verbose=0)"
      ]
     },
     "execution_count": 17,
     "metadata": {},
     "output_type": "execute_result"
    }
   ],
   "source": [
    "cv = None\n",
    "\n",
    "# YOUR CODE HERE\n",
    "cv = RandomizedSearchCV(SVC(), param_distributions=param_grid, cv=StratifiedKFold(n_splits=2), scoring=\"accuracy\", refit=True, n_iter=10, random_state=0)\n",
    "cv.fit(X, y)"
   ]
  },
  {
   "cell_type": "code",
   "execution_count": 18,
   "metadata": {
    "deletable": false,
    "editable": false,
    "nbgrader": {
     "checksum": "3b6cb981d820ec69d252caf096e1d72b",
     "grade": true,
     "grade_id": "cell-1194767eeaaab0ef",
     "locked": true,
     "points": 1,
     "schema_version": 1,
     "solution": false
    }
   },
   "outputs": [],
   "source": [
    "#### INTENTIONALLY LEFT BLANK####"
   ]
  },
  {
   "cell_type": "markdown",
   "metadata": {
    "deletable": false,
    "editable": false,
    "nbgrader": {
     "checksum": "750c710aa63f97540c81bcc53f811d74",
     "grade": false,
     "grade_id": "cell-464f9a4db1bb1851",
     "locked": true,
     "schema_version": 1,
     "solution": false
    }
   },
   "source": [
    "Now, let's observe the best score and best parameters choosen by our model."
   ]
  },
  {
   "cell_type": "code",
   "execution_count": 19,
   "metadata": {},
   "outputs": [
    {
     "data": {
      "text/plain": [
       "(0.9588202559821926,\n",
       " {'C': 3162.2776601683795, 'gamma': 0.00031622776601683794})"
      ]
     },
     "execution_count": 19,
     "metadata": {},
     "output_type": "execute_result"
    }
   ],
   "source": [
    "cv.best_score_, cv.best_params_"
   ]
  },
  {
   "cell_type": "markdown",
   "metadata": {
    "deletable": false,
    "editable": false,
    "nbgrader": {
     "checksum": "94a15248e73c9bd537fb3f5163f79a4a",
     "grade": false,
     "grade_id": "cell-7d4d62732a54e9cc",
     "locked": true,
     "schema_version": 1,
     "solution": false
    }
   },
   "source": [
    "### Genetic Algorithm\n",
    "\n",
    "<b>Genetic Algorithm</b> is one of the most powerful optimization algorithms based on natural selection and is inspired by Darwin's theory of evolution.\n",
    "\n",
    "<br>The basic components common to most genetic algorithms are:\n",
    "<br>• fitness function for optimization\n",
    "<br>• population of chromosomes\n",
    "<br>• selection of the chromosomes for reproduction\n",
    "<br>• crossover and produce next generation of chromosomes\n",
    "<br>• a random mutation of chromosomes in new generation\n",
    "\n",
    "Scikit-learn provides sklearn-deap to use evolutionary algorithms. The evolutionary algorithms exponentially reduces the time entailed to find the best parameters by evolving over only the combinations that give the best results instead of trying out every possible combinations.\n",
    "\n",
    "Now, let's use evolutionary search to find the best parameters."
   ]
  },
  {
   "cell_type": "markdown",
   "metadata": {
    "deletable": false,
    "editable": false,
    "nbgrader": {
     "checksum": "58b97cb1d441a8609ebf43557938d935",
     "grade": false,
     "grade_id": "cell-9c014b7c4a87361a",
     "locked": true,
     "schema_version": 1,
     "solution": false
    }
   },
   "source": [
    "### Exercise 9\n",
    "\n",
    "Use evolutionary search algorithm to find the best parameters using scikit-learn:\n",
    "1. Set estimator to SVC and param_distribution to the parameters given above. \n",
    "2. Use StratifiedKFold cross validation with n_splits = 2. \n",
    "3. Use \"accuracy\" as the scoring metric.\n",
    "4. Set population_size to 10, gene_mutation_prob to 0.10 and tournament_size to 3.\n",
    "5. Set generations_number to 10."
   ]
  },
  {
   "cell_type": "code",
   "execution_count": 20,
   "metadata": {
    "deletable": false,
    "nbgrader": {
     "checksum": "bbb6fb4a852c04b2730a8372d676160c",
     "grade": false,
     "grade_id": "cell-246ac94c9dfee6e0",
     "locked": false,
     "schema_version": 1,
     "solution": true
    }
   },
   "outputs": [
    {
     "name": "stdout",
     "output_type": "stream",
     "text": [
      "CPU times: user 7.26 s, sys: 0 ns, total: 7.26 s\n",
      "Wall time: 7.26 s\n"
     ]
    }
   ],
   "source": [
    "cv = None\n",
    "\n",
    "# YOUR CODE HERE\n",
    "cv = EvolutionaryAlgorithmSearchCV(SVC(),params = param_grid, scoring=\"accuracy\", cv=StratifiedKFold(n_splits=2),population_size=10, gene_mutation_prob=0.10, tournament_size=3, generations_number=10)\n",
    "%time cv.fit(X, y)"
   ]
  },
  {
   "cell_type": "code",
   "execution_count": 21,
   "metadata": {
    "deletable": false,
    "editable": false,
    "nbgrader": {
     "checksum": "bb48663aa7756dd5e1a27b70e0b17266",
     "grade": true,
     "grade_id": "cell-f5c85942ca7f89a6",
     "locked": true,
     "points": 1,
     "schema_version": 1,
     "solution": false
    }
   },
   "outputs": [],
   "source": [
    "#### INTENTIONALLY LEFT BLANK####"
   ]
  },
  {
   "cell_type": "markdown",
   "metadata": {},
   "source": [
    "### Exercise 10\n",
    "\n",
    "Find the best score and best parameters choosen by evolutionary search algorithm."
   ]
  },
  {
   "cell_type": "code",
   "execution_count": 22,
   "metadata": {
    "deletable": false,
    "nbgrader": {
     "checksum": "3e56ade1283beae7f13c826b218c6122",
     "grade": false,
     "grade_id": "cell-44fe4ffec0947a2b",
     "locked": false,
     "schema_version": 1,
     "solution": true
    }
   },
   "outputs": [
    {
     "name": "stdout",
     "output_type": "stream",
     "text": [
      "0.9543683917640512\n",
      "{'C': 1.0, 'gamma': 0.00031622776601683794}\n"
     ]
    }
   ],
   "source": [
    "best_score = None\n",
    "best_params = None\n",
    "\n",
    "# YOUR CODE HERE\n",
    "best_score = cv.best_score_\n",
    "best_params = cv.best_params_\n",
    "\n",
    "print(best_score)\n",
    "print(best_params)"
   ]
  },
  {
   "cell_type": "code",
   "execution_count": 23,
   "metadata": {
    "deletable": false,
    "editable": false,
    "nbgrader": {
     "checksum": "8ec39fd79c37c7e327340abf6db4591b",
     "grade": true,
     "grade_id": "cell-52ffe89b870e4057",
     "locked": true,
     "points": 1,
     "schema_version": 1,
     "solution": false
    }
   },
   "outputs": [],
   "source": [
    "#### INTENTIONALLY LEFT BLANK####"
   ]
  },
  {
   "cell_type": "markdown",
   "metadata": {
    "deletable": false,
    "editable": false,
    "nbgrader": {
     "checksum": "9e33141eece52393457918778ae1a4ee",
     "grade": false,
     "grade_id": "cell-6b4c39ace98366ad",
     "locked": true,
     "schema_version": 1,
     "solution": false
    }
   },
   "source": [
    "You might have observe the increase in speed while using evolutionary search over grid search and random search. This is why evolutionary search are more popular these days."
   ]
  },
  {
   "cell_type": "markdown",
   "metadata": {
    "deletable": false,
    "editable": false,
    "nbgrader": {
     "checksum": "6c07c31250ebae26e38e8f43cec99532",
     "grade": false,
     "grade_id": "cell-b176da2b76eb7fae",
     "locked": true,
     "schema_version": 1,
     "solution": false
    }
   },
   "source": [
    "Congratulations, you have implemented grid search, random search and evolutionary search on the mnist digits dataset."
   ]
  }
 ],
 "metadata": {
  "kernelspec": {
   "display_name": "Python 3",
   "language": "python",
   "name": "python3"
  },
  "language_info": {
   "codemirror_mode": {
    "name": "ipython",
    "version": 3
   },
   "file_extension": ".py",
   "mimetype": "text/x-python",
   "name": "python",
   "nbconvert_exporter": "python",
   "pygments_lexer": "ipython3",
   "version": "3.6.8"
  }
 },
 "nbformat": 4,
 "nbformat_minor": 2
}
